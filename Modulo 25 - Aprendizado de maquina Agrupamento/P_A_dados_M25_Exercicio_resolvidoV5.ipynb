{
  "cells": [
    {
      "cell_type": "markdown",
      "metadata": {
        "id": "KJqp9AANOCtf"
      },
      "source": [
        "<img src=\"https://raw.githubusercontent.com/andre-marcos-perez/ebac-course-utils/main/media/logo/newebac_logo_black_half.png\" alt=\"ebac-logo\">\n",
        "\n",
        "---\n",
        "\n",
        "# **Módulo** | Análise de Dados: Aprendizado de Máquina, Agrupamento\n",
        "Caderno de **Exercícios**<br>\n",
        "Professor [André Perez](https://www.linkedin.com/in/andremarcosperez/)\n",
        "\n",
        "---"
      ]
    },
    {
      "cell_type": "markdown",
      "metadata": {
        "id": "d9jDtUbDOE1-"
      },
      "source": [
        "# **Tópicos**\n",
        "\n",
        "<ol type=\"1\">\n",
        "  <li>Agrupamento;</li>\n",
        "  <li>Dados;</li>\n",
        "  <li>Treino;</li>\n",
        "  <li>Avaliação;</li>\n",
        "  <li>Predição.</li>\n",
        "</ol>"
      ]
    },
    {
      "cell_type": "markdown",
      "metadata": {
        "id": "SmoHgt-lwkpD"
      },
      "source": [
        "---"
      ]
    },
    {
      "cell_type": "markdown",
      "metadata": {
        "id": "GABI6OW8OfQ2"
      },
      "source": [
        "# **Exercícios**"
      ]
    },
    {
      "cell_type": "markdown",
      "metadata": {
        "id": "kzRDceCvkFj2"
      },
      "source": [
        "## 1\\. Pinguins"
      ]
    },
    {
      "cell_type": "markdown",
      "metadata": {
        "id": "WCQi-s0Hpd5V"
      },
      "source": [
        "Neste exercício, vamos utilizar uma base de dados com informações sobre flores do gênero iris. A idéia é agrupar as flores de acordo com suas características físicas (variáveis preditivas). Lembre-se das aulas, nós já temos uma idéia dos agrupamentos."
      ]
    },
    {
      "cell_type": "code",
      "execution_count": 5,
      "metadata": {
        "id": "lblH8kIXzPZZ"
      },
      "outputs": [],
      "source": [
        "import sklearn\n",
        "import numpy as np\n",
        "import pandas as pd\n",
        "import seaborn as sns\n",
        "import matplotlib.pyplot as plt\n",
        "\n",
        "\n",
        "from sklearn.cluster import KMeans"
      ]
    },
    {
      "cell_type": "code",
      "execution_count": 6,
      "metadata": {
        "id": "zPyNKCoTbkGL"
      },
      "outputs": [],
      "source": [
        "model = KMeans()"
      ]
    },
    {
      "cell_type": "code",
      "execution_count": 36,
      "metadata": {
        "id": "VR3UdrrQgJ4K"
      },
      "outputs": [],
      "source": [
        "iris = sns.load_dataset('iris')\n",
        "especies_resposta = iris['species']"
      ]
    },
    {
      "cell_type": "code",
      "source": [
        "especies_resposta.head()"
      ],
      "metadata": {
        "id": "Rt650vDteLyw"
      },
      "execution_count": null,
      "outputs": []
    },
    {
      "cell_type": "code",
      "source": [
        "iris = iris.drop(['species'], axis=1)"
      ],
      "metadata": {
        "id": "ZXaY9tTQd8-h"
      },
      "execution_count": null,
      "outputs": []
    },
    {
      "cell_type": "code",
      "execution_count": null,
      "metadata": {
        "id": "znk9Z9TLgTGP"
      },
      "outputs": [],
      "source": [
        "iris.head(1)"
      ]
    },
    {
      "cell_type": "markdown",
      "metadata": {
        "id": "dYTwDjt1Jnn0"
      },
      "source": [
        "### **1.1. Analise exploratoria**"
      ]
    },
    {
      "cell_type": "markdown",
      "metadata": {
        "id": "QHA3Z9E9LHbK"
      },
      "source": [
        "Utilize os gráficos abaixo para entender melhor a relação entre os atributos da base de dados. Comente o que observou no gráfico."
      ]
    },
    {
      "cell_type": "markdown",
      "metadata": {
        "id": "PQWtF5piLYTl"
      },
      "source": [
        " - Atributos preditivos:"
      ]
    },
    {
      "cell_type": "code",
      "execution_count": null,
      "metadata": {
        "id": "Hf6ekDf1JkNN"
      },
      "outputs": [],
      "source": [
        "with sns.axes_style('whitegrid'):\n",
        "\n",
        "  grafico = sns.pairplot(data=iris, palette=\"pastel\")"
      ]
    },
    {
      "cell_type": "markdown",
      "metadata": {
        "id": "UQzY1c1XLhNA"
      },
      "source": [
        "**Comentário:** ?"
      ]
    },
    {
      "cell_type": "markdown",
      "metadata": {
        "id": "RDQqSdrWHY78"
      },
      "source": [
        "## 2\\. Dados"
      ]
    },
    {
      "cell_type": "markdown",
      "metadata": {
        "id": "HrTLgE0tki6P"
      },
      "source": [
        "### **2.1. Valores nulos**"
      ]
    },
    {
      "cell_type": "markdown",
      "metadata": {
        "id": "8JmRsG6K8SPd"
      },
      "source": [
        "Avalie se a base de dados possui valores faltantes, se sim, utilize os conceitos da aula para trata-los."
      ]
    },
    {
      "cell_type": "code",
      "execution_count": 10,
      "metadata": {
        "id": "8kyhQS748SPf",
        "colab": {
          "base_uri": "https://localhost:8080/"
        },
        "outputId": "fc79df1c-8fe5-440c-d68e-1b239fdbb6d5"
      },
      "outputs": [
        {
          "output_type": "stream",
          "name": "stdout",
          "text": [
            "sepal_length    False\n",
            "sepal_width     False\n",
            "petal_length    False\n",
            "petal_width     False\n",
            "dtype: bool\n"
          ]
        }
      ],
      "source": [
        "# resposta da questão 2.1\n",
        "\n",
        "dados_faltantes_iris = iris.isnull().any()\n",
        "print(dados_faltantes_iris)"
      ]
    },
    {
      "cell_type": "markdown",
      "metadata": {
        "id": "9YtwYCuk8SPU"
      },
      "source": [
        "### **2.2. Variáveis numéricas**"
      ]
    },
    {
      "cell_type": "markdown",
      "metadata": {
        "id": "7tIjNOs8q6aZ"
      },
      "source": [
        "Identifique se existe a necessidade de escalar as variáveis numéricas. Se sim, crie uma nova coluna **padronizando** seus valores. A nova coluna deve ter o mesmo nome da coluna original acrescidade de \"*_std*\"."
      ]
    },
    {
      "cell_type": "markdown",
      "metadata": {
        "id": "QchO_rKR8tyx"
      },
      "source": [
        "> **Nota**: Você não deve tratar a variável resposta."
      ]
    },
    {
      "cell_type": "code",
      "execution_count": 11,
      "metadata": {
        "id": "44uCrylibkGN"
      },
      "outputs": [],
      "source": [
        "# resposta da questão 2.2\n",
        "# funçao de padronizasao\n",
        "\n",
        "def padronizando (df_nomecol):\n",
        "\n",
        "    mean_df = df_nomecol.mean()\n",
        "    std_df = df_nomecol.std()\n",
        "    df_nomecol = df_nomecol.apply(lambda n : (n - mean_df) / std_df)\n",
        "\n",
        "    dt_teste  = df_nomecol\n",
        "    dt_teste = dt_teste.to_frame()\n",
        "    dt_teste.columns = [str(col) + '_std' for col in dt_teste.columns ]\n",
        "\n",
        "    return dt_teste"
      ]
    },
    {
      "cell_type": "code",
      "execution_count": 12,
      "metadata": {
        "id": "MzBJD3EbbkGO"
      },
      "outputs": [],
      "source": [
        "# aplicando a funcao nas colunas\n",
        "sl_serie = padronizando(iris['sepal_length'])\n",
        "sw_serie = padronizando(iris['sepal_width'])\n",
        "pl_serie = padronizando(iris['petal_length'])\n",
        "pw_serie = padronizando(iris['petal_width'])\n"
      ]
    },
    {
      "cell_type": "code",
      "execution_count": 13,
      "metadata": {
        "id": "5gh70aivbkGO"
      },
      "outputs": [],
      "source": [
        "# juntando as colunas padronizadas ao df\n",
        "df = pd.concat([iris, sl_serie,sw_serie,pl_serie, pw_serie], axis=1)"
      ]
    },
    {
      "cell_type": "markdown",
      "metadata": {
        "id": "AvkcQD9E9DGE"
      },
      "source": [
        "### **2.3. Limpeza**"
      ]
    },
    {
      "cell_type": "markdown",
      "metadata": {
        "id": "D03kCy8-9DGE"
      },
      "source": [
        "Caso você tenha escalado suas variáveis, descarte as colunas originais e mantenha apenas as variáveis preditivas com o sufixo *_std*\", *_nom*\" e \"*_ord*\"."
      ]
    },
    {
      "cell_type": "code",
      "execution_count": 14,
      "metadata": {
        "id": "TuEOO6009DGE",
        "colab": {
          "base_uri": "https://localhost:8080/",
          "height": 81
        },
        "outputId": "f3ec5a79-940f-4db0-c495-995b7fc75530"
      },
      "outputs": [
        {
          "output_type": "execute_result",
          "data": {
            "text/plain": [
              "   sepal_length_std  sepal_width_std  petal_length_std  petal_width_std\n",
              "0         -0.897674         1.015602         -1.335752        -1.311052"
            ],
            "text/html": [
              "\n",
              "  <div id=\"df-ce4498c3-b9b3-4a56-9cc5-d09bc3d74ace\" class=\"colab-df-container\">\n",
              "    <div>\n",
              "<style scoped>\n",
              "    .dataframe tbody tr th:only-of-type {\n",
              "        vertical-align: middle;\n",
              "    }\n",
              "\n",
              "    .dataframe tbody tr th {\n",
              "        vertical-align: top;\n",
              "    }\n",
              "\n",
              "    .dataframe thead th {\n",
              "        text-align: right;\n",
              "    }\n",
              "</style>\n",
              "<table border=\"1\" class=\"dataframe\">\n",
              "  <thead>\n",
              "    <tr style=\"text-align: right;\">\n",
              "      <th></th>\n",
              "      <th>sepal_length_std</th>\n",
              "      <th>sepal_width_std</th>\n",
              "      <th>petal_length_std</th>\n",
              "      <th>petal_width_std</th>\n",
              "    </tr>\n",
              "  </thead>\n",
              "  <tbody>\n",
              "    <tr>\n",
              "      <th>0</th>\n",
              "      <td>-0.897674</td>\n",
              "      <td>1.015602</td>\n",
              "      <td>-1.335752</td>\n",
              "      <td>-1.311052</td>\n",
              "    </tr>\n",
              "  </tbody>\n",
              "</table>\n",
              "</div>\n",
              "    <div class=\"colab-df-buttons\">\n",
              "\n",
              "  <div class=\"colab-df-container\">\n",
              "    <button class=\"colab-df-convert\" onclick=\"convertToInteractive('df-ce4498c3-b9b3-4a56-9cc5-d09bc3d74ace')\"\n",
              "            title=\"Convert this dataframe to an interactive table.\"\n",
              "            style=\"display:none;\">\n",
              "\n",
              "  <svg xmlns=\"http://www.w3.org/2000/svg\" height=\"24px\" viewBox=\"0 -960 960 960\">\n",
              "    <path d=\"M120-120v-720h720v720H120Zm60-500h600v-160H180v160Zm220 220h160v-160H400v160Zm0 220h160v-160H400v160ZM180-400h160v-160H180v160Zm440 0h160v-160H620v160ZM180-180h160v-160H180v160Zm440 0h160v-160H620v160Z\"/>\n",
              "  </svg>\n",
              "    </button>\n",
              "\n",
              "  <style>\n",
              "    .colab-df-container {\n",
              "      display:flex;\n",
              "      gap: 12px;\n",
              "    }\n",
              "\n",
              "    .colab-df-convert {\n",
              "      background-color: #E8F0FE;\n",
              "      border: none;\n",
              "      border-radius: 50%;\n",
              "      cursor: pointer;\n",
              "      display: none;\n",
              "      fill: #1967D2;\n",
              "      height: 32px;\n",
              "      padding: 0 0 0 0;\n",
              "      width: 32px;\n",
              "    }\n",
              "\n",
              "    .colab-df-convert:hover {\n",
              "      background-color: #E2EBFA;\n",
              "      box-shadow: 0px 1px 2px rgba(60, 64, 67, 0.3), 0px 1px 3px 1px rgba(60, 64, 67, 0.15);\n",
              "      fill: #174EA6;\n",
              "    }\n",
              "\n",
              "    .colab-df-buttons div {\n",
              "      margin-bottom: 4px;\n",
              "    }\n",
              "\n",
              "    [theme=dark] .colab-df-convert {\n",
              "      background-color: #3B4455;\n",
              "      fill: #D2E3FC;\n",
              "    }\n",
              "\n",
              "    [theme=dark] .colab-df-convert:hover {\n",
              "      background-color: #434B5C;\n",
              "      box-shadow: 0px 1px 3px 1px rgba(0, 0, 0, 0.15);\n",
              "      filter: drop-shadow(0px 1px 2px rgba(0, 0, 0, 0.3));\n",
              "      fill: #FFFFFF;\n",
              "    }\n",
              "  </style>\n",
              "\n",
              "    <script>\n",
              "      const buttonEl =\n",
              "        document.querySelector('#df-ce4498c3-b9b3-4a56-9cc5-d09bc3d74ace button.colab-df-convert');\n",
              "      buttonEl.style.display =\n",
              "        google.colab.kernel.accessAllowed ? 'block' : 'none';\n",
              "\n",
              "      async function convertToInteractive(key) {\n",
              "        const element = document.querySelector('#df-ce4498c3-b9b3-4a56-9cc5-d09bc3d74ace');\n",
              "        const dataTable =\n",
              "          await google.colab.kernel.invokeFunction('convertToInteractive',\n",
              "                                                    [key], {});\n",
              "        if (!dataTable) return;\n",
              "\n",
              "        const docLinkHtml = 'Like what you see? Visit the ' +\n",
              "          '<a target=\"_blank\" href=https://colab.research.google.com/notebooks/data_table.ipynb>data table notebook</a>'\n",
              "          + ' to learn more about interactive tables.';\n",
              "        element.innerHTML = '';\n",
              "        dataTable['output_type'] = 'display_data';\n",
              "        await google.colab.output.renderOutput(dataTable, element);\n",
              "        const docLink = document.createElement('div');\n",
              "        docLink.innerHTML = docLinkHtml;\n",
              "        element.appendChild(docLink);\n",
              "      }\n",
              "    </script>\n",
              "  </div>\n",
              "\n",
              "\n",
              "    </div>\n",
              "  </div>\n"
            ]
          },
          "metadata": {},
          "execution_count": 14
        }
      ],
      "source": [
        "# resposta da questão 2.3\n",
        "iris_df = df.drop( ['sepal_length','sepal_width','petal_length', 'petal_width'],axis=1)\n",
        "iris_df.head(n=1)"
      ]
    },
    {
      "cell_type": "markdown",
      "metadata": {
        "id": "yBRWrgn1L8dR"
      },
      "source": [
        "## 3\\. Modelagem"
      ]
    },
    {
      "cell_type": "markdown",
      "metadata": {
        "id": "mJMHdFTQL2LS"
      },
      "source": [
        "### **3.1. Treino**"
      ]
    },
    {
      "cell_type": "markdown",
      "metadata": {
        "id": "3la9bf31L2LT"
      },
      "source": [
        "Treine 10 modelos de **k-médias** variando o número de clusters de 1 a 10. Para cada modelo treinado, salve o valor global do **wcss** em uma lista."
      ]
    },
    {
      "cell_type": "code",
      "execution_count": null,
      "metadata": {
        "id": "gXVuVyJzL2LU"
      },
      "outputs": [],
      "source": [
        "# resposta da questão 3.1\n",
        "wcss = []\n",
        "\n",
        "for k in range(1,11):\n",
        "\n",
        "    model = KMeans(n_clusters=k)\n",
        "    model = model.fit(iris_df)\n",
        "    wcss.append(model.inertia_)"
      ]
    },
    {
      "cell_type": "markdown",
      "metadata": {
        "id": "KysDfb74Mav_"
      },
      "source": [
        "### **3.2. Avaliação**"
      ]
    },
    {
      "cell_type": "markdown",
      "metadata": {
        "id": "AGPKGSpFMawA"
      },
      "source": [
        "Gere um gráfico de linha dos valores do **wcss** pelo **número de clusters**. Utilize o método do cotovelo para decidir o número final de clusters."
      ]
    },
    {
      "cell_type": "code",
      "execution_count": null,
      "metadata": {
        "id": "01FCw7iEMawB"
      },
      "outputs": [],
      "source": [
        "# resposta da questão 3.2\n",
        "\n",
        "with sns.axes_style('whitegrid'):\n",
        "\n",
        "  grafico = sns.lineplot(x=range(1, 11), y=wcss, marker=\"8\", palette=\"pastel\")\n",
        "  grafico.set(title='Método do Cotovelo', ylabel='WCSS', xlabel='Qtd. clusters')"
      ]
    },
    {
      "cell_type": "markdown",
      "metadata": {
        "id": "hgIITnA9oepn"
      },
      "source": [
        "### **3.3. Visualização**"
      ]
    },
    {
      "cell_type": "markdown",
      "metadata": {
        "id": "KlTqXm0goeps"
      },
      "source": [
        "**a)** Utilizando o número de clusters final, adicione uma coluna chamada **cluster** no dataframe **iris** com o número do cluster que cada flor foi alocada."
      ]
    },
    {
      "cell_type": "code",
      "source": [
        "# O nomero de cluster ideal são 3\n",
        "model = KMeans(n_clusters=3)\n",
        "model = model.fit(iris_df)\n",
        "\n",
        "model.__dict__"
      ],
      "metadata": {
        "id": "bTGod0rEccPR"
      },
      "execution_count": null,
      "outputs": []
    },
    {
      "cell_type": "code",
      "execution_count": 70,
      "metadata": {
        "id": "NHBp0NFroept"
      },
      "outputs": [],
      "source": [
        "# resposta da questão 3.3.a\n",
        "\n",
        "clusters  = model.labels_\n",
        "clusters = pd.DataFrame(clusters, columns = ['cluster'])\n",
        "\n",
        "clusterado = pd.concat([iris_df,clusters], axis=1)"
      ]
    },
    {
      "cell_type": "code",
      "source": [
        "# testando hipoteses essa parte não e o pedido para responder a atividade não\n",
        "# lavr em consideração .\n",
        "result_iris_especies =  pd.concat([clusterado,especies_resposta], axis=1)\n",
        "result_iris_especies['Classificado'] = clusterado['cluster'].replace({0: 'A', 1: 'B', 2: 'C'})\n",
        "\n",
        "result_iris_especies.tail(1)\n"
      ],
      "metadata": {
        "id": "pRbieqaDjR5q"
      },
      "execution_count": null,
      "outputs": []
    },
    {
      "cell_type": "code",
      "source": [
        "clusterado.tail()"
      ],
      "metadata": {
        "id": "Iu5366S-e9gx"
      },
      "execution_count": null,
      "outputs": []
    },
    {
      "cell_type": "markdown",
      "metadata": {
        "id": "djWNwjHQpAqQ"
      },
      "source": [
        "**b)** Gere a mesma visualização da sessão 1.1, agora passando como atributo **hue** a coluna **cluster**. Comente os resultados com base no valor esperado do número de clusters."
      ]
    },
    {
      "cell_type": "code",
      "execution_count": null,
      "metadata": {
        "id": "4F-PhXtYpAqS"
      },
      "outputs": [],
      "source": [
        "# resposta da questão 3.3.b\n",
        "with sns.axes_style('whitegrid'):\n",
        "\n",
        "    gf = sns.pairplot(data=clusterado, hue='cluster',palette='pastel')\n",
        "\n",
        "\n",
        "\"\"\"\n",
        "with sns.axes_style('whitegrid'):\n",
        "\n",
        "    # como levar somente algumas colunas em consideração ao plotar o grafico!\n",
        "    colunas_usadas = ['sepal_length_std','sepal_width_std','petal_length_std','petal_width_std','species']\n",
        "\n",
        "    gf = sns.pairplot(data=result_iris_especies[colunas_usadas], hue='species',palette='pastel')\n",
        "\n",
        "\"\"\""
      ]
    },
    {
      "cell_type": "markdown",
      "metadata": {
        "id": "d9oMsaFfpW8U"
      },
      "source": [
        "**Comentário:** ?"
      ]
    },
    {
      "cell_type": "markdown",
      "metadata": {
        "id": "f2G0LAZ1Mfrk"
      },
      "source": [
        "## 4\\. Predição  "
      ]
    },
    {
      "cell_type": "markdown",
      "metadata": {
        "id": "71EeKkThMnbD"
      },
      "source": [
        "### **4.1. Nova flor**"
      ]
    },
    {
      "cell_type": "markdown",
      "metadata": {
        "id": "JZfFc-OyMfrm"
      },
      "source": [
        "Em qual cluster a flor abaixo seria alocada?\n"
      ]
    },
    {
      "cell_type": "markdown",
      "metadata": {
        "id": "P0Q-QJ-CM099"
      },
      "source": [
        "| sepal_length\t| sepal_width | petal_length | petal_width |\n",
        "| --- | --- | --- | --- |\n",
        "| 5.1 | 3.5 | 1.4 | 0.2 |"
      ]
    },
    {
      "cell_type": "markdown",
      "metadata": {
        "id": "IbUFEJGGNBpD"
      },
      "source": [
        "> **Atenção:** Lembre-se de pre-processar os atributos assim como nos exercício 2.2."
      ]
    },
    {
      "cell_type": "code",
      "execution_count": 21,
      "metadata": {
        "id": "ZA85zyo9bkGR"
      },
      "outputs": [],
      "source": [
        "# padronização das colunas.\n",
        "\n",
        "md_sp = iris['sepal_length'].mean()\n",
        "md_sw = iris['sepal_width'].mean()\n",
        "md_pl = iris['petal_length'].mean()\n",
        "md_pw = iris['petal_width'].mean()\n",
        "\n",
        "dp_sp = iris['sepal_length'].std()\n",
        "dp_sw = iris['sepal_width'].std()\n",
        "dp_pl = iris['petal_length'].std()\n",
        "dp_pw = iris['petal_width'].std()"
      ]
    },
    {
      "cell_type": "code",
      "execution_count": 23,
      "metadata": {
        "id": "t0dPBLw9Mfrm"
      },
      "outputs": [],
      "source": [
        "# resposta da questão 4.1\n",
        "\n",
        "sepal_length_var = (5.1 - md_sp) / dp_sp\n",
        "sepal_width_var = (3.5 - md_sw) / dp_sw\n",
        "petal_length_var = (1.4 - md_pl)/ dp_pl\n",
        "petal_width_var = (0.2 - md_pw)/ dp_pw\n",
        "\n",
        "\n",
        "ex = [sepal_length_var,sepal_width_var,petal_length_var,petal_width_var]\n",
        "\n",
        "ex_array = np.array(ex)\n",
        "\n"
      ]
    },
    {
      "cell_type": "code",
      "execution_count": 73,
      "metadata": {
        "colab": {
          "base_uri": "https://localhost:8080/"
        },
        "id": "SI8rXyH-bkGS",
        "outputId": "fd2bd41f-9904-4637-9f27-c3bba10990b3"
      },
      "outputs": [
        {
          "output_type": "stream",
          "name": "stdout",
          "text": [
            "No resultado final essa nova flora seria alocada no Cluster: [0]\n"
          ]
        },
        {
          "output_type": "stream",
          "name": "stderr",
          "text": [
            "/usr/local/lib/python3.10/dist-packages/sklearn/base.py:439: UserWarning: X does not have valid feature names, but KMeans was fitted with feature names\n",
            "  warnings.warn(\n"
          ]
        }
      ],
      "source": [
        "# no resultado final essa Nova flora seria alocada no Cluster \"0\"\n",
        "# ou como classifiquei assima com \"A\".\n",
        "\n",
        "predicao_cluster = model.predict(ex_array.reshape(1,-1))\n",
        "print(f'No resultado final essa nova flora seria alocada no Cluster: {predicao_cluster}')"
      ]
    },
    {
      "cell_type": "markdown",
      "metadata": {
        "id": "waxn4B2UDHyl"
      },
      "source": [
        "---"
      ]
    }
  ],
  "metadata": {
    "colab": {
      "provenance": []
    },
    "kernelspec": {
      "display_name": "Python 3",
      "name": "python3"
    },
    "language_info": {
      "codemirror_mode": {
        "name": "ipython",
        "version": 3
      },
      "file_extension": ".py",
      "mimetype": "text/x-python",
      "name": "python",
      "nbconvert_exporter": "python",
      "pygments_lexer": "ipython3",
      "version": "3.11.2"
    }
  },
  "nbformat": 4,
  "nbformat_minor": 0
}