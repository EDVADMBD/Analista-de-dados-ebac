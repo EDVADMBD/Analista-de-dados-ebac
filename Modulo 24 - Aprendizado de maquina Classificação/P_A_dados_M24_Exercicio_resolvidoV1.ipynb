{
  "cells": [
    {
      "cell_type": "markdown",
      "metadata": {
        "id": "KJqp9AANOCtf"
      },
      "source": [
        "<img src=\"https://raw.githubusercontent.com/andre-marcos-perez/ebac-course-utils/main/media/logo/newebac_logo_black_half.png\" alt=\"ebac-logo\">\n",
        "\n",
        "---\n",
        "\n",
        "# **Módulo** | Análise de Dados: Aprendizado de Máquina, Classificação\n",
        "Caderno de **Exercícios**<br>\n",
        "Professor [André Perez](https://www.linkedin.com/in/andremarcosperez/)\n",
        "\n",
        "---"
      ]
    },
    {
      "cell_type": "markdown",
      "metadata": {
        "id": "d9jDtUbDOE1-"
      },
      "source": [
        "# **Tópicos**\n",
        "\n",
        "<ol type=\"1\">\n",
        "  <li>Classificação;</li>\n",
        "  <li>Dados;</li>\n",
        "  <li>Treino;</li>\n",
        "  <li>Avaliação;</li>\n",
        "  <li>Predição.</li>\n",
        "</ol>"
      ]
    },
    {
      "cell_type": "markdown",
      "metadata": {
        "id": "SmoHgt-lwkpD"
      },
      "source": [
        "---"
      ]
    },
    {
      "cell_type": "markdown",
      "metadata": {
        "id": "GABI6OW8OfQ2"
      },
      "source": [
        "# **Exercícios**"
      ]
    },
    {
      "cell_type": "markdown",
      "metadata": {
        "id": "kzRDceCvkFj2"
      },
      "source": [
        "## 1\\. Pinguins"
      ]
    },
    {
      "cell_type": "markdown",
      "metadata": {
        "id": "WCQi-s0Hpd5V"
      },
      "source": [
        "Neste exercício, vamos utilizar uma base de dados com informações sobre penguins. A idéia é prever a espécie do penguin (**species**) baseado em suas características físicas e geográficas (variáveis preditivas)."
      ]
    },
    {
      "cell_type": "code",
      "execution_count": 55,
      "metadata": {
        "id": "lblH8kIXzPZZ"
      },
      "outputs": [],
      "source": [
        "import sklearn\n",
        "import graphviz\n",
        "import numpy as np\n",
        "import pandas as pd\n",
        "import seaborn as sns\n",
        "import matplotlib.pyplot as plt\n",
        "\n",
        "\n",
        "from sklearn import tree\n",
        "from sklearn.tree import DecisionTreeClassifier\n",
        "from sklearn.metrics import confusion_matrix\n",
        "from sklearn.metrics import mean_squared_error\n",
        "from sklearn.metrics import accuracy_score\n",
        "from sklearn.model_selection import train_test_split"
      ]
    },
    {
      "cell_type": "code",
      "execution_count": 56,
      "metadata": {
        "id": "Ft1YSaJKK_Rc"
      },
      "outputs": [],
      "source": [
        "model = DecisionTreeClassifier()"
      ]
    },
    {
      "cell_type": "code",
      "execution_count": 57,
      "metadata": {
        "id": "VR3UdrrQgJ4K"
      },
      "outputs": [],
      "source": [
        "penguim = sns.load_dataset('penguins')"
      ]
    },
    {
      "cell_type": "code",
      "execution_count": 58,
      "metadata": {
        "colab": {
          "base_uri": "https://localhost:8080/",
          "height": 81
        },
        "id": "znk9Z9TLgTGP",
        "outputId": "20e2c85e-011b-4c5a-d831-13595ef3460d"
      },
      "outputs": [
        {
          "data": {
            "text/html": [
              "\n",
              "  <div id=\"df-06bc808e-d70a-4ce2-a349-14ee68c96e13\" class=\"colab-df-container\">\n",
              "    <div>\n",
              "<style scoped>\n",
              "    .dataframe tbody tr th:only-of-type {\n",
              "        vertical-align: middle;\n",
              "    }\n",
              "\n",
              "    .dataframe tbody tr th {\n",
              "        vertical-align: top;\n",
              "    }\n",
              "\n",
              "    .dataframe thead th {\n",
              "        text-align: right;\n",
              "    }\n",
              "</style>\n",
              "<table border=\"1\" class=\"dataframe\">\n",
              "  <thead>\n",
              "    <tr style=\"text-align: right;\">\n",
              "      <th></th>\n",
              "      <th>species</th>\n",
              "      <th>island</th>\n",
              "      <th>bill_length_mm</th>\n",
              "      <th>bill_depth_mm</th>\n",
              "      <th>flipper_length_mm</th>\n",
              "      <th>body_mass_g</th>\n",
              "      <th>sex</th>\n",
              "    </tr>\n",
              "  </thead>\n",
              "  <tbody>\n",
              "    <tr>\n",
              "      <th>0</th>\n",
              "      <td>Adelie</td>\n",
              "      <td>Torgersen</td>\n",
              "      <td>39.1</td>\n",
              "      <td>18.7</td>\n",
              "      <td>181.0</td>\n",
              "      <td>3750.0</td>\n",
              "      <td>Male</td>\n",
              "    </tr>\n",
              "  </tbody>\n",
              "</table>\n",
              "</div>\n",
              "    <div class=\"colab-df-buttons\">\n",
              "\n",
              "  <div class=\"colab-df-container\">\n",
              "    <button class=\"colab-df-convert\" onclick=\"convertToInteractive('df-06bc808e-d70a-4ce2-a349-14ee68c96e13')\"\n",
              "            title=\"Convert this dataframe to an interactive table.\"\n",
              "            style=\"display:none;\">\n",
              "\n",
              "  <svg xmlns=\"http://www.w3.org/2000/svg\" height=\"24px\" viewBox=\"0 -960 960 960\">\n",
              "    <path d=\"M120-120v-720h720v720H120Zm60-500h600v-160H180v160Zm220 220h160v-160H400v160Zm0 220h160v-160H400v160ZM180-400h160v-160H180v160Zm440 0h160v-160H620v160ZM180-180h160v-160H180v160Zm440 0h160v-160H620v160Z\"/>\n",
              "  </svg>\n",
              "    </button>\n",
              "\n",
              "  <style>\n",
              "    .colab-df-container {\n",
              "      display:flex;\n",
              "      gap: 12px;\n",
              "    }\n",
              "\n",
              "    .colab-df-convert {\n",
              "      background-color: #E8F0FE;\n",
              "      border: none;\n",
              "      border-radius: 50%;\n",
              "      cursor: pointer;\n",
              "      display: none;\n",
              "      fill: #1967D2;\n",
              "      height: 32px;\n",
              "      padding: 0 0 0 0;\n",
              "      width: 32px;\n",
              "    }\n",
              "\n",
              "    .colab-df-convert:hover {\n",
              "      background-color: #E2EBFA;\n",
              "      box-shadow: 0px 1px 2px rgba(60, 64, 67, 0.3), 0px 1px 3px 1px rgba(60, 64, 67, 0.15);\n",
              "      fill: #174EA6;\n",
              "    }\n",
              "\n",
              "    .colab-df-buttons div {\n",
              "      margin-bottom: 4px;\n",
              "    }\n",
              "\n",
              "    [theme=dark] .colab-df-convert {\n",
              "      background-color: #3B4455;\n",
              "      fill: #D2E3FC;\n",
              "    }\n",
              "\n",
              "    [theme=dark] .colab-df-convert:hover {\n",
              "      background-color: #434B5C;\n",
              "      box-shadow: 0px 1px 3px 1px rgba(0, 0, 0, 0.15);\n",
              "      filter: drop-shadow(0px 1px 2px rgba(0, 0, 0, 0.3));\n",
              "      fill: #FFFFFF;\n",
              "    }\n",
              "  </style>\n",
              "\n",
              "    <script>\n",
              "      const buttonEl =\n",
              "        document.querySelector('#df-06bc808e-d70a-4ce2-a349-14ee68c96e13 button.colab-df-convert');\n",
              "      buttonEl.style.display =\n",
              "        google.colab.kernel.accessAllowed ? 'block' : 'none';\n",
              "\n",
              "      async function convertToInteractive(key) {\n",
              "        const element = document.querySelector('#df-06bc808e-d70a-4ce2-a349-14ee68c96e13');\n",
              "        const dataTable =\n",
              "          await google.colab.kernel.invokeFunction('convertToInteractive',\n",
              "                                                    [key], {});\n",
              "        if (!dataTable) return;\n",
              "\n",
              "        const docLinkHtml = 'Like what you see? Visit the ' +\n",
              "          '<a target=\"_blank\" href=https://colab.research.google.com/notebooks/data_table.ipynb>data table notebook</a>'\n",
              "          + ' to learn more about interactive tables.';\n",
              "        element.innerHTML = '';\n",
              "        dataTable['output_type'] = 'display_data';\n",
              "        await google.colab.output.renderOutput(dataTable, element);\n",
              "        const docLink = document.createElement('div');\n",
              "        docLink.innerHTML = docLinkHtml;\n",
              "        element.appendChild(docLink);\n",
              "      }\n",
              "    </script>\n",
              "  </div>\n",
              "\n",
              "\n",
              "    </div>\n",
              "  </div>\n"
            ],
            "text/plain": [
              "  species     island  bill_length_mm  bill_depth_mm  flipper_length_mm  \\\n",
              "0  Adelie  Torgersen            39.1           18.7              181.0   \n",
              "\n",
              "   body_mass_g   sex  \n",
              "0       3750.0  Male  "
            ]
          },
          "execution_count": 58,
          "metadata": {},
          "output_type": "execute_result"
        }
      ],
      "source": [
        "penguim.head(1)"
      ]
    },
    {
      "cell_type": "markdown",
      "metadata": {
        "id": "dYTwDjt1Jnn0"
      },
      "source": [
        "### **1.1. Análise exploratória**"
      ]
    },
    {
      "cell_type": "markdown",
      "metadata": {
        "id": "QHA3Z9E9LHbK"
      },
      "source": [
        "Utilize os gráficos abaixo para entender melhor a relação entre os atributos e variável resposta da base de dados. Comente o que observou em cada gráfico."
      ]
    },
    {
      "cell_type": "markdown",
      "metadata": {
        "id": "PQWtF5piLYTl"
      },
      "source": [
        " - Atributos numéricos por espécie:"
      ]
    },
    {
      "cell_type": "code",
      "execution_count": null,
      "metadata": {
        "id": "Hf6ekDf1JkNN"
      },
      "outputs": [],
      "source": [
        "with sns.axes_style('whitegrid'):\n",
        "\n",
        "  grafico = sns.pairplot(data=penguim.drop(['sex', 'island'], axis=1), hue=\"species\", palette=\"pastel\")"
      ]
    },
    {
      "cell_type": "markdown",
      "metadata": {
        "id": "UQzY1c1XLhNA"
      },
      "source": [
        "**Comentário:**\n",
        "\n",
        "Observando do pontos de vista das especies,\n",
        "os Gentoo sao os maiores e mais pesados, e destacando que a maior quantidade\n",
        "de pinguins da especie Adelie."
      ]
    },
    {
      "cell_type": "markdown",
      "metadata": {
        "id": "yC-icRgGLc5Y"
      },
      "source": [
        " - Sexo por espécie:"
      ]
    },
    {
      "cell_type": "code",
      "execution_count": 60,
      "metadata": {
        "colab": {
          "base_uri": "https://localhost:8080/",
          "height": 449
        },
        "id": "QqSoe19oJjS8",
        "outputId": "befad626-735c-4421-9977-6cfd0d3bfb7d"
      },
      "outputs": [
        {
          "data": {
            "image/png": "[encoded data removed]",
            "text/plain": [
              "<Figure size 640x480 with 1 Axes>"
            ]
          },
          "metadata": {},
          "output_type": "display_data"
        }
      ],
      "source": [
        "with sns.axes_style('whitegrid'):\n",
        "\n",
        "  grafico = sns.countplot(data=penguim, x='sex', hue=\"species\", palette=\"pastel\")"
      ]
    },
    {
      "cell_type": "markdown",
      "metadata": {
        "id": "svcb1xFfLrc3"
      },
      "source": [
        "**Comentário:**\n",
        "\n",
        "A maior quantidade de individuos da especie Adelie\n",
        "tanto do sexo masculino quanto de femeas, os Chinstrap juntos\n",
        "os dois sexos não são nem metade da quantidade total da especies Gentoo."
      ]
    },
    {
      "cell_type": "markdown",
      "metadata": {
        "id": "xQV5iyQwLfAl"
      },
      "source": [
        " - Ilha por espécie:"
      ]
    },
    {
      "cell_type": "code",
      "execution_count": 61,
      "metadata": {
        "colab": {
          "base_uri": "https://localhost:8080/",
          "height": 449
        },
        "id": "z5CgljQEJOB5",
        "outputId": "580d5c03-c036-46da-8fb4-5450dd2308a3"
      },
      "outputs": [
        {
          "data": {
            "image/png": "[encoded data removed]",
            "text/plain": [
              "<Figure size 640x480 with 1 Axes>"
            ]
          },
          "metadata": {},
          "output_type": "display_data"
        }
      ],
      "source": [
        "with sns.axes_style('whitegrid'):\n",
        "\n",
        "  grafico = sns.countplot(data=penguim, x='island', hue=\"species\", palette=\"pastel\")"
      ]
    },
    {
      "cell_type": "markdown",
      "metadata": {
        "id": "NjtgybmILsrE"
      },
      "source": [
        "**Comentário:**\n",
        "há Aldelie em todas as ilhas estudadas, por isso seu numero e maior\n",
        "porem o Gentoo dominam a ilha de Biscoe."
      ]
    },
    {
      "cell_type": "markdown",
      "metadata": {
        "id": "RDQqSdrWHY78"
      },
      "source": [
        "## 2\\. Dados"
      ]
    },
    {
      "cell_type": "markdown",
      "metadata": {
        "id": "HrTLgE0tki6P"
      },
      "source": [
        "### **2.1. Valores nulos**"
      ]
    },
    {
      "cell_type": "markdown",
      "metadata": {
        "id": "8JmRsG6K8SPd"
      },
      "source": [
        "A base de dados possui valores faltantes, utilize os conceitos da aula para trata-los."
      ]
    },
    {
      "cell_type": "code",
      "execution_count": null,
      "metadata": {
        "id": "8kyhQS748SPf"
      },
      "outputs": [],
      "source": [
        "# resposta da questão 2.1\n",
        "# verificar se á dados faltantes\n",
        "dados_faltantes_total = penguim.isnull().any()\n",
        "print( dados_faltantes_total)"
      ]
    },
    {
      "cell_type": "code",
      "execution_count": 25,
      "metadata": {
        "id": "so7F_JNdKN8V"
      },
      "outputs": [],
      "source": [
        "# Para lidar com dados faltantes uma das opções e descarta as linha onde\n",
        "# há dados faltantes.\n",
        "penguim_df_limp = penguim.dropna()"
      ]
    },
    {
      "cell_type": "code",
      "execution_count": null,
      "metadata": {
        "id": "J4Lrd43iKRB8"
      },
      "outputs": [],
      "source": [
        "dt_teste = penguim_df_limp.isnull().any()\n",
        "print(dt_teste)"
      ]
    },
    {
      "cell_type": "markdown",
      "metadata": {
        "id": "TTh7w8rgkznY"
      },
      "source": [
        "### **2.2. Variáveis categóricas**"
      ]
    },
    {
      "cell_type": "markdown",
      "metadata": {
        "id": "clBerimQs2PY"
      },
      "source": [
        "Identifique as variáveis categóricas nominais e ordinais, crie uma nova coluna aplicando a técnica correta de conversão a seus valores. A nova coluna deve ter o mesmo nome da coluna original acrescidade de \"*_nom*\" ou \"*_ord*\"."
      ]
    },
    {
      "cell_type": "markdown",
      "metadata": {
        "id": "BqpAVY109BWA"
      },
      "source": [
        "> **Nota**: Você não deve tratar a variável resposta."
      ]
    },
    {
      "cell_type": "markdown",
      "metadata": {
        "id": "LiNknVNsrJqc"
      },
      "source": [
        "> **Nota**: Por definição, árvores de decisão **não precisam** da transformação de atributos categóricos em numéricos. Contudo, por **limitação** do pacote Python Scikit Learn, devemos conduzir esta etapa. Mais informações neste [link](https://scikit-learn.org/stable/modules/tree.html#tree)."
      ]
    },
    {
      "cell_type": "code",
      "execution_count": 27,
      "metadata": {
        "id": "fohdVuLzkdKP"
      },
      "outputs": [],
      "source": [
        "# resposta da questão 2.2\n",
        "\n",
        "# respota mais aceitavel para a coluna \"island\"\n",
        "\n",
        "islanda_nom = pd.get_dummies(penguim_df_limp['island'])\n",
        "islanda_nom.columns = [ str(col) + '_nrm'  for col in islanda_nom.columns]\n",
        "\n",
        "penguim_df_limp = pd.concat([penguim_df_limp,islanda_nom], axis=1)\n",
        "\n",
        "# Repetir o processo com a coluna \"sex\"\n",
        "\n",
        "sex_m = pd.get_dummies(penguim_df_limp['sex'])\n",
        "sex_m.columns = [ str(col) + '_nrm'  for col in sex_m.columns]\n",
        "\n",
        "penguim_df_limp = pd.concat([penguim_df_limp,sex_m], axis=1)\n",
        "\n"
      ]
    },
    {
      "cell_type": "code",
      "execution_count": 62,
      "metadata": {
        "colab": {
          "base_uri": "https://localhost:8080/",
          "height": 81
        },
        "id": "JiyWjOuc4rak",
        "outputId": "46862451-2f4a-4b76-c24d-542e6bb3c3b8"
      },
      "outputs": [
        {
          "data": {
            "text/html": [
              "\n",
              "  <div id=\"df-bfe57bd5-eb7c-4bcd-a528-ae7ab123527d\" class=\"colab-df-container\">\n",
              "    <div>\n",
              "<style scoped>\n",
              "    .dataframe tbody tr th:only-of-type {\n",
              "        vertical-align: middle;\n",
              "    }\n",
              "\n",
              "    .dataframe tbody tr th {\n",
              "        vertical-align: top;\n",
              "    }\n",
              "\n",
              "    .dataframe thead th {\n",
              "        text-align: right;\n",
              "    }\n",
              "</style>\n",
              "<table border=\"1\" class=\"dataframe\">\n",
              "  <thead>\n",
              "    <tr style=\"text-align: right;\">\n",
              "      <th></th>\n",
              "      <th>species</th>\n",
              "      <th>bill_length_mm</th>\n",
              "      <th>bill_depth_mm</th>\n",
              "      <th>flipper_length_mm</th>\n",
              "      <th>body_mass_g</th>\n",
              "      <th>Biscoe_nrm</th>\n",
              "      <th>Dream_nrm</th>\n",
              "      <th>Torgersen_nrm</th>\n",
              "      <th>Female_nrm</th>\n",
              "      <th>Male_nrm</th>\n",
              "    </tr>\n",
              "  </thead>\n",
              "  <tbody>\n",
              "    <tr>\n",
              "      <th>0</th>\n",
              "      <td>Adelie</td>\n",
              "      <td>39.1</td>\n",
              "      <td>18.7</td>\n",
              "      <td>181.0</td>\n",
              "      <td>3750.0</td>\n",
              "      <td>0</td>\n",
              "      <td>0</td>\n",
              "      <td>1</td>\n",
              "      <td>0</td>\n",
              "      <td>1</td>\n",
              "    </tr>\n",
              "  </tbody>\n",
              "</table>\n",
              "</div>\n",
              "    <div class=\"colab-df-buttons\">\n",
              "\n",
              "  <div class=\"colab-df-container\">\n",
              "    <button class=\"colab-df-convert\" onclick=\"convertToInteractive('df-bfe57bd5-eb7c-4bcd-a528-ae7ab123527d')\"\n",
              "            title=\"Convert this dataframe to an interactive table.\"\n",
              "            style=\"display:none;\">\n",
              "\n",
              "  <svg xmlns=\"http://www.w3.org/2000/svg\" height=\"24px\" viewBox=\"0 -960 960 960\">\n",
              "    <path d=\"M120-120v-720h720v720H120Zm60-500h600v-160H180v160Zm220 220h160v-160H400v160Zm0 220h160v-160H400v160ZM180-400h160v-160H180v160Zm440 0h160v-160H620v160ZM180-180h160v-160H180v160Zm440 0h160v-160H620v160Z\"/>\n",
              "  </svg>\n",
              "    </button>\n",
              "\n",
              "  <style>\n",
              "    .colab-df-container {\n",
              "      display:flex;\n",
              "      gap: 12px;\n",
              "    }\n",
              "\n",
              "    .colab-df-convert {\n",
              "      background-color: #E8F0FE;\n",
              "      border: none;\n",
              "      border-radius: 50%;\n",
              "      cursor: pointer;\n",
              "      display: none;\n",
              "      fill: #1967D2;\n",
              "      height: 32px;\n",
              "      padding: 0 0 0 0;\n",
              "      width: 32px;\n",
              "    }\n",
              "\n",
              "    .colab-df-convert:hover {\n",
              "      background-color: #E2EBFA;\n",
              "      box-shadow: 0px 1px 2px rgba(60, 64, 67, 0.3), 0px 1px 3px 1px rgba(60, 64, 67, 0.15);\n",
              "      fill: #174EA6;\n",
              "    }\n",
              "\n",
              "    .colab-df-buttons div {\n",
              "      margin-bottom: 4px;\n",
              "    }\n",
              "\n",
              "    [theme=dark] .colab-df-convert {\n",
              "      background-color: #3B4455;\n",
              "      fill: #D2E3FC;\n",
              "    }\n",
              "\n",
              "    [theme=dark] .colab-df-convert:hover {\n",
              "      background-color: #434B5C;\n",
              "      box-shadow: 0px 1px 3px 1px rgba(0, 0, 0, 0.15);\n",
              "      filter: drop-shadow(0px 1px 2px rgba(0, 0, 0, 0.3));\n",
              "      fill: #FFFFFF;\n",
              "    }\n",
              "  </style>\n",
              "\n",
              "    <script>\n",
              "      const buttonEl =\n",
              "        document.querySelector('#df-bfe57bd5-eb7c-4bcd-a528-ae7ab123527d button.colab-df-convert');\n",
              "      buttonEl.style.display =\n",
              "        google.colab.kernel.accessAllowed ? 'block' : 'none';\n",
              "\n",
              "      async function convertToInteractive(key) {\n",
              "        const element = document.querySelector('#df-bfe57bd5-eb7c-4bcd-a528-ae7ab123527d');\n",
              "        const dataTable =\n",
              "          await google.colab.kernel.invokeFunction('convertToInteractive',\n",
              "                                                    [key], {});\n",
              "        if (!dataTable) return;\n",
              "\n",
              "        const docLinkHtml = 'Like what you see? Visit the ' +\n",
              "          '<a target=\"_blank\" href=https://colab.research.google.com/notebooks/data_table.ipynb>data table notebook</a>'\n",
              "          + ' to learn more about interactive tables.';\n",
              "        element.innerHTML = '';\n",
              "        dataTable['output_type'] = 'display_data';\n",
              "        await google.colab.output.renderOutput(dataTable, element);\n",
              "        const docLink = document.createElement('div');\n",
              "        docLink.innerHTML = docLinkHtml;\n",
              "        element.appendChild(docLink);\n",
              "      }\n",
              "    </script>\n",
              "  </div>\n",
              "\n",
              "\n",
              "    </div>\n",
              "  </div>\n"
            ],
            "text/plain": [
              "  species  bill_length_mm  bill_depth_mm  flipper_length_mm  body_mass_g  \\\n",
              "0  Adelie            39.1           18.7              181.0       3750.0   \n",
              "\n",
              "   Biscoe_nrm  Dream_nrm  Torgersen_nrm  Female_nrm  Male_nrm  \n",
              "0           0          0              1           0         1  "
            ]
          },
          "execution_count": 62,
          "metadata": {},
          "output_type": "execute_result"
        }
      ],
      "source": [
        "penguim_df_limp.head(1)"
      ]
    },
    {
      "cell_type": "markdown",
      "metadata": {
        "id": "AvkcQD9E9DGE"
      },
      "source": [
        "### **2.3. Limpeza**"
      ]
    },
    {
      "cell_type": "markdown",
      "metadata": {
        "id": "D03kCy8-9DGE"
      },
      "source": [
        "Descarte as colunas categóricas originais e mantenha a variável resposta na primeira coluna do dataframe."
      ]
    },
    {
      "cell_type": "code",
      "execution_count": 28,
      "metadata": {
        "id": "TuEOO6009DGE"
      },
      "outputs": [],
      "source": [
        "# resposta da questão 2.3\n",
        "penguim_df_limp = penguim_df_limp.drop(columns=['island','sex'],axis=1)"
      ]
    },
    {
      "cell_type": "markdown",
      "metadata": {
        "id": "p42G0OvRMFVq"
      },
      "source": [
        "### **2.4. Treino/Teste**"
      ]
    },
    {
      "cell_type": "markdown",
      "metadata": {
        "id": "WHyuv-4cMFVr"
      },
      "source": [
        "Separe a base de dados em treino e teste utilizando uma proporção de 2/3 para treino e 1/3 para testes."
      ]
    },
    {
      "cell_type": "code",
      "execution_count": 30,
      "metadata": {
        "id": "8Rbj-tBMMFVr"
      },
      "outputs": [],
      "source": [
        "# resposta da questão 2.4\n",
        "predictors_train, predictors_test, target_train, target_test = train_test_split(\n",
        "    penguim_df_limp.drop(['species'], axis=1),\n",
        "    penguim_df_limp['species'],\n",
        "    test_size=0.25,\n",
        "    random_state=123\n",
        ")"
      ]
    },
    {
      "cell_type": "code",
      "execution_count": 29,
      "metadata": {
        "colab": {
          "base_uri": "https://localhost:8080/",
          "height": 81
        },
        "id": "PdJZz5u4fLMf",
        "outputId": "361ce5a4-0835-49ab-fe80-d7122311d523"
      },
      "outputs": [
        {
          "data": {
            "text/html": [
              "\n",
              "  <div id=\"df-8e8c1bff-5887-46cc-a73c-5355dbd5c3f4\" class=\"colab-df-container\">\n",
              "    <div>\n",
              "<style scoped>\n",
              "    .dataframe tbody tr th:only-of-type {\n",
              "        vertical-align: middle;\n",
              "    }\n",
              "\n",
              "    .dataframe tbody tr th {\n",
              "        vertical-align: top;\n",
              "    }\n",
              "\n",
              "    .dataframe thead th {\n",
              "        text-align: right;\n",
              "    }\n",
              "</style>\n",
              "<table border=\"1\" class=\"dataframe\">\n",
              "  <thead>\n",
              "    <tr style=\"text-align: right;\">\n",
              "      <th></th>\n",
              "      <th>species</th>\n",
              "      <th>bill_length_mm</th>\n",
              "      <th>bill_depth_mm</th>\n",
              "      <th>flipper_length_mm</th>\n",
              "      <th>body_mass_g</th>\n",
              "      <th>Biscoe_nrm</th>\n",
              "      <th>Dream_nrm</th>\n",
              "      <th>Torgersen_nrm</th>\n",
              "      <th>Female_nrm</th>\n",
              "      <th>Male_nrm</th>\n",
              "    </tr>\n",
              "  </thead>\n",
              "  <tbody>\n",
              "    <tr>\n",
              "      <th>0</th>\n",
              "      <td>Adelie</td>\n",
              "      <td>39.1</td>\n",
              "      <td>18.7</td>\n",
              "      <td>181.0</td>\n",
              "      <td>3750.0</td>\n",
              "      <td>0</td>\n",
              "      <td>0</td>\n",
              "      <td>1</td>\n",
              "      <td>0</td>\n",
              "      <td>1</td>\n",
              "    </tr>\n",
              "  </tbody>\n",
              "</table>\n",
              "</div>\n",
              "    <div class=\"colab-df-buttons\">\n",
              "\n",
              "  <div class=\"colab-df-container\">\n",
              "    <button class=\"colab-df-convert\" onclick=\"convertToInteractive('df-8e8c1bff-5887-46cc-a73c-5355dbd5c3f4')\"\n",
              "            title=\"Convert this dataframe to an interactive table.\"\n",
              "            style=\"display:none;\">\n",
              "\n",
              "  <svg xmlns=\"http://www.w3.org/2000/svg\" height=\"24px\" viewBox=\"0 -960 960 960\">\n",
              "    <path d=\"M120-120v-720h720v720H120Zm60-500h600v-160H180v160Zm220 220h160v-160H400v160Zm0 220h160v-160H400v160ZM180-400h160v-160H180v160Zm440 0h160v-160H620v160ZM180-180h160v-160H180v160Zm440 0h160v-160H620v160Z\"/>\n",
              "  </svg>\n",
              "    </button>\n",
              "\n",
              "  <style>\n",
              "    .colab-df-container {\n",
              "      display:flex;\n",
              "      gap: 12px;\n",
              "    }\n",
              "\n",
              "    .colab-df-convert {\n",
              "      background-color: #E8F0FE;\n",
              "      border: none;\n",
              "      border-radius: 50%;\n",
              "      cursor: pointer;\n",
              "      display: none;\n",
              "      fill: #1967D2;\n",
              "      height: 32px;\n",
              "      padding: 0 0 0 0;\n",
              "      width: 32px;\n",
              "    }\n",
              "\n",
              "    .colab-df-convert:hover {\n",
              "      background-color: #E2EBFA;\n",
              "      box-shadow: 0px 1px 2px rgba(60, 64, 67, 0.3), 0px 1px 3px 1px rgba(60, 64, 67, 0.15);\n",
              "      fill: #174EA6;\n",
              "    }\n",
              "\n",
              "    .colab-df-buttons div {\n",
              "      margin-bottom: 4px;\n",
              "    }\n",
              "\n",
              "    [theme=dark] .colab-df-convert {\n",
              "      background-color: #3B4455;\n",
              "      fill: #D2E3FC;\n",
              "    }\n",
              "\n",
              "    [theme=dark] .colab-df-convert:hover {\n",
              "      background-color: #434B5C;\n",
              "      box-shadow: 0px 1px 3px 1px rgba(0, 0, 0, 0.15);\n",
              "      filter: drop-shadow(0px 1px 2px rgba(0, 0, 0, 0.3));\n",
              "      fill: #FFFFFF;\n",
              "    }\n",
              "  </style>\n",
              "\n",
              "    <script>\n",
              "      const buttonEl =\n",
              "        document.querySelector('#df-8e8c1bff-5887-46cc-a73c-5355dbd5c3f4 button.colab-df-convert');\n",
              "      buttonEl.style.display =\n",
              "        google.colab.kernel.accessAllowed ? 'block' : 'none';\n",
              "\n",
              "      async function convertToInteractive(key) {\n",
              "        const element = document.querySelector('#df-8e8c1bff-5887-46cc-a73c-5355dbd5c3f4');\n",
              "        const dataTable =\n",
              "          await google.colab.kernel.invokeFunction('convertToInteractive',\n",
              "                                                    [key], {});\n",
              "        if (!dataTable) return;\n",
              "\n",
              "        const docLinkHtml = 'Like what you see? Visit the ' +\n",
              "          '<a target=\"_blank\" href=https://colab.research.google.com/notebooks/data_table.ipynb>data table notebook</a>'\n",
              "          + ' to learn more about interactive tables.';\n",
              "        element.innerHTML = '';\n",
              "        dataTable['output_type'] = 'display_data';\n",
              "        await google.colab.output.renderOutput(dataTable, element);\n",
              "        const docLink = document.createElement('div');\n",
              "        docLink.innerHTML = docLinkHtml;\n",
              "        element.appendChild(docLink);\n",
              "      }\n",
              "    </script>\n",
              "  </div>\n",
              "\n",
              "\n",
              "    </div>\n",
              "  </div>\n"
            ],
            "text/plain": [
              "  species  bill_length_mm  bill_depth_mm  flipper_length_mm  body_mass_g  \\\n",
              "0  Adelie            39.1           18.7              181.0       3750.0   \n",
              "\n",
              "   Biscoe_nrm  Dream_nrm  Torgersen_nrm  Female_nrm  Male_nrm  \n",
              "0           0          0              1           0         1  "
            ]
          },
          "execution_count": 29,
          "metadata": {},
          "output_type": "execute_result"
        }
      ],
      "source": [
        "penguim_df_limp.head(1)"
      ]
    },
    {
      "cell_type": "code",
      "execution_count": 31,
      "metadata": {
        "colab": {
          "base_uri": "https://localhost:8080/"
        },
        "id": "9esEnYytfBKX",
        "outputId": "cebada49-4cd1-486a-e728-0624f2e07554"
      },
      "outputs": [
        {
          "data": {
            "text/plain": [
              "(249, 9)"
            ]
          },
          "execution_count": 31,
          "metadata": {},
          "output_type": "execute_result"
        }
      ],
      "source": [
        "predictors_train.shape"
      ]
    },
    {
      "cell_type": "code",
      "execution_count": 32,
      "metadata": {
        "colab": {
          "base_uri": "https://localhost:8080/"
        },
        "id": "MmMaDklgimIn",
        "outputId": "6dd85ab8-4a9d-4397-d8a8-88d1a55e2500"
      },
      "outputs": [
        {
          "data": {
            "text/plain": [
              "(84,)"
            ]
          },
          "execution_count": 32,
          "metadata": {},
          "output_type": "execute_result"
        }
      ],
      "source": [
        "target_test.shape"
      ]
    },
    {
      "cell_type": "markdown",
      "metadata": {
        "id": "yBRWrgn1L8dR"
      },
      "source": [
        "## 3\\. Modelagem"
      ]
    },
    {
      "cell_type": "markdown",
      "metadata": {
        "id": "mJMHdFTQL2LS"
      },
      "source": [
        "### **3.1. Treino**"
      ]
    },
    {
      "cell_type": "markdown",
      "metadata": {
        "id": "3la9bf31L2LT"
      },
      "source": [
        "Treine um modelo de **árvore de decisão** com os **dados de treino** (2/3). Gere o gráfico da árvore do modelo treinado e responda: quantas **folhas** a árvore treinada possui?"
      ]
    },
    {
      "cell_type": "markdown",
      "metadata": {
        "id": "85yPJLcns7wb"
      },
      "source": [
        "**Resposta:** 8 folhas\n",
        "\n",
        "Em uma árvore de decisão estabelecer nós (decision nodes) que se relacionam entre si por uma hierarquia. Existe o nó-raiz (root node), que é o mais importante, e os nós-folha (leaf nodes), que são os resultados finais.\n",
        "nesse caso 8 folhas.\n",
        "\n"
      ]
    },
    {
      "cell_type": "code",
      "execution_count": 36,
      "metadata": {
        "id": "gXVuVyJzL2LU"
      },
      "outputs": [],
      "source": [
        "# resposta da questão 3.1\n",
        "#penguim_df_limp.head(1)\n",
        "model_v1 = model.fit(predictors_train,target_train)"
      ]
    },
    {
      "cell_type": "code",
      "execution_count": null,
      "metadata": {
        "id": "UYb-Qkt9jP4o"
      },
      "outputs": [],
      "source": [
        "tree_data = tree.export_graphviz(model_v1,out_file=None)\n",
        "graf = graphviz.Source(tree_data)\n",
        "graf"
      ]
    },
    {
      "cell_type": "markdown",
      "metadata": {
        "id": "KysDfb74Mav_"
      },
      "source": [
        "### **3.2. Avaliação**"
      ]
    },
    {
      "cell_type": "markdown",
      "metadata": {
        "id": "FSTkBBhKlMq-"
      },
      "source": [
        "**a.** Matriz de Confusão"
      ]
    },
    {
      "cell_type": "markdown",
      "metadata": {
        "id": "zTp4Fb8Gk9Er"
      },
      "source": [
        "Calcule e visualize a **matriz de confusão** para o modelo de **árvore de decisão** treinado com os **dados de teste** (1/3). Comente os resultados."
      ]
    },
    {
      "cell_type": "markdown",
      "metadata": {
        "id": "lgOP2svcsvB-"
      },
      "source": [
        "**Comentário:**\n",
        "\n",
        "Das falhas do algoritimo ele confundiu as especies mais populares com 5 erros\n",
        "nas especies com menos individuos não houve erros!"
      ]
    },
    {
      "cell_type": "code",
      "execution_count": 40,
      "metadata": {
        "id": "qa-ExvEsuKpj"
      },
      "outputs": [],
      "source": [
        "#target_predicted = model_v1.predict(predictors_test)"
      ]
    },
    {
      "cell_type": "code",
      "execution_count": 64,
      "metadata": {
        "id": "YJFka6z7lUBk"
      },
      "outputs": [],
      "source": [
        "# resposta da questão 3.2.a\n",
        "target_predicted = model_v1.predict(predictors_test)\n",
        "confusion_matrix = confusion_matrix(target_test,target_predicted)"
      ]
    },
    {
      "cell_type": "code",
      "execution_count": 43,
      "metadata": {
        "colab": {
          "base_uri": "https://localhost:8080/"
        },
        "id": "GxfBWlEvvKhq",
        "outputId": "22086fee-69ae-4d4b-e7f3-3250eb146abd"
      },
      "outputs": [
        {
          "name": "stdout",
          "output_type": "stream",
          "text": [
            "[[35  0  0]\n",
            " [ 5 21  0]\n",
            " [ 0  0 23]]\n"
          ]
        }
      ],
      "source": [
        "print(confusion_matrix)"
      ]
    },
    {
      "cell_type": "code",
      "execution_count": 65,
      "metadata": {
        "colab": {
          "base_uri": "https://localhost:8080/",
          "height": 316
        },
        "id": "sBNs4W3_vhxM",
        "outputId": "9807f2cf-5525-4e38-889f-d59d7efbccb5"
      },
      "outputs": [
        {
          "data": {
            "image/png": "[encoded data removed]",
            "text/plain": [
              "<Figure size 300x300 with 2 Axes>"
            ]
          },
          "metadata": {},
          "output_type": "display_data"
        }
      ],
      "source": [
        "# resposta da questão 3.2.a\n",
        "\n",
        "\n",
        "plt.figure(figsize=(3,3))\n",
        "sns.heatmap(confusion_matrix, annot=True, fmt=\".2f\", cmap=\"Blues\")\n",
        "plt.xlabel(\"Valor Predito\")\n",
        "plt.ylabel(\"Valor Real\")\n",
        "plt.show()\n"
      ]
    },
    {
      "cell_type": "markdown",
      "metadata": {
        "id": "FR5EL6LplbtK"
      },
      "source": [
        "**b.** Acurácia"
      ]
    },
    {
      "cell_type": "markdown",
      "metadata": {
        "id": "AGPKGSpFMawA"
      },
      "source": [
        "Calcule a **acurácia** para o modelo de **árvore de decisão** treinado com os **dados de teste** (1/3)."
      ]
    },
    {
      "cell_type": "markdown",
      "metadata": {
        "id": "p2HS4aPiR_fM"
      },
      "source": [
        "> **Nota:** Como referência, eu consegui uma acurácia de approx. 96% (sua acurácia pode não ser igual)."
      ]
    },
    {
      "cell_type": "code",
      "execution_count": 53,
      "metadata": {
        "colab": {
          "base_uri": "https://localhost:8080/"
        },
        "id": "0O24-YgSwhtr",
        "outputId": "5d60afa9-cd53-48ce-dc21-b4f0b2522231"
      },
      "outputs": [
        {
          "name": "stdout",
          "output_type": "stream",
          "text": [
            "0.9404761904761905\n"
          ]
        }
      ],
      "source": [
        "# resposta da questão 3.2.b\n",
        "acuracia  = accuracy_score(target_test,target_predicted)\n",
        "#print(acuracia)"
      ]
    },
    {
      "cell_type": "code",
      "execution_count": 54,
      "metadata": {
        "colab": {
          "base_uri": "https://localhost:8080/"
        },
        "id": "Eyh7nMFaw9Rk",
        "outputId": "33ebc053-a11b-45c9-dae7-fec519353063"
      },
      "outputs": [
        {
          "name": "stdout",
          "output_type": "stream",
          "text": [
            "94.05 %\n"
          ]
        }
      ],
      "source": [
        "print(f'{round(100 * acuracia,2)} %')"
      ]
    },
    {
      "cell_type": "markdown",
      "metadata": {
        "id": "f2G0LAZ1Mfrk"
      },
      "source": [
        "## 4\\. Predição  "
      ]
    },
    {
      "cell_type": "markdown",
      "metadata": {
        "id": "71EeKkThMnbD"
      },
      "source": [
        "### **4.1. Novo penguim**"
      ]
    },
    {
      "cell_type": "markdown",
      "metadata": {
        "id": "JZfFc-OyMfrm"
      },
      "source": [
        "Qual a espécie de um penguim com as seguintes características:\n"
      ]
    },
    {
      "cell_type": "markdown",
      "metadata": {
        "id": "P0Q-QJ-CM099"
      },
      "source": [
        "| island | bill_length_mm | bill_depth_mm | flipper_length_mm | body_mass_g | sex |\n",
        "| --- | --- | --- | --- | --- | --- |\n",
        "| Biscoe | 38.2 | 18.1 | 185.0 | 3950.0 | Male |"
      ]
    },
    {
      "cell_type": "markdown",
      "metadata": {
        "id": "IbUFEJGGNBpD"
      },
      "source": [
        "> **Atenção:** Lembre-se de pre-processar os atributos assim como nos exercício 2.2. A ordem dos atributos importa, deve ser a mesma usada na modelagem."
      ]
    },
    {
      "cell_type": "markdown",
      "metadata": {
        "id": "BUiRiNDgWS6B"
      },
      "source": [
        "> **Nota:** Como referência eu obtive **adelie** como espécie predita (a sua predição pode não ser igual)."
      ]
    },
    {
      "cell_type": "code",
      "execution_count": null,
      "metadata": {
        "id": "t0dPBLw9Mfrm"
      },
      "outputs": [],
      "source": [
        "# resposta da questão 4.1\n",
        "\n",
        "novo_pin = np.array([\n",
        "    38.2,  #bill_length_mm\n",
        "    18.1,  #bill_depth_mm\n",
        "    185.0, #flipper_length_mm\t\n",
        "    3950.0,#body_mass_g\t\n",
        "    1, # biscoe\n",
        "    0, # Dream\n",
        "    0, # Torgersen\n",
        "    0, # female\n",
        "    1  # Male\n",
        "    ])"
      ]
    },
    {
      "cell_type": "code",
      "execution_count": null,
      "metadata": {},
      "outputs": [],
      "source": [
        "especie_pred = model_v1.predict(novo_pin.reshape(1,-1))\n",
        "print(especie_pred)"
      ]
    },
    {
      "cell_type": "markdown",
      "metadata": {
        "id": "waxn4B2UDHyl"
      },
      "source": [
        "---"
      ]
    }
  ],
  "metadata": {
    "colab": {
      "collapsed_sections": [
        "HrTLgE0tki6P",
        "TTh7w8rgkznY",
        "AvkcQD9E9DGE",
        "p42G0OvRMFVq"
      ],
      "provenance": []
    },
    "kernelspec": {
      "display_name": "Python 3",
      "name": "python3"
    },
    "language_info": {
      "codemirror_mode": {
        "name": "ipython",
        "version": 3
      },
      "file_extension": ".py",
      "mimetype": "text/x-python",
      "name": "python",
      "nbconvert_exporter": "python",
      "pygments_lexer": "ipython3",
      "version": "3.11.2"
    }
  },
  "nbformat": 4,
  "nbformat_minor": 0
}
