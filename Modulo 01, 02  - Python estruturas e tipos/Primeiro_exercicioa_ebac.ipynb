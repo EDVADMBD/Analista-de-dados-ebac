{
  "nbformat": 4,
  "nbformat_minor": 0,
  "metadata": {
    "colab": {
      "provenance": []
    },
    "kernelspec": {
      "name": "python3",
      "display_name": "Python 3"
    },
    "language_info": {
      "name": "python"
    }
  },
  "cells": [
    {
      "cell_type": "code",
      "execution_count": null,
      "metadata": {
        "id": "om5orpxMd-mQ"
      },
      "outputs": [],
      "source": [
        "#Exercícios\n",
        "\n",
        "#1. Google Colab\n",
        "#Crie uma célula de código que escreva o texto \"Olá mundo!\", utilize o comando print .\n",
        "#Crie uma célua de texto e adicione uma imagem"
      ]
    },
    {
      "cell_type": "code",
      "source": [
        "print(\"Olá mundo!\")"
      ],
      "metadata": {
        "colab": {
          "base_uri": "https://localhost:8080/"
        },
        "id": "d9ggPa0TeDEH",
        "outputId": "a9614ab8-066f-49ed-972c-2029e58ab907"
      },
      "execution_count": null,
      "outputs": [
        {
          "output_type": "stream",
          "name": "stdout",
          "text": [
            "Olá mundo!\n"
          ]
        }
      ]
    },
    {
      "cell_type": "code",
      "source": [
        "#2. Números\n",
        "\n",
        "#Preencha as células de código para preencher os valores de (A), (B) e (C) na tabela de\n",
        "#ticket médio abaixo:\n",
        "\n",
        "#ticket_medio = valor_total_vendas/quantiade_tatal_venda\n",
        "\n",
        "# 19/01  (A)       3     320.52\n",
        "# 20/01  834.47   (B)    119.21\n",
        "# 23/01  15378.12  5     (C)"
      ],
      "metadata": {
        "id": "uPLHVLjRecAP"
      },
      "execution_count": null,
      "outputs": []
    },
    {
      "cell_type": "code",
      "source": [
        "quantiade_tatal_venda19 = 3\n",
        "ticket_medio19 = 320.52\n",
        "valor_total_vendas_19 = quantiade_tatal_venda19 * ticket_medio19\n",
        "\n",
        "print(valor_total_vendas_19)\n"
      ],
      "metadata": {
        "colab": {
          "base_uri": "https://localhost:8080/"
        },
        "id": "vztmeDPdnU42",
        "outputId": "94a9433f-aa95-46d7-c273-60ad1bfb73f1"
      },
      "execution_count": null,
      "outputs": [
        {
          "output_type": "stream",
          "name": "stdout",
          "text": [
            "961.56\n"
          ]
        }
      ]
    },
    {
      "cell_type": "code",
      "source": [
        "# valor total de vandas do dia 19/01 e igual a 961.56"
      ],
      "metadata": {
        "id": "h8L6-ejZpdYL"
      },
      "execution_count": null,
      "outputs": []
    },
    {
      "cell_type": "code",
      "source": [
        "valor_total_vendas_20 = 834.47\n",
        "ticket_medio20 = 119.21\n",
        "quantiade_tatal_venda20 = valor_total_vendas_20/ticket_medio20\n",
        "\n",
        "print(quantiade_tatal_venda20)"
      ],
      "metadata": {
        "colab": {
          "base_uri": "https://localhost:8080/"
        },
        "id": "NE8F2_VtpddT",
        "outputId": "6c862feb-2b73-4d53-ab96-6f139365e598"
      },
      "execution_count": null,
      "outputs": [
        {
          "output_type": "stream",
          "name": "stdout",
          "text": [
            "7.000000000000001\n"
          ]
        }
      ]
    },
    {
      "cell_type": "code",
      "source": [
        "# valor quantidade de vendas do dia 20/01 e igual a 7.0"
      ],
      "metadata": {
        "id": "HPt41YzZqTFO"
      },
      "execution_count": null,
      "outputs": []
    },
    {
      "cell_type": "code",
      "source": [
        "quantiade_tatal_venda21 = 15378.12\n",
        "valor_total_vendas_21 = 5\n",
        "ticket_medio21 = quantiade_tatal_venda21/valor_total_vendas_21\n",
        "\n",
        "print(ticket_medio21)"
      ],
      "metadata": {
        "colab": {
          "base_uri": "https://localhost:8080/"
        },
        "id": "6Ekn4eW_qej-",
        "outputId": "0f8a51af-a3c5-4edc-d99f-ce2fd917b130"
      },
      "execution_count": null,
      "outputs": [
        {
          "output_type": "stream",
          "name": "stdout",
          "text": [
            "3075.6240000000003\n"
          ]
        }
      ]
    },
    {
      "cell_type": "code",
      "source": [
        "# O valor ticket medio do dia 20/01 e igual a 3075.62"
      ],
      "metadata": {
        "id": "TYeHUz9RrDYs"
      },
      "execution_count": null,
      "outputs": []
    },
    {
      "cell_type": "code",
      "source": [
        "#3. Strings\n",
        "# Aplique três métodos distintos na string abaixo, você pode conferir alguns métodos neste\n",
        "\n",
        "cancao = 'Roda mundo, roda gigante, roda moinho, roda pião.'\n",
        "\n",
        "# Extraia da string abaixo o valor da taxa selic na variável selic e o valor do ano na\n",
        "# variavel ano . Imprima os valores na tela.\n",
        "\n",
        "noticia = '''\n",
        "Selic vai a 2,75% e supera expectativas;\n",
        "é a primeira alta em 6 anos\n",
        "'''\n",
        "\n",
        "estraindo = noticia.split()\n",
        "print(estraindo)\n",
        "#print(estraindo[3])\n",
        "#print(estraindo[-1])\n",
        "\n",
        "selic = estraindo[3]\n",
        "ano = estraindo[-1]\n",
        "relatorio = f'O valor da selic nos primeiros {ano} é de {selic} !.'\n",
        "print(selic)\n",
        "print(ano)\n",
        "print(relatorio)\n",
        "\n"
      ],
      "metadata": {
        "id": "ZakikufSrn0-",
        "colab": {
          "base_uri": "https://localhost:8080/"
        },
        "outputId": "c164a062-7fcc-46c2-9872-9219882036df"
      },
      "execution_count": 15,
      "outputs": [
        {
          "output_type": "stream",
          "name": "stdout",
          "text": [
            "['Selic', 'vai', 'a', '2,75%', 'e', 'supera', 'expectativas;', 'é', 'a', 'primeira', 'alta', 'em', '6', 'anos']\n",
            "2,75%\n",
            "anos\n",
            "O valor da selic nos primeiros anos é de 2,75% !.\n"
          ]
        }
      ]
    },
    {
      "cell_type": "code",
      "source": [
        "cancao = 'Roda mundo, roda gigante, roda moinho, roda pião.'\n",
        "\n",
        "print(cancao)\n",
        "x = cancao.upper()\n",
        "print(x)\n",
        "y = x.split()\n",
        "print(y)\n",
        "z = cancao.replace(\"Roda\", \"Gira\").replace('roda', 'giranndo')\n",
        "print(z)\n",
        "\n"
      ],
      "metadata": {
        "colab": {
          "base_uri": "https://localhost:8080/"
        },
        "id": "1GjEjYzAHrZq",
        "outputId": "b3b5e07a-f2ee-473b-a896-65cb51346f06"
      },
      "execution_count": 10,
      "outputs": [
        {
          "output_type": "stream",
          "name": "stdout",
          "text": [
            "Roda mundo, roda gigante, roda moinho, roda pião.\n",
            "RODA MUNDO, RODA GIGANTE, RODA MOINHO, RODA PIÃO.\n",
            "['RODA', 'MUNDO,', 'RODA', 'GIGANTE,', 'RODA', 'MOINHO,', 'RODA', 'PIÃO.']\n",
            "Gira mundo, giranndo gigante, giranndo moinho, giranndo pião.\n"
          ]
        }
      ]
    },
    {
      "cell_type": "code",
      "source": [
        "#4. Booleanos\n",
        "#Utilize a tabela da verdade para responder: qual o valor da variável x?\n",
        "\n",
        "a = False\n",
        "b = True\n",
        "x = not a & b\n",
        "\n",
        "\n",
        "print(x)"
      ],
      "metadata": {
        "id": "QKvuf0wJsAK8",
        "colab": {
          "base_uri": "https://localhost:8080/"
        },
        "outputId": "6888ce31-486a-431a-c18b-6ba60e0e4d5a"
      },
      "execution_count": 18,
      "outputs": [
        {
          "output_type": "stream",
          "name": "stdout",
          "text": [
            "True\n"
          ]
        }
      ]
    }
  ]
}