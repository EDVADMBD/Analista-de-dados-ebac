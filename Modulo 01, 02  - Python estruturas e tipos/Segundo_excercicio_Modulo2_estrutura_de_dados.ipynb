{
  "nbformat": 4,
  "nbformat_minor": 0,
  "metadata": {
    "colab": {
      "provenance": []
    },
    "kernelspec": {
      "name": "python3",
      "display_name": "Python 3"
    },
    "language_info": {
      "name": "python"
    }
  },
  "cells": [
    {
      "cell_type": "markdown",
      "source": [
        "Exercícios\n",
        "1. Listas\n",
        "Criei uma lista chamada filmes com o nome dos 10 primeiros filmes mais bem avaliados no\n",
        "site no IMDB. Imprima o resultado.\n",
        "Simule a movimentação do ranking. Utilize os métodos insert e pop para trocar a posição\n",
        "do primeiro e do segundo filme da lista. Imprima o resultado"
      ],
      "metadata": {
        "id": "qyzi-gR-1bJo"
      }
    },
    {
      "cell_type": "code",
      "execution_count": 13,
      "metadata": {
        "id": "etSuIleeTsp0",
        "colab": {
          "base_uri": "https://localhost:8080/"
        },
        "outputId": "29cbb74c-9dd1-49a1-83cd-1b6f5d3889c0"
      },
      "outputs": [
        {
          "output_type": "stream",
          "name": "stdout",
          "text": [
            "['Um Sonho de Liberdade', 'OPoderoso Chefão', 'Batman: O Cavaleiro das Trevas']\n",
            "Lista do filmes mais assistido antes do uso dos metodos, Primeiro Lugar Um Sonho de Liberdade, Segundo OPoderoso Chefão, Terceiro Batman: O Cavaleiro das Trevas \n",
            "['Matrix', 'Um Sonho de Liberdade', 'OPoderoso Chefão']\n",
            "Lista do filmes mais assistido, Primeiro Lugar Matrix, Segundo Um Sonho de Liberdade, Terceiro OPoderoso Chefão \n"
          ]
        }
      ],
      "source": [
        "lista_de_filmes = ['Um Sonho de Liberdade','OPoderoso Chefão',\n",
        "                   'Batman: O Cavaleiro das Trevas','O Poderoso Chefão II',\n",
        "                   '12 Homens e uma Sentença','A Lista de Schindler',\n",
        "                   'O Senhor dos Anéis: O Retorno do Rei','Pulp Fiction: Tempo de Violência',\n",
        "                   'O Senhor dos Anéis: A Sociedade do Anel','Três Homens em Conflito'\n",
        "                   ]\n",
        "                   \n",
        "print(lista_de_filmes[0:3])\n",
        "\n",
        "print(f\"Lista do filmes mais assistido antes do uso dos metodos, Primeiro Lugar {lista_de_filmes[0]}, Segundo {lista_de_filmes[1]}, Terceiro {lista_de_filmes[2]} \")\n",
        "\n",
        "lista_de_filmes.insert(0, \"Matrix\")\n",
        "lista_de_filmes.pop(10)\n",
        "\n",
        "print(lista_de_filmes[0:3])\n",
        "\n",
        "print(f\"Lista do filmes mais assistido, Primeiro Lugar {lista_de_filmes[0]}, Segundo {lista_de_filmes[1]}, Terceiro {lista_de_filmes[2]} \")"
      ]
    },
    {
      "cell_type": "markdown",
      "source": [
        "2. Conjuntos\n",
        "Aconteceu um erro no seu ranking. Simule a duplicação dos três últimos filmes da lista.\n",
        "Imprima o resultado.\n",
        "Utiliza a conversão set e list para remover os valores duplicados. Imprima o resultado."
      ],
      "metadata": {
        "id": "f8HdLgUQ1erx"
      }
    },
    {
      "cell_type": "code",
      "source": [
        "lista_de_filmes.insert(10, \"Pulp Fiction: Tempo de Violência\")\n",
        "lista_de_filmes.insert(11, \"O Senhor dos Anéis: O Retorno do Rei\")\n",
        "lista_de_filmes.insert(12, \"Três Homens em Conflito\")\n",
        "\n",
        "#print(lista_de_filmes[9:12])\n",
        "#print(lista_de_filmes)\n",
        "\n",
        "print(lista_de_filmes[0:3])\n",
        "print()\n",
        "print(f\"Lista do filmes mais assistido, Primeiro Lugar {lista_de_filmes[0]}, Segundo {lista_de_filmes[1]}, Terceiro {lista_de_filmes[2]} \")\n",
        "print()\n",
        "\n",
        "tupla = set(lista_de_filmes)\n",
        "\n",
        "print(tupla)\n",
        "print()\n",
        "\n",
        "lista_de_filmes2 = list(tupla)\n",
        "\n",
        "print(lista_de_filmes2[0:3])\n",
        "print()\n",
        "print(f\"Lista do filmes mais assistido, Primeiro Lugar {lista_de_filmes2[0]}, Segundo {lista_de_filmes2[1]}, Terceiro {lista_de_filmes2[2]} \")\n"
      ],
      "metadata": {
        "colab": {
          "base_uri": "https://localhost:8080/"
        },
        "id": "_N4ldNzF1sF9",
        "outputId": "9af7b24f-eabe-4237-e0fe-1847bc8a0a7f"
      },
      "execution_count": 49,
      "outputs": [
        {
          "output_type": "stream",
          "name": "stdout",
          "text": [
            "['Matrix', 'Matrix', 'Matrix']\n",
            "\n",
            "Lista do filmes mais assistido, Primeiro Lugar Matrix, Segundo Matrix, Terceiro Matrix \n",
            "\n",
            "{'O Poderoso Chefão II', 'Três Homens em Conflito', 'Pulp Fiction: Tempo de Violência', 'O Senhor dos Anéis: O Retorno do Rei', 'O Senhor dos Anéis: A Sociedade do Anel', 'Matrix', 'Um Sonho de Liberdade', '12 Homens e uma Sentença', 'A Lista de Schindler', 'OPoderoso Chefão', 'Batman: O Cavaleiro das Trevas'}\n",
            "\n",
            "['O Poderoso Chefão II', 'Três Homens em Conflito', 'Pulp Fiction: Tempo de Violência']\n",
            "\n",
            "Lista do filmes mais assistido, Primeiro Lugar O Poderoso Chefão II, Segundo Três Homens em Conflito, Terceiro Pulp Fiction: Tempo de Violência \n"
          ]
        }
      ]
    },
    {
      "cell_type": "markdown",
      "source": [
        "3. Dicionários\n",
        "Repita os exercícios da parte 1 (listas). Os elementos da lista filmes devem ser dicionários\n",
        "no seguinte formato: {'nome': <nome-do-filme>, 'ano': <ano do filme>},\n",
        "'sinopse': <sinopse do filme>} .\n"
      ],
      "metadata": {
        "id": "u9a5s0FC1wHp"
      }
    },
    {
      "cell_type": "code",
      "source": [
        "#List_filmes_em_dicionario = dict(filme='',ano= '', sinopse='')\n",
        "#List_filmes_em_dicionario = dict(filme='Um Sonho de Liberdade',ano='1994', sinopse= 'Dois homens presos se reúnem ao longo de vários anos, encontrando consolo e eventual redenção através de atos de decência comum.',\n",
        "#    filme1='O Poderoso Chefão',ano1='1972',sinopse1= 'O patriarca idoso de uma dinastia do crime organizado transfere o controle de seu império clandestino para seu filho relutante.',\n",
        "#    filme2='Batman: O Cavaleiro das Trevas',ano2= '2008',sinopse2= 'Quando a ameaça conhecida como O Coringa surge de seu passado, causa estragos e caos nas pessoas de Gotham. O Cavaleiro das Trevas deve aceitar um dos maiores testes para combater a injustiç...',\n",
        "#    filme3='O Poderoso Chefão II',ano3= '1974',sinopse3= 'Em 1950, Michael Corleone, agora à frente da família, tenta expandir o negócio do crime a Las Vegas, Los Angeles e Cuba. Paralelamente, é revelada a história de Vito Corleone, e de como saiu...',\n",
        "#    filme4='12 Homens e uma Sentença',ano4= '1957',sinopse4= 'Um jurado que se aposenta tenta evitar um erro judicial forçando seus colegas a reconsiderarem as evidências.',\n",
        "#    filme5='A Lista de Schindler',ano5= '1993',sinopse5= 'Depois de testemunhar a perseguição dos judaicos na Polônia ocupada pelos alemães durante a Segunda Guerra Mundial, o industrial Oskar Schindler se começa a preocupar com sua força de trabal...',\n",
        "#    filme6='O Senhor dos Anéis: O Retorno do Rei',ano6= '2003',sinopse6= 'Gandalf e Aragorn lideram o Mundo dos Homens contra o exército de Sauron para desviar o olhar de Frodo e Sam quando eles se aproximam á Montanha da Perdição com o Um Anel.',\n",
        "#    filme7='Pulp Fiction: Tempo de Violência',ano7= '1994',sinopse7= 'As vidas de dois assassinos da máfia, um boxeador, um gângster e sua esposa, e um par de bandidos se entrelaçam em quatro histórias de violência e redenção.',\n",
        "#    filme8='O Senhor dos Anéis: A Sociedade do Anel',ano8= '2001',sinopse8= 'Um manso hobbit do Condado e oito companheiros partem em uma jornada para destruir o poderoso Um Anel e salvar a Terra-média das Trevas.',\n",
        "#    filme9= 'Três Homens em Conflito',ano9= '1966',sinopse9= 'Um impostor se junta com dois homens para encontrar fortuna num remoto cemitério.'\n",
        "#)\n",
        "\n",
        "\n",
        "#top_10_filmes = ( 'filme': '', 'ano':'', 'sinopse':'')\n",
        "top_10_filmes = {'filme':'Um Sonho de Liberdade','ano':'1994','sinopse':'Dois homens presos se reúnem ao longo de vários anos, encontrando consolo e eventual redenção através de atos de decência comum.',\n",
        "                 'filme2':'O Poderoso Chefão','ano2':'1972', 'sinopse2':'O patriarca idoso de uma dinastia do crime organizado transfere o controle de seu império clandestino para seu filho relutante.',\n",
        "                 'filme3':'Batman: O Cavaleiro das Trevas','ano3':'2008','sinopse3': 'Quando a ameaça conhecida como O Coringa surge de seu passado, causa estragos e caos nas pessoas de Gotham. O Cavaleiro das Trevas deve aceitar um dos maiores testes para combater a injustiç...',\n",
        "                 'filme4':'O Poderoso Chefão II','ano4':'1974','sinopse4': 'Em 1950, Michael Corleone, agora à frente da família, tenta expandir o negócio do crime a Las Vegas, Los Angeles e Cuba. Paralelamente, é revelada a história de Vito Corleone, e de como saiu...',\n",
        "                 'filme5': '12 Homens e uma Sentença','ano5':'1957','sinopse5': 'Um jurado que se aposenta tenta evitar um erro judicial forçando seus colegas a reconsiderarem as evidências.',\n",
        "                 'filme6': 'A Lista de Schindler','ano6':'1993','sinopse6': 'Depois de testemunhar a perseguição dos judaicos na Polônia ocupada pelos alemães durante a Segunda Guerra Mundial, o industrial Oskar Schindler se começa a preocupar com sua força de trabal...',\n",
        "                 'filme7': 'O Senhor dos Anéis: O Retorno do Rei','ano7':'2003','sinopse7': 'Gandalf e Aragorn lideram o Mundo dos Homens contra o exército de Sauron para desviar o olhar de Frodo e Sam quando eles se aproximam á Montanha da Perdição com o Um Anel.',\n",
        "                 'filme8': 'Pulp Fiction: Tempo de Violência','ano8':'1994','sinopse8': 'As vidas de dois assassinos da máfia, um boxeador, um gângster e sua esposa, e um par de bandidos se entrelaçam em quatro histórias de violência e redenção.',\n",
        "                 'filme9': 'O Senhor dos Anéis: A Sociedade do Anel','ano9':'2001','sinopse9': 'Um manso hobbit do Condado e oito companheiros partem em uma jornada para destruir o poderoso Um Anel e salvar a Terra-média das Trevas.',\n",
        "                 'filme10': 'Três Homens em Conflito','ano10':'1966','sinopse10': 'Um impostor se junta com dois homens para encontrar fortuna num remoto cemitério.',\n",
        "\n",
        "}\n",
        "\n",
        "\n",
        "\n",
        "\n",
        "for chave, valor in top_10_filmes.items():\n",
        "    print(chave, valor) "
      ],
      "metadata": {
        "id": "cACB-LVX10AM"
      },
      "execution_count": null,
      "outputs": []
    }
  ]
}