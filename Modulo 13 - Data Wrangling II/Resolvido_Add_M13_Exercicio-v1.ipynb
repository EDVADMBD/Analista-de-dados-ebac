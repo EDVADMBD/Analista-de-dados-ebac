{
  "nbformat": 4,
  "nbformat_minor": 0,
  "metadata": {
    "colab": {
      "provenance": []
    },
    "kernelspec": {
      "name": "python3",
      "display_name": "Python 3"
    }
  },
  "cells": [
    {
      "cell_type": "markdown",
      "metadata": {
        "id": "KJqp9AANOCtf"
      },
      "source": [
        "<img src=\"https://raw.githubusercontent.com/andre-marcos-perez/ebac-course-utils/main/media/logo/newebac_logo_black_half.png\" alt=\"ebac-logo\">\n",
        "\n",
        "---\n",
        "\n",
        "# **Módulo** | Análise de Dados: Data Wrangling II\n",
        "Caderno de **Exercícios**<br>\n",
        "Professor [André Perez](https://www.linkedin.com/in/andremarcosperez/)\n",
        "\n",
        "---"
      ]
    },
    {
      "cell_type": "markdown",
      "metadata": {
        "id": "d9jDtUbDOE1-"
      },
      "source": [
        "# **Tópicos**\n",
        "\n",
        "<ol type=\"1\">\n",
        "  <li>Agregação e Ordenação;</li>\n",
        "  <li>Combinação;</li>\n",
        "  <li>Técnicas Avançadas.</li>\n",
        "</ol>"
      ]
    },
    {
      "cell_type": "markdown",
      "metadata": {
        "id": "SmoHgt-lwkpD"
      },
      "source": [
        "---"
      ]
    },
    {
      "cell_type": "markdown",
      "metadata": {
        "id": "GABI6OW8OfQ2"
      },
      "source": [
        "# **Exercícios**"
      ]
    },
    {
      "cell_type": "markdown",
      "metadata": {
        "id": "45DbYPgFhuR7"
      },
      "source": [
        "Neste exercícios, vamos trabalhar com dados geográficos, demográficos e econômicos do Brasil. Vamos manipular e combinar dados de duas frentes distintas para poder responder perguntas de negócios."
      ]
    },
    {
      "cell_type": "markdown",
      "metadata": {
        "id": "GWgNoJN8DHyY"
      },
      "source": [
        "## 1\\. Data Wrangling"
      ]
    },
    {
      "cell_type": "markdown",
      "metadata": {
        "id": "E30KnCdKRdYl"
      },
      "source": [
        "### **1.1. Estados**"
      ]
    },
    {
      "cell_type": "markdown",
      "metadata": {
        "id": "w2q1apyNYHbu"
      },
      "source": [
        "O arquivo `estados-bruto.xml` contém informações sobre estados (nome, sigla e região). **Carregue-o na máquina virtual do Google Colab**. Um arquivo do tipo XML é similar a um arquivo do tipo HTML, exemplo do estado do Acre:"
      ]
    },
    {
      "cell_type": "markdown",
      "metadata": {
        "id": "GzjE2aEyYW5A"
      },
      "source": [
        "```xml\n",
        "<ESTADO>\n",
        "  <ID>1</ID>\n",
        "  <NOME>ACRE</NOME>\n",
        "  <IDCAPITAL>16</IDCAPITAL>\n",
        "  <SIGLA>AC</SIGLA>\n",
        "  <REGIAO>NORTE</REGIAO>\n",
        "</ESTADO>\n",
        "```"
      ]
    },
    {
      "cell_type": "markdown",
      "metadata": {
        "id": "7Mtk7Dd9UHqg"
      },
      "source": [
        "Utilize o pacote Python `beautifulsoup4` para extrair os dados do arquivo `estados-bruto.xml` providenciado. Salve os dados extraidos no arquivo `estados-limpo.csv` separado por `;`. Exemplo das três primeiras linhas mais o cabeçalho:\n",
        "\n",
        "```\n",
        "estado;sigla;regiao\n",
        "ACRE;AC;NORTE\n",
        "ALAGOAS;AL;NORDESTE\n",
        "AMAPA;AP;NORTE\n",
        "```\n",
        "\n",
        "**Dica**: Utilize o parser de xml chamado `lxml` do `beautifulsoup4`."
      ]
    },
    {
      "cell_type": "code",
      "metadata": {
        "id": "kz0ZyYI0Sg6P"
      },
      "source": [
        "# ler o arquivo estados-bruto.xml, utilize o xml parser chamado lxml\n",
        "import requests\n",
        "import csv\n",
        "from bs4 import BeautifulSoup\n",
        "\n",
        "#NOME_ARQUIVO_FONTE = '/content/estados-bruto.xml'\n",
        "\n",
        "\n",
        "NOME_ARQUIVO_FONTE = '/content/estados-bruto.xml'\n",
        "\n",
        "\n",
        "# Abrir o arquivo XML\n",
        "with open(NOME_ARQUIVO_FONTE, 'r') as arquivo:\n",
        "    conteudo = arquivo.read()\n",
        "\n",
        "fonte = BeautifulSoup(conteudo, 'xml')\n",
        "\n",
        "\n"
      ],
      "execution_count": null,
      "outputs": []
    },
    {
      "cell_type": "code",
      "metadata": {
        "id": "rB0u2NjEXhDo"
      },
      "source": [
        "# visualize os resultados\n",
        "#print(fonte)\n",
        "estados = fonte.find_all('ESTADO')\n",
        "print(estados)"
      ],
      "execution_count": null,
      "outputs": []
    },
    {
      "cell_type": "code",
      "metadata": {
        "id": "6mos3LTVXrzV"
      },
      "source": [
        "# Criar uma lista para armazenar os dados extraídos\n",
        "dados = []\n",
        "\n",
        "# Iterar sobre as tags 'ESTADO'\n",
        "for estado in estados:\n",
        "    nome = estado.find('NOME').text\n",
        "    sigla = estado.find('SIGLA').text\n",
        "    regiao = estado.find('REGIAO').text\n",
        "\n",
        "    # Adicionar os dados à lista\n",
        "    dados.append([nome, sigla, regiao])\n"
      ],
      "execution_count": null,
      "outputs": []
    },
    {
      "cell_type": "code",
      "source": [
        "print(dados)"
      ],
      "metadata": {
        "id": "L1VhtgKepqjs"
      },
      "execution_count": null,
      "outputs": []
    },
    {
      "cell_type": "code",
      "source": [
        "head = ['estado','sigla','regiao']\n",
        "\n",
        "\n",
        "with open('estados-limpo.csv',mode='w',newline='',encoding='utf-8') as arquivo:\n",
        "  escritor = csv.writer(arquivo, delimiter=\";\")\n",
        "  escritor.writerow(head)\n",
        "  escritor.writerows(dados)"
      ],
      "metadata": {
        "id": "VUqGh_yJ5w1r"
      },
      "execution_count": null,
      "outputs": []
    },
    {
      "cell_type": "code",
      "metadata": {
        "id": "9yCma_LASxFg"
      },
      "source": [
        "# escrever o conteudo extraido no arquivo estados-limpo.csv separados por ;\n",
        "\n",
        "NOME_ARQUIVO_DESTINO = 'estados-limpo.csv'\n",
        "\n",
        "# continue o codigo aqui"
      ],
      "execution_count": null,
      "outputs": []
    },
    {
      "cell_type": "markdown",
      "metadata": {
        "id": "Fq0xqYYSYq92"
      },
      "source": [
        "### **1.2. Cidades**"
      ]
    },
    {
      "cell_type": "markdown",
      "metadata": {
        "id": "eWRbjhOQYq93"
      },
      "source": [
        "O arquivo `cidades-bruto.csv` contém informações demográficas e socioeconomicas das cidades do Brasil. **Carregue-o na máquina virtual do Google Colab**. Utilize o pacote Python `pandas` para extrair os dados do arquivo `cidades-bruto.xml` providenciado. Seguindo as seguintes especificações:"
      ]
    },
    {
      "cell_type": "markdown",
      "metadata": {
        "id": "76zW8sMsbhEu"
      },
      "source": [
        "1. Apenas dados do censo de 2010;\n",
        "1. Apenas as colunas UF, Nome, PIB, Pop_est_2009 e PIB_percapita."
      ]
    },
    {
      "cell_type": "markdown",
      "metadata": {
        "id": "auiIxlw-blp8"
      },
      "source": [
        "Salve os dados extraidos no arquivo `cidades-limpo.csv` separado por `;`. Exemplo das três primeiras linhas mais o cabeçalho:\n",
        "\n",
        "```\n",
        "estado;cidade;populacao;pib;pib_percapita\n",
        "BAHIA;TREMEDAL;18433;57883.9921875;3140.23999023\n",
        "RIO GRANDE DO SUL;TURUÇU;4000;45723875;11430.96972656\n",
        "ESPIRITO SANTO;VITÓRIA;320156;19782628;61790.58984375\n",
        "```"
      ]
    },
    {
      "cell_type": "code",
      "source": [
        "import pandas as pd\n"
      ],
      "metadata": {
        "id": "cqYsVBZk2cHF"
      },
      "execution_count": null,
      "outputs": []
    },
    {
      "cell_type": "code",
      "metadata": {
        "id": "nBmWOkvzYq94"
      },
      "source": [
        "# ler o arquivo cidades-bruto.csv\n",
        "\n",
        "#cidade_fonte_dados = '/content/cidades-bruto.csv'\n",
        "\n",
        "cidade_df = pd.read_csv('cidades-bruto.csv')"
      ],
      "execution_count": null,
      "outputs": []
    },
    {
      "cell_type": "code",
      "source": [
        "cidade_df.head(3)"
      ],
      "metadata": {
        "id": "OnB3IY5b4ULK"
      },
      "execution_count": null,
      "outputs": []
    },
    {
      "cell_type": "code",
      "source": [
        "cidade_df.info()"
      ],
      "metadata": {
        "id": "0B04NAhQ80qe"
      },
      "execution_count": null,
      "outputs": []
    },
    {
      "cell_type": "code",
      "source": [],
      "metadata": {
        "id": "NgIX_PnD3-C0"
      },
      "execution_count": null,
      "outputs": []
    },
    {
      "cell_type": "code",
      "source": [
        "cidade_df.sort_values('Censo')"
      ],
      "metadata": {
        "id": "ZA9SyjmC0BZA"
      },
      "execution_count": null,
      "outputs": []
    },
    {
      "cell_type": "code",
      "metadata": {
        "id": "2NKpI4h9Yq95"
      },
      "source": [
        "# visualize os resultados\n",
        "#cidade_df = Cidade_df.loc['UF','nome','PIB','Pop_est_2009','PIB_percapita'].loc[['Censo':'2010.0']]\n",
        "\n",
        "\n",
        "cidade_df = cidade_df.loc[(cidade_df['Censo'] == 2010.0), ['UF', 'nome', 'PIB', 'Pop_est_2009', 'PIB_percapita']]\n",
        "\n",
        "\n",
        "\n",
        "# continue o codigo aqui"
      ],
      "execution_count": null,
      "outputs": []
    },
    {
      "cell_type": "code",
      "source": [
        "\n",
        "dados_cidade_df = cidade_df"
      ],
      "metadata": {
        "id": "uIYuQ351231e"
      },
      "execution_count": null,
      "outputs": []
    },
    {
      "cell_type": "code",
      "source": [
        "dados_cidade_df.head(n=3)"
      ],
      "metadata": {
        "id": "cvZbn-ZV2TyC"
      },
      "execution_count": null,
      "outputs": []
    },
    {
      "cell_type": "code",
      "metadata": {
        "id": "BRVLwHxHYq96"
      },
      "source": [
        "# manipule os dados\n",
        "import csv\n",
        "\n",
        "\n",
        "dados_cidade_df.to_csv('cidades-limpo.csv', sep=';',index=False, header=['estado','cidade','populacao','pib','pib_percapita'],encoding='UTF-8')\n",
        "\n",
        "#dados_cidade_df.to_csv('cidades-limpotst01.csv')\n",
        "\n",
        "\n",
        "\n",
        "\n",
        "# continue o codigo aqui"
      ],
      "execution_count": null,
      "outputs": []
    },
    {
      "cell_type": "code",
      "metadata": {
        "id": "GcAWBfwhYq96"
      },
      "source": [
        "# escrever o conteudo extraido no arquivo cidades-limpo.csv separados por ;\n",
        "\n",
        "NOME_ARQUIVO_DESTINO = 'cidades-limpo.csv'\n",
        "\n",
        "# continue o codigo aqui"
      ],
      "execution_count": null,
      "outputs": []
    },
    {
      "cell_type": "markdown",
      "metadata": {
        "id": "EBzoHVD8b_c7"
      },
      "source": [
        "### **1.3. Brasil**"
      ]
    },
    {
      "cell_type": "markdown",
      "metadata": {
        "id": "Ft6l5bDwb_c7"
      },
      "source": [
        "Utilize o pacote Python `pandas` para combinar os dados do arquivo `estados-bruto.csv` com os dados do arquivo `cidades-bruto.csv` em um único dataframe. Escolha a coluna e o método de combinação de tal forma que **não haja perda de dados** no processo (não produzirá valores nulos `NaN`). Salve os dados do dataframe no arquivo `brasil.csv`"
      ]
    },
    {
      "cell_type": "code",
      "metadata": {
        "id": "Vz3J7G4-dBXa"
      },
      "source": [
        "# solução do exercício 1.3\n",
        "estados_df = pd.read_csv('estados-limpo.csv',sep=';')\n",
        "cidades_df = pd.read_csv('cidades-limpo.csv',sep=';')"
      ],
      "execution_count": 27,
      "outputs": []
    },
    {
      "cell_type": "code",
      "source": [
        "estados_df.head(n=3)"
      ],
      "metadata": {
        "id": "d1t_9GMe6a0n"
      },
      "execution_count": null,
      "outputs": []
    },
    {
      "cell_type": "code",
      "source": [
        "cidades_df.head(n=3)"
      ],
      "metadata": {
        "id": "zDw4GqEg6iR6"
      },
      "execution_count": null,
      "outputs": []
    },
    {
      "cell_type": "code",
      "source": [
        "# Tratando o erros dos acentos que resultou na exclussão do estado com ascento\n",
        "# no df Brasil\n",
        "\n",
        "def substituir_caracter (caracter):\n",
        "  substituicoes = {'Í': 'I', 'Á': 'A', 'Ã': 'A', 'Ô': 'O'}\n",
        "  if caracter in substituicoes:\n",
        "    return substituicoes[caracter]\n",
        "  return caracter\n"
      ],
      "metadata": {
        "id": "Dk-oTUxv9vvp"
      },
      "execution_count": null,
      "outputs": []
    },
    {
      "cell_type": "code",
      "source": [
        "valor_unico_cidades = cidades_df['estado'].unique()\n",
        "\n",
        "display(sorted(valor_unico_cidades))"
      ],
      "metadata": {
        "id": "PAZ3md8m990R"
      },
      "execution_count": null,
      "outputs": []
    },
    {
      "cell_type": "code",
      "source": [
        "valor_unico_estado = estados_df['estado'].unique()\n",
        "\n",
        "display(sorted(valor_unico_estado))"
      ],
      "metadata": {
        "id": "l2dl49GQ8wft"
      },
      "execution_count": null,
      "outputs": []
    },
    {
      "cell_type": "code",
      "source": [
        "#\n",
        "# cidades_df = cidades_df.applymap(substituir_caracter['estado'])\n",
        "#\n",
        "cidades_df['estado'] = cidades_df['estado'].replace({'Í': 'I', 'Á': 'A', 'Ã': 'A', 'Ô': 'O'}, regex=True)"
      ],
      "metadata": {
        "id": "yS2Dw8E0EM89"
      },
      "execution_count": 38,
      "outputs": []
    },
    {
      "cell_type": "code",
      "source": [
        "brasil_df = pd.merge(right=cidades_df, left=estados_df, on='estado',how= 'inner') #"
      ],
      "metadata": {
        "id": "294xrsYs6bNf"
      },
      "execution_count": 43,
      "outputs": []
    },
    {
      "cell_type": "code",
      "source": [
        "brasil_df.isnull().any().any()"
      ],
      "metadata": {
        "id": "jqhgC6Ir8woy"
      },
      "execution_count": null,
      "outputs": []
    },
    {
      "cell_type": "code",
      "source": [
        "brasil_df.to_csv('brasil.csv',index=False)"
      ],
      "metadata": {
        "id": "kTvoI8GD-nxv"
      },
      "execution_count": 44,
      "outputs": []
    },
    {
      "cell_type": "markdown",
      "metadata": {
        "id": "waxn4B2UDHyl"
      },
      "source": [
        "---"
      ]
    },
    {
      "cell_type": "markdown",
      "metadata": {
        "id": "finLQoyyGVmk"
      },
      "source": [
        "## 2\\. Data Analytics"
      ]
    },
    {
      "cell_type": "markdown",
      "metadata": {
        "id": "Ab0GW19Ed1ig"
      },
      "source": [
        "### **2.1. DataFrame**"
      ]
    },
    {
      "cell_type": "markdown",
      "metadata": {
        "id": "l8jJYjeBdijt"
      },
      "source": [
        "Utilize o pacote Python `pandas` para carregar o arquivo `brasil.csv` no dataframe `brasil_df`."
      ]
    },
    {
      "cell_type": "code",
      "metadata": {
        "id": "8kFQLlqud4QL"
      },
      "source": [
        "# solução do exercício 2.1\n",
        "\n",
        "\n",
        "brasil_df = pd.read_csv('brasil.csv')"
      ],
      "execution_count": 45,
      "outputs": []
    },
    {
      "cell_type": "code",
      "source": [
        "brasil_df.tail(n=3)"
      ],
      "metadata": {
        "id": "rrhWfxyY_iQv",
        "colab": {
          "base_uri": "https://localhost:8080/",
          "height": 143
        },
        "outputId": "c406b647-c432-47f0-b199-9292d75b5cb7"
      },
      "execution_count": 72,
      "outputs": [
        {
          "output_type": "execute_result",
          "data": {
            "text/plain": [
              "            estado sigla   regiao                   cidade     populacao  \\\n",
              "5557  MINAS GERAIS    MG  SUDESTE   São Gonçalo do Sapucaí  2.886858e+05   \n",
              "5558  MINAS GERAIS    MG  SUDESTE                Barbacena  1.335420e+06   \n",
              "5559  MINAS GERAIS    MG  SUDESTE  São Francisco do Glória  3.237613e+04   \n",
              "\n",
              "         pib  pib_percapita  \n",
              "5557   23627   12218.469727  \n",
              "5558  128572   10386.549805  \n",
              "5559    5685    5695.009766  "
            ],
            "text/html": [
              "\n",
              "  <div id=\"df-897cb376-a717-4697-969c-eba7f3aecb05\">\n",
              "    <div class=\"colab-df-container\">\n",
              "      <div>\n",
              "<style scoped>\n",
              "    .dataframe tbody tr th:only-of-type {\n",
              "        vertical-align: middle;\n",
              "    }\n",
              "\n",
              "    .dataframe tbody tr th {\n",
              "        vertical-align: top;\n",
              "    }\n",
              "\n",
              "    .dataframe thead th {\n",
              "        text-align: right;\n",
              "    }\n",
              "</style>\n",
              "<table border=\"1\" class=\"dataframe\">\n",
              "  <thead>\n",
              "    <tr style=\"text-align: right;\">\n",
              "      <th></th>\n",
              "      <th>estado</th>\n",
              "      <th>sigla</th>\n",
              "      <th>regiao</th>\n",
              "      <th>cidade</th>\n",
              "      <th>populacao</th>\n",
              "      <th>pib</th>\n",
              "      <th>pib_percapita</th>\n",
              "    </tr>\n",
              "  </thead>\n",
              "  <tbody>\n",
              "    <tr>\n",
              "      <th>5557</th>\n",
              "      <td>MINAS GERAIS</td>\n",
              "      <td>MG</td>\n",
              "      <td>SUDESTE</td>\n",
              "      <td>São Gonçalo do Sapucaí</td>\n",
              "      <td>2.886858e+05</td>\n",
              "      <td>23627</td>\n",
              "      <td>12218.469727</td>\n",
              "    </tr>\n",
              "    <tr>\n",
              "      <th>5558</th>\n",
              "      <td>MINAS GERAIS</td>\n",
              "      <td>MG</td>\n",
              "      <td>SUDESTE</td>\n",
              "      <td>Barbacena</td>\n",
              "      <td>1.335420e+06</td>\n",
              "      <td>128572</td>\n",
              "      <td>10386.549805</td>\n",
              "    </tr>\n",
              "    <tr>\n",
              "      <th>5559</th>\n",
              "      <td>MINAS GERAIS</td>\n",
              "      <td>MG</td>\n",
              "      <td>SUDESTE</td>\n",
              "      <td>São Francisco do Glória</td>\n",
              "      <td>3.237613e+04</td>\n",
              "      <td>5685</td>\n",
              "      <td>5695.009766</td>\n",
              "    </tr>\n",
              "  </tbody>\n",
              "</table>\n",
              "</div>\n",
              "      <button class=\"colab-df-convert\" onclick=\"convertToInteractive('df-897cb376-a717-4697-969c-eba7f3aecb05')\"\n",
              "              title=\"Convert this dataframe to an interactive table.\"\n",
              "              style=\"display:none;\">\n",
              "        \n",
              "  <svg xmlns=\"http://www.w3.org/2000/svg\" height=\"24px\"viewBox=\"0 0 24 24\"\n",
              "       width=\"24px\">\n",
              "    <path d=\"M0 0h24v24H0V0z\" fill=\"none\"/>\n",
              "    <path d=\"M18.56 5.44l.94 2.06.94-2.06 2.06-.94-2.06-.94-.94-2.06-.94 2.06-2.06.94zm-11 1L8.5 8.5l.94-2.06 2.06-.94-2.06-.94L8.5 2.5l-.94 2.06-2.06.94zm10 10l.94 2.06.94-2.06 2.06-.94-2.06-.94-.94-2.06-.94 2.06-2.06.94z\"/><path d=\"M17.41 7.96l-1.37-1.37c-.4-.4-.92-.59-1.43-.59-.52 0-1.04.2-1.43.59L10.3 9.45l-7.72 7.72c-.78.78-.78 2.05 0 2.83L4 21.41c.39.39.9.59 1.41.59.51 0 1.02-.2 1.41-.59l7.78-7.78 2.81-2.81c.8-.78.8-2.07 0-2.86zM5.41 20L4 18.59l7.72-7.72 1.47 1.35L5.41 20z\"/>\n",
              "  </svg>\n",
              "      </button>\n",
              "      \n",
              "  <style>\n",
              "    .colab-df-container {\n",
              "      display:flex;\n",
              "      flex-wrap:wrap;\n",
              "      gap: 12px;\n",
              "    }\n",
              "\n",
              "    .colab-df-convert {\n",
              "      background-color: #E8F0FE;\n",
              "      border: none;\n",
              "      border-radius: 50%;\n",
              "      cursor: pointer;\n",
              "      display: none;\n",
              "      fill: #1967D2;\n",
              "      height: 32px;\n",
              "      padding: 0 0 0 0;\n",
              "      width: 32px;\n",
              "    }\n",
              "\n",
              "    .colab-df-convert:hover {\n",
              "      background-color: #E2EBFA;\n",
              "      box-shadow: 0px 1px 2px rgba(60, 64, 67, 0.3), 0px 1px 3px 1px rgba(60, 64, 67, 0.15);\n",
              "      fill: #174EA6;\n",
              "    }\n",
              "\n",
              "    [theme=dark] .colab-df-convert {\n",
              "      background-color: #3B4455;\n",
              "      fill: #D2E3FC;\n",
              "    }\n",
              "\n",
              "    [theme=dark] .colab-df-convert:hover {\n",
              "      background-color: #434B5C;\n",
              "      box-shadow: 0px 1px 3px 1px rgba(0, 0, 0, 0.15);\n",
              "      filter: drop-shadow(0px 1px 2px rgba(0, 0, 0, 0.3));\n",
              "      fill: #FFFFFF;\n",
              "    }\n",
              "  </style>\n",
              "\n",
              "      <script>\n",
              "        const buttonEl =\n",
              "          document.querySelector('#df-897cb376-a717-4697-969c-eba7f3aecb05 button.colab-df-convert');\n",
              "        buttonEl.style.display =\n",
              "          google.colab.kernel.accessAllowed ? 'block' : 'none';\n",
              "\n",
              "        async function convertToInteractive(key) {\n",
              "          const element = document.querySelector('#df-897cb376-a717-4697-969c-eba7f3aecb05');\n",
              "          const dataTable =\n",
              "            await google.colab.kernel.invokeFunction('convertToInteractive',\n",
              "                                                     [key], {});\n",
              "          if (!dataTable) return;\n",
              "\n",
              "          const docLinkHtml = 'Like what you see? Visit the ' +\n",
              "            '<a target=\"_blank\" href=https://colab.research.google.com/notebooks/data_table.ipynb>data table notebook</a>'\n",
              "            + ' to learn more about interactive tables.';\n",
              "          element.innerHTML = '';\n",
              "          dataTable['output_type'] = 'display_data';\n",
              "          await google.colab.output.renderOutput(dataTable, element);\n",
              "          const docLink = document.createElement('div');\n",
              "          docLink.innerHTML = docLinkHtml;\n",
              "          element.appendChild(docLink);\n",
              "        }\n",
              "      </script>\n",
              "    </div>\n",
              "  </div>\n",
              "  "
            ]
          },
          "metadata": {},
          "execution_count": 72
        }
      ]
    },
    {
      "cell_type": "code",
      "source": [
        "valor_unico_pais = brasil_df['estado'].unique()\n",
        "\n",
        "numeros_de_pais = sorted(valor_unico_pais)\n",
        "\n",
        "display(sorted(valor_unico_pais))\n",
        "len(numeros_de_pais)"
      ],
      "metadata": {
        "id": "pEOYGvyX9ISV",
        "colab": {
          "base_uri": "https://localhost:8080/",
          "height": 503
        },
        "outputId": "d4a6188c-4483-47ba-92f1-74df01fc3041"
      },
      "execution_count": 73,
      "outputs": [
        {
          "output_type": "display_data",
          "data": {
            "text/plain": [
              "['ACRE',\n",
              " 'ALAGOAS',\n",
              " 'AMAPA',\n",
              " 'AMAZONAS',\n",
              " 'BAHIA',\n",
              " 'CEARA',\n",
              " 'DISTRITO FEDERAL',\n",
              " 'ESPIRITO SANTO',\n",
              " 'GOIAS',\n",
              " 'MARANHAO',\n",
              " 'MATO GROSSO',\n",
              " 'MATO GROSSO DO SUL',\n",
              " 'MINAS GERAIS',\n",
              " 'PARA',\n",
              " 'PARAIBA',\n",
              " 'PARANA',\n",
              " 'PERNAMBUCO',\n",
              " 'PIAUI',\n",
              " 'RIO DE JANEIRO',\n",
              " 'RIO GRANDE DO NORTE',\n",
              " 'RIO GRANDE DO SUL',\n",
              " 'RONDONIA',\n",
              " 'RORAIMA',\n",
              " 'SANTA CATARINA',\n",
              " 'SAO PAULO',\n",
              " 'SERGIPE',\n",
              " 'TOCANTINS']"
            ]
          },
          "metadata": {}
        },
        {
          "output_type": "execute_result",
          "data": {
            "text/plain": [
              "27"
            ]
          },
          "metadata": {},
          "execution_count": 73
        }
      ]
    },
    {
      "cell_type": "code",
      "source": [
        "# Visualizqando as linhas onde a coluna 'estado' tem o valor 'PA'\n",
        "# do DF brasil antes de limpar os estados que tem acentuação\n",
        "\n",
        "valor_procurado = 'PA'\n",
        "linhas_filtradas = brasil_df.loc[brasil_df['sigla'] == valor_procurado]\n",
        "\n",
        "# Exibir as linhas filtradas\n",
        "print(linhas_filtradas)\n"
      ],
      "metadata": {
        "id": "PDf54d7PBJY8"
      },
      "execution_count": null,
      "outputs": []
    },
    {
      "cell_type": "markdown",
      "metadata": {
        "id": "ZFWvK8FXHuex"
      },
      "source": [
        "### **2.2. Analise**"
      ]
    },
    {
      "cell_type": "markdown",
      "metadata": {
        "id": "EGyz0R1dd62D"
      },
      "source": [
        "Utilize o dataframe `brasil_df` para responder as seguintes perguntas de negócio:"
      ]
    },
    {
      "cell_type": "code",
      "source": [],
      "metadata": {
        "id": "DZe0jvJy8-2t"
      },
      "execution_count": null,
      "outputs": []
    },
    {
      "cell_type": "markdown",
      "metadata": {
        "id": "lGnYVp7IeFBD"
      },
      "source": [
        " - Quais são as 10 cidades mais populosas do Brasil?"
      ]
    },
    {
      "cell_type": "code",
      "metadata": {
        "id": "KQKcD-VkeQYf"
      },
      "source": [
        "# código para responder a pergunta\n",
        "#brasil_df.head(n=10).sort_values('populacao').max()\n",
        "\n",
        "top_df = brasil_df.sort_values('populacao', ascending=False)\n",
        "\n",
        "top_10_populacao = top_df.head(n=10)\n",
        "top_10_populacao"
      ],
      "execution_count": null,
      "outputs": []
    },
    {
      "cell_type": "code",
      "source": [
        "\n",
        "top_10_populacao.info()"
      ],
      "metadata": {
        "id": "t9qsH0EjCWLO"
      },
      "execution_count": null,
      "outputs": []
    },
    {
      "cell_type": "markdown",
      "metadata": {
        "id": "l93St6uleWTp"
      },
      "source": [
        " - Quais são as 5 cidades com a menor PIB per capita da região nordeste?"
      ]
    },
    {
      "cell_type": "code",
      "metadata": {
        "id": "DS5akh2zeWTq",
        "colab": {
          "base_uri": "https://localhost:8080/",
          "height": 206
        },
        "outputId": "fe3cb7ed-0c11-48b5-ba3f-faadf07dfa72"
      },
      "source": [
        "from tables import index\n",
        "from pandas.core.ops import methods\n",
        "# código para responder a pergunta\n",
        "menor_pib_per = brasil_df.groupby('regiao').get_group('NORDESTE')\n",
        "#menor_pib_per[['cidade','pib_percapita']].sort_values('pib_percapita')\n",
        "\n",
        "# ranking das cidades\n",
        "ranking = menor_pib_per[['cidade','pib_percapita']].sort_values('pib_percapita')\n",
        "ranking['ranking'] = ranking['pib_percapita'].rank(ascending=True,method='min')\n",
        "result = ranking[['ranking','cidade','pib_percapita']].head(5)\n",
        "\n",
        "#print(result.reset_index(drop=True))\n",
        "\n",
        "display(result.reset_index(drop=True))"
      ],
      "execution_count": 71,
      "outputs": [
        {
          "output_type": "display_data",
          "data": {
            "text/plain": [
              "   ranking              cidade  pib_percapita\n",
              "0      1.0  São Vicente Ferrer    1929.969971\n",
              "1      2.0             Cajapió    2203.830078\n",
              "2      3.0       Dom Inocêncio    2358.239990\n",
              "3      4.0            Timbiras    2368.159912\n",
              "4      5.0               Axixá    2416.969971"
            ],
            "text/html": [
              "\n",
              "  <div id=\"df-1550257a-f7b4-46db-a305-812490047c41\">\n",
              "    <div class=\"colab-df-container\">\n",
              "      <div>\n",
              "<style scoped>\n",
              "    .dataframe tbody tr th:only-of-type {\n",
              "        vertical-align: middle;\n",
              "    }\n",
              "\n",
              "    .dataframe tbody tr th {\n",
              "        vertical-align: top;\n",
              "    }\n",
              "\n",
              "    .dataframe thead th {\n",
              "        text-align: right;\n",
              "    }\n",
              "</style>\n",
              "<table border=\"1\" class=\"dataframe\">\n",
              "  <thead>\n",
              "    <tr style=\"text-align: right;\">\n",
              "      <th></th>\n",
              "      <th>ranking</th>\n",
              "      <th>cidade</th>\n",
              "      <th>pib_percapita</th>\n",
              "    </tr>\n",
              "  </thead>\n",
              "  <tbody>\n",
              "    <tr>\n",
              "      <th>0</th>\n",
              "      <td>1.0</td>\n",
              "      <td>São Vicente Ferrer</td>\n",
              "      <td>1929.969971</td>\n",
              "    </tr>\n",
              "    <tr>\n",
              "      <th>1</th>\n",
              "      <td>2.0</td>\n",
              "      <td>Cajapió</td>\n",
              "      <td>2203.830078</td>\n",
              "    </tr>\n",
              "    <tr>\n",
              "      <th>2</th>\n",
              "      <td>3.0</td>\n",
              "      <td>Dom Inocêncio</td>\n",
              "      <td>2358.239990</td>\n",
              "    </tr>\n",
              "    <tr>\n",
              "      <th>3</th>\n",
              "      <td>4.0</td>\n",
              "      <td>Timbiras</td>\n",
              "      <td>2368.159912</td>\n",
              "    </tr>\n",
              "    <tr>\n",
              "      <th>4</th>\n",
              "      <td>5.0</td>\n",
              "      <td>Axixá</td>\n",
              "      <td>2416.969971</td>\n",
              "    </tr>\n",
              "  </tbody>\n",
              "</table>\n",
              "</div>\n",
              "      <button class=\"colab-df-convert\" onclick=\"convertToInteractive('df-1550257a-f7b4-46db-a305-812490047c41')\"\n",
              "              title=\"Convert this dataframe to an interactive table.\"\n",
              "              style=\"display:none;\">\n",
              "        \n",
              "  <svg xmlns=\"http://www.w3.org/2000/svg\" height=\"24px\"viewBox=\"0 0 24 24\"\n",
              "       width=\"24px\">\n",
              "    <path d=\"M0 0h24v24H0V0z\" fill=\"none\"/>\n",
              "    <path d=\"M18.56 5.44l.94 2.06.94-2.06 2.06-.94-2.06-.94-.94-2.06-.94 2.06-2.06.94zm-11 1L8.5 8.5l.94-2.06 2.06-.94-2.06-.94L8.5 2.5l-.94 2.06-2.06.94zm10 10l.94 2.06.94-2.06 2.06-.94-2.06-.94-.94-2.06-.94 2.06-2.06.94z\"/><path d=\"M17.41 7.96l-1.37-1.37c-.4-.4-.92-.59-1.43-.59-.52 0-1.04.2-1.43.59L10.3 9.45l-7.72 7.72c-.78.78-.78 2.05 0 2.83L4 21.41c.39.39.9.59 1.41.59.51 0 1.02-.2 1.41-.59l7.78-7.78 2.81-2.81c.8-.78.8-2.07 0-2.86zM5.41 20L4 18.59l7.72-7.72 1.47 1.35L5.41 20z\"/>\n",
              "  </svg>\n",
              "      </button>\n",
              "      \n",
              "  <style>\n",
              "    .colab-df-container {\n",
              "      display:flex;\n",
              "      flex-wrap:wrap;\n",
              "      gap: 12px;\n",
              "    }\n",
              "\n",
              "    .colab-df-convert {\n",
              "      background-color: #E8F0FE;\n",
              "      border: none;\n",
              "      border-radius: 50%;\n",
              "      cursor: pointer;\n",
              "      display: none;\n",
              "      fill: #1967D2;\n",
              "      height: 32px;\n",
              "      padding: 0 0 0 0;\n",
              "      width: 32px;\n",
              "    }\n",
              "\n",
              "    .colab-df-convert:hover {\n",
              "      background-color: #E2EBFA;\n",
              "      box-shadow: 0px 1px 2px rgba(60, 64, 67, 0.3), 0px 1px 3px 1px rgba(60, 64, 67, 0.15);\n",
              "      fill: #174EA6;\n",
              "    }\n",
              "\n",
              "    [theme=dark] .colab-df-convert {\n",
              "      background-color: #3B4455;\n",
              "      fill: #D2E3FC;\n",
              "    }\n",
              "\n",
              "    [theme=dark] .colab-df-convert:hover {\n",
              "      background-color: #434B5C;\n",
              "      box-shadow: 0px 1px 3px 1px rgba(0, 0, 0, 0.15);\n",
              "      filter: drop-shadow(0px 1px 2px rgba(0, 0, 0, 0.3));\n",
              "      fill: #FFFFFF;\n",
              "    }\n",
              "  </style>\n",
              "\n",
              "      <script>\n",
              "        const buttonEl =\n",
              "          document.querySelector('#df-1550257a-f7b4-46db-a305-812490047c41 button.colab-df-convert');\n",
              "        buttonEl.style.display =\n",
              "          google.colab.kernel.accessAllowed ? 'block' : 'none';\n",
              "\n",
              "        async function convertToInteractive(key) {\n",
              "          const element = document.querySelector('#df-1550257a-f7b4-46db-a305-812490047c41');\n",
              "          const dataTable =\n",
              "            await google.colab.kernel.invokeFunction('convertToInteractive',\n",
              "                                                     [key], {});\n",
              "          if (!dataTable) return;\n",
              "\n",
              "          const docLinkHtml = 'Like what you see? Visit the ' +\n",
              "            '<a target=\"_blank\" href=https://colab.research.google.com/notebooks/data_table.ipynb>data table notebook</a>'\n",
              "            + ' to learn more about interactive tables.';\n",
              "          element.innerHTML = '';\n",
              "          dataTable['output_type'] = 'display_data';\n",
              "          await google.colab.output.renderOutput(dataTable, element);\n",
              "          const docLink = document.createElement('div');\n",
              "          docLink.innerHTML = docLinkHtml;\n",
              "          element.appendChild(docLink);\n",
              "        }\n",
              "      </script>\n",
              "    </div>\n",
              "  </div>\n",
              "  "
            ]
          },
          "metadata": {}
        }
      ]
    },
    {
      "cell_type": "markdown",
      "metadata": {
        "id": "GqwffgUmedmb"
      },
      "source": [
        " - Quais são as 15 cidades com maior PIB do do estado de São Paulo?"
      ]
    },
    {
      "cell_type": "code",
      "metadata": {
        "id": "tFKEn1gLedmc"
      },
      "source": [
        "# código para responder a pergunta\n",
        "\n",
        "# dessa vez não coloquei o ranking.\n",
        "maior_pib = brasil_df.groupby('estado').get_group('SAO PAULO')\n",
        "maior_pib[['sigla','cidade','pib']].sort_values('pib',ascending=False).head(15)"
      ],
      "execution_count": null,
      "outputs": []
    },
    {
      "cell_type": "markdown",
      "metadata": {
        "id": "Wg_la1wOewoB"
      },
      "source": [
        " - Qual é o PIB do estado de Santa Catarina?"
      ]
    },
    {
      "cell_type": "code",
      "metadata": {
        "id": "LwGqow5_ewoB"
      },
      "source": [
        "# código para responder a pergunta\n",
        "santa_pib = brasil_df.groupby('estado').get_group('SANTA CATARINA')\n",
        "santa_pib[['pib']].sum()"
      ],
      "execution_count": null,
      "outputs": []
    },
    {
      "cell_type": "markdown",
      "metadata": {
        "id": "Yaw2gDukfApr"
      },
      "source": [
        " - Qual é o população da região sul?"
      ]
    },
    {
      "cell_type": "code",
      "metadata": {
        "id": "enEkNjFQfAps",
        "colab": {
          "base_uri": "https://localhost:8080/"
        },
        "outputId": "1296ee9b-f704-4820-e6e6-1c0232c290a3"
      },
      "source": [
        "# código para responder a pergunta\n",
        "pop_sul = brasil_df.groupby('regiao').get_group('SUL')\n",
        "\n",
        "pop_sul = pop_sul['populacao'].agg('sum')\n",
        "\n",
        "print(f\"Há {pop_sul:.2f} pessoas vivendo na Região Sul\")\n",
        "print(round(pop_sul))"
      ],
      "execution_count": 95,
      "outputs": [
        {
          "output_type": "stream",
          "name": "stdout",
          "text": [
            "Há 535662083.79 pessoas vivendo na Região Sul\n",
            "535662084\n"
          ]
        }
      ]
    },
    {
      "cell_type": "markdown",
      "metadata": {
        "id": "9qOaKRS9fFu8"
      },
      "source": [
        " - Qual é o PIB per capito médio das cidades do Mato Grosso do Sul?"
      ]
    },
    {
      "cell_type": "code",
      "metadata": {
        "id": "gX8DVSfFfFu9",
        "colab": {
          "base_uri": "https://localhost:8080/"
        },
        "outputId": "99e13531-8ddf-4cc2-9423-93851759d0cf"
      },
      "source": [
        "# código para responder a pergunta\n",
        "media_pib = brasil_df.groupby('estado').get_group('MATO GROSSO DO SUL')\n",
        "media_pib = media_pib['pib_percapita'].agg('mean')\n",
        "\n",
        "print(round(media_pib))"
      ],
      "execution_count": 94,
      "outputs": [
        {
          "output_type": "stream",
          "name": "stdout",
          "text": [
            "14459\n"
          ]
        }
      ]
    },
    {
      "cell_type": "markdown",
      "metadata": {
        "id": "lvf-VqaffS2D"
      },
      "source": [
        " - Qual é a população do Brasil?"
      ]
    },
    {
      "cell_type": "code",
      "metadata": {
        "id": "_nBsY6EcfS2E",
        "colab": {
          "base_uri": "https://localhost:8080/"
        },
        "outputId": "4bdef9b8-109c-4a14-f056-ee3fc19660a2"
      },
      "source": [
        "# código para responder a pergunta\n",
        "\n",
        "populacao_total  = brasil_df['populacao'].agg('sum')\n",
        "\n",
        "print(f\"Em 2010 á população do Brasil era de {populacao_total:.2f} de pessoas\")"
      ],
      "execution_count": 100,
      "outputs": [
        {
          "output_type": "stream",
          "name": "stdout",
          "text": [
            "Em 2010 á população do Brasil era de 3238208412.45 de pessoas\n"
          ]
        }
      ]
    },
    {
      "cell_type": "markdown",
      "metadata": {
        "id": "hnTSARXpipkP"
      },
      "source": [
        "### **2.3. Visualização**"
      ]
    },
    {
      "cell_type": "markdown",
      "metadata": {
        "id": "7coMkY8xixFO"
      },
      "source": [
        "Utilize o dataframe `brasil_df` para gerar as seguintes visualizações."
      ]
    },
    {
      "cell_type": "markdown",
      "metadata": {
        "id": "SgvPvh4Vjctx"
      },
      "source": [
        " - Gere um gráfico de barras com as 10 cidades menos populosas do Brasil."
      ]
    },
    {
      "cell_type": "code",
      "source": [
        "import matplotlib.pyplot as plt\n"
      ],
      "metadata": {
        "id": "vqLqXkNTbxlS"
      },
      "execution_count": 117,
      "outputs": []
    },
    {
      "cell_type": "code",
      "source": [
        "cidade_menor_pop = brasil_df.sort_values(by=['populacao'],ascending=False).head(10)\n",
        "\n",
        "cidade_menor_pop.plot(x='cidade',y='populacao', kind='bar', figsize=[15,5])"
      ],
      "metadata": {
        "id": "UVucZzcQfqgr"
      },
      "execution_count": null,
      "outputs": []
    },
    {
      "cell_type": "code",
      "metadata": {
        "id": "V8eM0uEUjcty"
      },
      "source": [
        "# código para gerar a visualização\n",
        "cidade_menor_pop = brasil_df.sort_values(by=['populacao'],ascending=False).head(10)\n",
        "\n",
        "ax = cidade_menor_pop.plot(x='cidade',y='populacao', kind='bar', figsize=[15,5])\n",
        "ax.set_xlabel('Cidade')\n",
        "ax.set_ylabel('População')\n",
        "\n",
        "\n",
        "for i, v in enumerate(cidade_menor_pop['populacao']):\n",
        "    ax.annotate(str(v), (i, v), ha='center', va='bottom')\n",
        "\n",
        "\n",
        "plt.show()"
      ],
      "execution_count": null,
      "outputs": []
    },
    {
      "cell_type": "markdown",
      "metadata": {
        "id": "gsa3SrTjjrGV"
      },
      "source": [
        " - Gere um gráfico de pizza com a proporção da população do Brasil por região."
      ]
    },
    {
      "cell_type": "code",
      "metadata": {
        "id": "1dvqIAEHjrGV"
      },
      "source": [
        "# código para gerar a visualização\n",
        "\n",
        "# Soma a população por regiao\n",
        "populacao_por_regiao = brasil_df.groupby('regiao')['populacao'].sum()\n",
        "\n",
        "# Crie o gráfico de pizza\n",
        "plt.figure(figsize=[8, 8])\n",
        "\n",
        "plt.pie(populacao_por_regiao, labels=populacao_por_regiao.index, autopct='%1.1f%%')\n",
        "\n",
        "plt.title('Proporção da População do Brasil por Região')\n",
        "\n",
        "plt.show()\n",
        "\n",
        "\n",
        "#"
      ],
      "execution_count": null,
      "outputs": []
    }
  ]
}