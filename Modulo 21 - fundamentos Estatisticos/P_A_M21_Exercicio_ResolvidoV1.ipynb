{
  "nbformat": 4,
  "nbformat_minor": 0,
  "metadata": {
    "colab": {
      "provenance": []
    },
    "kernelspec": {
      "name": "python3",
      "display_name": "Python 3"
    }
  },
  "cells": [
    {
      "cell_type": "markdown",
      "metadata": {
        "id": "KJqp9AANOCtf"
      },
      "source": [
        "<img src=\"https://raw.githubusercontent.com/andre-marcos-perez/ebac-course-utils/main/media/logo/newebac_logo_black_half.png\" alt=\"ebac-logo\">\n",
        "\n",
        "---\n",
        "\n",
        "# **Módulo** | Análise de Dados: Fundamentos de Estatística\n",
        "Caderno de **Exercícios**<br>\n",
        "Professor [André Perez](https://www.linkedin.com/in/andremarcosperez/)\n",
        "\n",
        "---"
      ]
    },
    {
      "cell_type": "markdown",
      "metadata": {
        "id": "d9jDtUbDOE1-"
      },
      "source": [
        "# **Tópicos**\n",
        "\n",
        "<ol type=\"1\">\n",
        "  <li>Média e Variância;</li>\n",
        "  <li>Ordem e Posição;</li>\n",
        "  <li>Correlação.</li>\n",
        "</ol>"
      ]
    },
    {
      "cell_type": "markdown",
      "metadata": {
        "id": "SmoHgt-lwkpD"
      },
      "source": [
        "---"
      ]
    },
    {
      "cell_type": "markdown",
      "metadata": {
        "id": "GABI6OW8OfQ2"
      },
      "source": [
        "# **Exercícios**"
      ]
    },
    {
      "cell_type": "markdown",
      "metadata": {
        "id": "kzRDceCvkFj2"
      },
      "source": [
        "## 1\\. Tráfego de São Paulo"
      ]
    },
    {
      "cell_type": "markdown",
      "metadata": {
        "id": "WCQi-s0Hpd5V"
      },
      "source": [
        "Neste exercício, vamos continuar a analisar os dados de mobilidade urbana da cidade de São Paulo. A base de dados está neste [link](https://raw.githubusercontent.com/andre-marcos-perez/ebac-course-utils/develop/dataset/traffic.csv) e é uma copia do dado original, presente neste [link](https://archive.ics.uci.edu/ml/datasets/Behavior+of+the+urban+traffic+of+the+city+of+Sao+Paulo+in+Brazil). A base de dados contem a quantidade de acidentes ocorridos na cidade entre 14/12/09 e 18/12/09, das 07:00h ás 20:00h, agregados em intervalos de 30 minutos."
      ]
    },
    {
      "cell_type": "code",
      "metadata": {
        "id": "lblH8kIXzPZZ"
      },
      "source": [
        "!wget -q \"https://raw.githubusercontent.com/andre-marcos-perez/ebac-course-utils/develop/dataset/traffic.csv\" -O traffic.csv"
      ],
      "execution_count": 15,
      "outputs": []
    },
    {
      "cell_type": "code",
      "metadata": {
        "id": "cuuqGTo_ffKI"
      },
      "source": [
        "import numpy as np\n",
        "import pandas as pd\n",
        "import seaborn as sns\n",
        "import matplotlib.pyplot as plt\n",
        "\n"
      ],
      "execution_count": 27,
      "outputs": []
    },
    {
      "cell_type": "code",
      "metadata": {
        "id": "VR3UdrrQgJ4K"
      },
      "source": [
        "df = pd.read_csv('traffic.csv', sep=';')"
      ],
      "execution_count": 17,
      "outputs": []
    },
    {
      "cell_type": "code",
      "metadata": {
        "id": "znk9Z9TLgTGP"
      },
      "source": [
        "df.head()"
      ],
      "execution_count": null,
      "outputs": []
    },
    {
      "cell_type": "code",
      "source": [
        "# Remova a primeira e última coluna\n",
        "#df = df.iloc[:, 1:-1]\n",
        "#df = df.drop(columns=['slowness_traffic_%'])"
      ],
      "metadata": {
        "id": "LEB6bhz9qPvP"
      },
      "execution_count": 6,
      "outputs": []
    },
    {
      "cell_type": "markdown",
      "metadata": {
        "id": "eMG4JHaugQbV"
      },
      "source": [
        "- **Exemplo**: (para relembrar)"
      ]
    },
    {
      "cell_type": "markdown",
      "metadata": {
        "id": "WGcei39Pwc9u"
      },
      "source": [
        "O código abaixo extrai a 13ª linha do arquivo que representa a 14ª meia hora do dia 14/12/09, contadas a partir das 07:00h, ou seja, todos os incidentes ocorridos na cidade no dia em questão entre as 13:30h e 14:00h. Vemos, por exemplo, que dois ônibus e dois caminhões ficaram paradados nas ruas da cidade, atrapalhando o tráfego."
      ]
    },
    {
      "cell_type": "code",
      "source": [
        "df.iloc[[13]]\n",
        "\n",
        "#df.iloc[13, 1:]"
      ],
      "metadata": {
        "id": "yneFflVpsF97"
      },
      "execution_count": null,
      "outputs": []
    },
    {
      "cell_type": "code",
      "metadata": {
        "id": "rVUKA_RkiFeg"
      },
      "source": [
        "array_dia_14 = []\n",
        "\n",
        "my_array1 = np.array(df.iloc[[25]]).sum()\n",
        "my_array2 = np.array(df.iloc[[26]]).sum()\n",
        "\n",
        "array_dia_14.append(my_array1)\n",
        "\n",
        "array_dia_14.append(my_array2)"
      ],
      "execution_count": null,
      "outputs": []
    },
    {
      "cell_type": "code",
      "source": [
        "exemplo = [0, 0, 0, 0, 0, 0, 0, 0, 0, 0, 0, 1, 0, 5, 2, 0, 0, 0, 0, 0, 1, 0, 0, 0, 2, 2, 3]"
      ],
      "metadata": {
        "id": "KkaThCTltfxC"
      },
      "execution_count": null,
      "outputs": []
    },
    {
      "cell_type": "markdown",
      "metadata": {
        "id": "HrTLgE0tki6P"
      },
      "source": [
        "### **1.1. Agregação**"
      ]
    },
    {
      "cell_type": "markdown",
      "metadata": {
        "id": "7tIjNOs8q6aZ"
      },
      "source": [
        "Neste primeira atividade, você deve gerar um array NumPy por dia. Para cada array você deve somar todos os incidentes que aconteceram naquela meia hora. Sendo assim, cada array deve ter 27 posições, cada qual com a soma dos incidentes daquela meira hora."
      ]
    },
    {
      "cell_type": "markdown",
      "metadata": {
        "id": "fKzfMXTO280n"
      },
      "source": [
        "**Dica**: Você deve remover a primeira e a última coluna."
      ]
    },
    {
      "cell_type": "markdown",
      "metadata": {
        "id": "KEUTG1OIs0VN"
      },
      "source": [
        "**Dica**: Os arrays devem ter os seguintes valores:\n",
        "\n",
        "```python\n",
        "14: [0, 0, 0, 0, 0, 0, 0, 0, 0, 0, 0, 1, 0, 5, 2, 0, 0, 0, 0, 0, 1, 0, 0, 0, 2, 2, 3]\n",
        "15: [3, 0, 0, 0, 2, 4, 2, 1, 3, 0, 2, 0, 2, 3, 2, 2, 4, 7, 6, 3, 0, 1, 1, 5, 4, 6, 0]\n",
        "16: [1, 1, 2, 4, 4, 5, 3, 2, 4, 2, 1, 1, 3, 6, 2, 0, 2, 8, 4, 6, 4, 1, 2, 7, 15, 4, 0]\n",
        "17: [4, 1, 1, 0, 0, 0, 2, 3, 2, 7, 2, 1, 7, 3, 6, 4, 3, 2, 2, 3, 2, 5, 2, 0, 1, 4, 15]\n",
        "18: [10, 1, 1, 5, 5, 7, 3, 4, 3, 1, 2, 3, 2, 2, 6, 2, 2, 4, 2, 3, 0, 3, 3, 2, 3, 6, 0]\n",
        "```"
      ]
    },
    {
      "cell_type": "code",
      "metadata": {
        "id": "IwTTh4VKkdKN"
      },
      "source": [
        "# resposta da questão 1.1"
      ],
      "execution_count": null,
      "outputs": []
    },
    {
      "cell_type": "code",
      "source": [
        "#df.shape\n",
        "#df.hour.min()\n",
        "#df.hour.max()"
      ],
      "metadata": {
        "id": "ZTtNjhSIkFFE"
      },
      "execution_count": null,
      "outputs": []
    },
    {
      "cell_type": "code",
      "source": [
        "data_dia_14 = np.array(df.iloc[0:27,1:-1]).sum(axis=1)\n",
        "md_14 = np.mean(data_dia_14)\n",
        "pd_14 = np.std(data_dia_14)"
      ],
      "metadata": {
        "id": "NQBXHSL2kqG_"
      },
      "execution_count": 72,
      "outputs": []
    },
    {
      "cell_type": "code",
      "source": [
        "data_dia_15 = np.array(df.iloc[27:54,1:-1]).sum(axis=1)\n",
        "md_15 = np.mean(data_dia_15)\n",
        "pd_15 = np.std(data_dia_15)"
      ],
      "metadata": {
        "id": "I1Hw5nXYlGt5"
      },
      "execution_count": 74,
      "outputs": []
    },
    {
      "cell_type": "code",
      "source": [
        "data_dia_16 = np.array(df.iloc[54:81,1:-1]).sum(axis=1)\n",
        "md_16 = np.mean(data_dia_16)\n",
        "pd_16 = np.std(data_dia_16)"
      ],
      "metadata": {
        "id": "tfpz-f14mSzB"
      },
      "execution_count": 84,
      "outputs": []
    },
    {
      "cell_type": "code",
      "source": [
        "data_dia_17 = np.array(df.iloc[81:108,1:-1]).sum(axis=1)\n",
        "md_17 = np.mean(data_dia_17)\n",
        "pd_17 = np.std(data_dia_17)"
      ],
      "metadata": {
        "id": "aHoJ4XWMmx7Y"
      },
      "execution_count": 85,
      "outputs": []
    },
    {
      "cell_type": "code",
      "source": [
        "data_dia_18 = np.array(df.iloc[108:135,1:-1]).sum(axis=1)\n",
        "md_18 = np.mean(data_dia_18)\n",
        "pd_18 = np.std(data_dia_18)"
      ],
      "metadata": {
        "id": "nKVxvmBam4mZ"
      },
      "execution_count": 86,
      "outputs": []
    },
    {
      "cell_type": "code",
      "source": [
        "display(data_dia_14,data_dia_15,data_dia_16,data_dia_17,data_dia_18)"
      ],
      "metadata": {
        "id": "zoFpN8a_k-ET"
      },
      "execution_count": null,
      "outputs": []
    },
    {
      "cell_type": "code",
      "source": [
        "# funcão para diminuir as linhas do codigo\n",
        "\n",
        "def calcular_md_dp(dados, inicio, fim):\n",
        "    data_dia = np.array(dados.iloc[inicio:fim, 1:-1]).sum(axis=1)\n",
        "    md = np.mean(data_dia)\n",
        "    dp = np.std(data_dia)\n",
        "    return md, dp\n",
        "\n",
        "\n",
        "\n",
        "md_14, dp_14 = calcular_md_dp(df, 0, 27)\n",
        "md_15, dp_15 = calcular_md_dp(df, 27, 54)\n",
        "md_16, dp_16 = calcular_md_dp(df, 54, 81)\n",
        "md_17, dp_17 = calcular_md_dp(df, 81, 108)\n",
        "md_18, dp_18 = calcular_md_dp(df, 108, 135)\n",
        "\n",
        "print(\"Média Dia 14:\", md_14, \"Desvio Padrão Dia 14:\", dp_14)\n",
        "print(\"Média Dia 16:\", md_16, \"Desvio Padrão Dia 16:\", dp_16)\n",
        "print(\"Média Dia 18:\", md_18, \"Desvio Padrão Dia 18:\", dp_18)\n"
      ],
      "metadata": {
        "id": "FdDVlUpIn80P"
      },
      "execution_count": null,
      "outputs": []
    },
    {
      "cell_type": "markdown",
      "metadata": {
        "id": "TTh7w8rgkznY"
      },
      "source": [
        "### **1.2. Métricas**"
      ]
    },
    {
      "cell_type": "markdown",
      "metadata": {
        "id": "clBerimQs2PY"
      },
      "source": [
        "Para cada array você deve calcular as seguintes métricas:\n",
        "\n",
        " - **média**;\n",
        " - **desvio padrão**."
      ]
    },
    {
      "cell_type": "code",
      "metadata": {
        "id": "fohdVuLzkdKP"
      },
      "source": [
        "# resposta da questão 1.2"
      ],
      "execution_count": null,
      "outputs": []
    },
    {
      "cell_type": "code",
      "source": [
        "# dicionario com os valores dos dais\n",
        "# md_14 e o equivalente a a media do dia 14\n",
        "dados_dict = {'dia 14': md_14, 'dia 15': md_15, 'dia 16':md_16, 'dia 17':md_17, 'dia 18':md_18}\n",
        "dados_dict_std = {'dia 14': dp_14, 'dia 15': dp_15, 'dia 16':dp_16, 'dia 17': dp_17, 'dia 18': dp_18}\n",
        "\n",
        "rotulos = list(dados_dict.keys())\n",
        "valores = list(dados_dict.values())\n",
        "\n",
        "rotulos_dp = list(dados_dict_std.keys())\n",
        "valores_dp = list(dados_dict_std.values())"
      ],
      "metadata": {
        "id": "vZfeitRfrVGR"
      },
      "execution_count": 40,
      "outputs": []
    },
    {
      "cell_type": "code",
      "source": [
        "# Crie um gráfico de barras usando os rótulos e valores\n",
        "with sns.axes_style('whitegrid'):\n",
        "\n",
        "  grafico_md = sns.barplot(x=rotulos,y=valores,errorbar=None, palette='dark')\n",
        "  grafico_md.set(title='Média para cada dia',xlabel='Dias', ylabel='Média')\n",
        "\n"
      ],
      "metadata": {
        "id": "TViEulDGsgxk"
      },
      "execution_count": null,
      "outputs": []
    },
    {
      "cell_type": "code",
      "source": [
        "print(\"Média do Dia 16 é:\", md_16)"
      ],
      "metadata": {
        "colab": {
          "base_uri": "https://localhost:8080/"
        },
        "id": "t8zebVp7tlmb",
        "outputId": "a688ed25-63e8-48b8-9cb2-5ed628edd3d7"
      },
      "execution_count": 41,
      "outputs": [
        {
          "output_type": "stream",
          "name": "stdout",
          "text": [
            "Média do Dia 16 é: 3.4814814814814814\n"
          ]
        }
      ]
    },
    {
      "cell_type": "code",
      "source": [
        "# ----------------------------------------------------------------------------\n",
        "with sns.axes_style('whitegrid'):\n",
        "\n",
        "  grafico_md = sns.barplot(x=rotulos_dp,y=valores_dp,errorbar=None)\n",
        "  grafico_md.set(title='Média para cada dia',xlabel='Dias', ylabel='Média')\n",
        "\n"
      ],
      "metadata": {
        "id": "pHwUbOaG2kIc"
      },
      "execution_count": null,
      "outputs": []
    },
    {
      "cell_type": "code",
      "source": [
        "print(\"Menor desvio padrão do Dia 14 é:\", dp_14)"
      ],
      "metadata": {
        "colab": {
          "base_uri": "https://localhost:8080/"
        },
        "id": "PEnpBSoH3C2_",
        "outputId": "391cfe7a-37d7-45e3-b16f-6cc8317d8fe4"
      },
      "execution_count": 43,
      "outputs": [
        {
          "output_type": "stream",
          "name": "stdout",
          "text": [
            "Menor desvio padrão do Dia 14 é: 1.1944085553034889\n"
          ]
        }
      ]
    },
    {
      "cell_type": "markdown",
      "metadata": {
        "id": "xMnUokVV4Pcw"
      },
      "source": [
        "### **1.3. Interpretação**"
      ]
    },
    {
      "cell_type": "markdown",
      "metadata": {
        "id": "HxAhj3O14rhZ"
      },
      "source": [
        "Baseado nos resultados da questão 1.2, responda:"
      ]
    },
    {
      "cell_type": "markdown",
      "metadata": {
        "id": "VO4jLKYq4Pc6"
      },
      "source": [
        "> Qual dia apresenta a maior média de acidentes por meia hora?\n",
        "\n",
        "a resposta e o dia 16 com 3,48 media de acidentes."
      ]
    },
    {
      "cell_type": "markdown",
      "metadata": {
        "id": "Oj3YJnQu4byN"
      },
      "source": [
        "**Resposta:**"
      ]
    },
    {
      "cell_type": "markdown",
      "metadata": {
        "id": "3awOYi0G4fIP"
      },
      "source": [
        "> Qual dia apresenta a menor variação de acidentes por meia hora?\n",
        "\n",
        "\n",
        "a resposta e o dia com menor variação e o dia 14 com 1,19 de variancia de acidentes por meia hora."
      ]
    },
    {
      "cell_type": "markdown",
      "metadata": {
        "id": "waxn4B2UDHyl"
      },
      "source": [
        "---"
      ]
    }
  ]
}