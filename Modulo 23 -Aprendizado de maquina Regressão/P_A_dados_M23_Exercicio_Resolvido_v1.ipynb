{
  "cells": [
    {
      "cell_type": "markdown",
      "metadata": {
        "id": "KJqp9AANOCtf"
      },
      "source": [
        "<img src=\"https://raw.githubusercontent.com/andre-marcos-perez/ebac-course-utils/main/media/logo/newebac_logo_black_half.png\" alt=\"ebac-logo\">\n",
        "\n",
        "---\n",
        "\n",
        "# **Módulo** | Análise de Dados: Aprendizado de Máquina, Regressão\n",
        "Caderno de **Exercícios**<br>\n",
        "Professor [André Perez](https://www.linkedin.com/in/andremarcosperez/)\n",
        "\n",
        "---"
      ]
    },
    {
      "cell_type": "markdown",
      "metadata": {
        "id": "d9jDtUbDOE1-"
      },
      "source": [
        "# **Tópicos**\n",
        "\n",
        "<ol type=\"1\">\n",
        "  <li>Regressão;</li>\n",
        "  <li>Dados;</li>\n",
        "  <li>Treino;</li>\n",
        "  <li>Avaliação;</li>\n",
        "  <li>Predição.</li>\n",
        "</ol>"
      ]
    },
    {
      "cell_type": "markdown",
      "metadata": {
        "id": "SmoHgt-lwkpD"
      },
      "source": [
        "---"
      ]
    },
    {
      "cell_type": "markdown",
      "metadata": {
        "id": "GABI6OW8OfQ2"
      },
      "source": [
        "# **Exercícios**"
      ]
    },
    {
      "cell_type": "markdown",
      "metadata": {
        "id": "kzRDceCvkFj2"
      },
      "source": [
        "## 1\\. Pinguins"
      ]
    },
    {
      "cell_type": "markdown",
      "metadata": {
        "id": "WCQi-s0Hpd5V"
      },
      "source": [
        "Neste exercício, vamos utilizar uma base de dados com informações sobre penguins. A idéia é prever o peso do penguin (**body_mass_g**) baseado em suas características físicas e geográficas (variáveis preditivas)."
      ]
    },
    {
      "cell_type": "code",
      "execution_count": 27,
      "metadata": {
        "id": "lblH8kIXzPZZ"
      },
      "outputs": [],
      "source": [
        "import sklearn\n",
        "import numpy as np\n",
        "import pandas as pd\n",
        "import seaborn as sns\n",
        "\n",
        "\n",
        "from sklearn.linear_model import LinearRegression\n",
        "from sklearn.model_selection import train_test_split\n",
        "from sklearn.metrics import mean_squared_error\n",
        "\n"
      ]
    },
    {
      "cell_type": "code",
      "source": [
        "model = LinearRegression()"
      ],
      "metadata": {
        "id": "aQ8TdWuOnBCQ"
      },
      "execution_count": 28,
      "outputs": []
    },
    {
      "cell_type": "code",
      "execution_count": 2,
      "metadata": {
        "id": "VR3UdrrQgJ4K"
      },
      "outputs": [],
      "source": [
        "penguim = sns.load_dataset('penguins')"
      ]
    },
    {
      "cell_type": "code",
      "execution_count": 3,
      "metadata": {
        "colab": {
          "base_uri": "https://localhost:8080/",
          "height": 81
        },
        "id": "znk9Z9TLgTGP",
        "outputId": "e390885a-39b1-4a35-bde1-d936e037b72d"
      },
      "outputs": [
        {
          "output_type": "execute_result",
          "data": {
            "text/plain": [
              "  species     island  bill_length_mm  bill_depth_mm  flipper_length_mm  \\\n",
              "0  Adelie  Torgersen            39.1           18.7              181.0   \n",
              "\n",
              "   body_mass_g   sex  \n",
              "0       3750.0  Male  "
            ],
            "text/html": [
              "\n",
              "  <div id=\"df-069a1c72-5d59-4baf-9d77-dea993b05df8\" class=\"colab-df-container\">\n",
              "    <div>\n",
              "<style scoped>\n",
              "    .dataframe tbody tr th:only-of-type {\n",
              "        vertical-align: middle;\n",
              "    }\n",
              "\n",
              "    .dataframe tbody tr th {\n",
              "        vertical-align: top;\n",
              "    }\n",
              "\n",
              "    .dataframe thead th {\n",
              "        text-align: right;\n",
              "    }\n",
              "</style>\n",
              "<table border=\"1\" class=\"dataframe\">\n",
              "  <thead>\n",
              "    <tr style=\"text-align: right;\">\n",
              "      <th></th>\n",
              "      <th>species</th>\n",
              "      <th>island</th>\n",
              "      <th>bill_length_mm</th>\n",
              "      <th>bill_depth_mm</th>\n",
              "      <th>flipper_length_mm</th>\n",
              "      <th>body_mass_g</th>\n",
              "      <th>sex</th>\n",
              "    </tr>\n",
              "  </thead>\n",
              "  <tbody>\n",
              "    <tr>\n",
              "      <th>0</th>\n",
              "      <td>Adelie</td>\n",
              "      <td>Torgersen</td>\n",
              "      <td>39.1</td>\n",
              "      <td>18.7</td>\n",
              "      <td>181.0</td>\n",
              "      <td>3750.0</td>\n",
              "      <td>Male</td>\n",
              "    </tr>\n",
              "  </tbody>\n",
              "</table>\n",
              "</div>\n",
              "    <div class=\"colab-df-buttons\">\n",
              "\n",
              "  <div class=\"colab-df-container\">\n",
              "    <button class=\"colab-df-convert\" onclick=\"convertToInteractive('df-069a1c72-5d59-4baf-9d77-dea993b05df8')\"\n",
              "            title=\"Convert this dataframe to an interactive table.\"\n",
              "            style=\"display:none;\">\n",
              "\n",
              "  <svg xmlns=\"http://www.w3.org/2000/svg\" height=\"24px\" viewBox=\"0 -960 960 960\">\n",
              "    <path d=\"M120-120v-720h720v720H120Zm60-500h600v-160H180v160Zm220 220h160v-160H400v160Zm0 220h160v-160H400v160ZM180-400h160v-160H180v160Zm440 0h160v-160H620v160ZM180-180h160v-160H180v160Zm440 0h160v-160H620v160Z\"/>\n",
              "  </svg>\n",
              "    </button>\n",
              "\n",
              "  <style>\n",
              "    .colab-df-container {\n",
              "      display:flex;\n",
              "      gap: 12px;\n",
              "    }\n",
              "\n",
              "    .colab-df-convert {\n",
              "      background-color: #E8F0FE;\n",
              "      border: none;\n",
              "      border-radius: 50%;\n",
              "      cursor: pointer;\n",
              "      display: none;\n",
              "      fill: #1967D2;\n",
              "      height: 32px;\n",
              "      padding: 0 0 0 0;\n",
              "      width: 32px;\n",
              "    }\n",
              "\n",
              "    .colab-df-convert:hover {\n",
              "      background-color: #E2EBFA;\n",
              "      box-shadow: 0px 1px 2px rgba(60, 64, 67, 0.3), 0px 1px 3px 1px rgba(60, 64, 67, 0.15);\n",
              "      fill: #174EA6;\n",
              "    }\n",
              "\n",
              "    .colab-df-buttons div {\n",
              "      margin-bottom: 4px;\n",
              "    }\n",
              "\n",
              "    [theme=dark] .colab-df-convert {\n",
              "      background-color: #3B4455;\n",
              "      fill: #D2E3FC;\n",
              "    }\n",
              "\n",
              "    [theme=dark] .colab-df-convert:hover {\n",
              "      background-color: #434B5C;\n",
              "      box-shadow: 0px 1px 3px 1px rgba(0, 0, 0, 0.15);\n",
              "      filter: drop-shadow(0px 1px 2px rgba(0, 0, 0, 0.3));\n",
              "      fill: #FFFFFF;\n",
              "    }\n",
              "  </style>\n",
              "\n",
              "    <script>\n",
              "      const buttonEl =\n",
              "        document.querySelector('#df-069a1c72-5d59-4baf-9d77-dea993b05df8 button.colab-df-convert');\n",
              "      buttonEl.style.display =\n",
              "        google.colab.kernel.accessAllowed ? 'block' : 'none';\n",
              "\n",
              "      async function convertToInteractive(key) {\n",
              "        const element = document.querySelector('#df-069a1c72-5d59-4baf-9d77-dea993b05df8');\n",
              "        const dataTable =\n",
              "          await google.colab.kernel.invokeFunction('convertToInteractive',\n",
              "                                                    [key], {});\n",
              "        if (!dataTable) return;\n",
              "\n",
              "        const docLinkHtml = 'Like what you see? Visit the ' +\n",
              "          '<a target=\"_blank\" href=https://colab.research.google.com/notebooks/data_table.ipynb>data table notebook</a>'\n",
              "          + ' to learn more about interactive tables.';\n",
              "        element.innerHTML = '';\n",
              "        dataTable['output_type'] = 'display_data';\n",
              "        await google.colab.output.renderOutput(dataTable, element);\n",
              "        const docLink = document.createElement('div');\n",
              "        docLink.innerHTML = docLinkHtml;\n",
              "        element.appendChild(docLink);\n",
              "      }\n",
              "    </script>\n",
              "  </div>\n",
              "\n",
              "    </div>\n",
              "  </div>\n"
            ]
          },
          "metadata": {},
          "execution_count": 3
        }
      ],
      "source": [
        "penguim.head(n=1)"
      ]
    },
    {
      "cell_type": "markdown",
      "metadata": {
        "id": "dYTwDjt1Jnn0"
      },
      "source": [
        "### **1.1. Analise exploratoria**"
      ]
    },
    {
      "cell_type": "markdown",
      "metadata": {
        "id": "QHA3Z9E9LHbK"
      },
      "source": [
        "Utilize os gráficos abaixo para entender melhor a relação entre os atributos e variável resposta da base de dados. Comente o que observou em cada gráfico."
      ]
    },
    {
      "cell_type": "markdown",
      "metadata": {
        "id": "PQWtF5piLYTl"
      },
      "source": [
        " - Atributos por sexo:"
      ]
    },
    {
      "cell_type": "code",
      "execution_count": null,
      "metadata": {
        "id": "Hf6ekDf1JkNN"
      },
      "outputs": [],
      "source": [
        "with sns.axes_style('whitegrid'):\n",
        "\n",
        "  grafico = sns.pairplot(data=penguim, hue=\"sex\", palette=\"pastel\")"
      ]
    },
    {
      "cell_type": "markdown",
      "metadata": {
        "id": "UQzY1c1XLhNA"
      },
      "source": [
        "**Comentário:** ?\n",
        "\n",
        "Sobre o peso as femas levpesadas que os machos e que por sua vez ha mais femas do que machos.\n",
        "Os machos posuem nadadeiras maior apesar de serem mais leves, chegam a profundades maiores.\n",
        "Alem de serem mais compridos ou altos na maiorias dos casos."
      ]
    },
    {
      "cell_type": "markdown",
      "metadata": {
        "id": "yC-icRgGLc5Y"
      },
      "source": [
        " - Atributos por espécie:"
      ]
    },
    {
      "cell_type": "code",
      "execution_count": null,
      "metadata": {
        "id": "QqSoe19oJjS8"
      },
      "outputs": [],
      "source": [
        "with sns.axes_style('whitegrid'):\n",
        "\n",
        "  grafico = sns.pairplot(data=penguim, hue=\"species\", palette=\"pastel\")"
      ]
    },
    {
      "cell_type": "markdown",
      "metadata": {
        "id": "svcb1xFfLrc3"
      },
      "source": [
        "**Comentário:** ?\n",
        "Observando do pontos de vista das especies,\n",
        "os Gentoo sao os maiores e mais pesados."
      ]
    },
    {
      "cell_type": "markdown",
      "metadata": {
        "id": "xQV5iyQwLfAl"
      },
      "source": [
        " - Atributos por ilha:"
      ]
    },
    {
      "cell_type": "code",
      "execution_count": null,
      "metadata": {
        "id": "z5CgljQEJOB5"
      },
      "outputs": [],
      "source": [
        "with sns.axes_style('whitegrid'):\n",
        "\n",
        "  grafico = sns.pairplot(data=penguim, hue=\"island\", palette=\"pastel\")"
      ]
    },
    {
      "cell_type": "markdown",
      "metadata": {
        "id": "NjtgybmILsrE"
      },
      "source": [
        "**Comentário:** ?\n",
        "Do ponto de vista das ilhas, a ilha Biscoe se destaca\n",
        "com os pinguins mais pesados, a media dos peso deles e de 5kg\n",
        "os que chegam mais fundo, e com as maiores nadadeiras.\n",
        "\n",
        "\n",
        "\n",
        "\n",
        "anotações :\n",
        "length = Comprimento\n",
        "Depth  = profundidade\n",
        "flipper length = comprimento da nadadeira."
      ]
    },
    {
      "cell_type": "markdown",
      "metadata": {
        "id": "RDQqSdrWHY78"
      },
      "source": [
        "## 2\\. Dados"
      ]
    },
    {
      "cell_type": "markdown",
      "metadata": {
        "id": "HrTLgE0tki6P"
      },
      "source": [
        "### **2.1. Valores nulos**"
      ]
    },
    {
      "cell_type": "markdown",
      "metadata": {
        "id": "8JmRsG6K8SPd"
      },
      "source": [
        "A base de dados possui valores faltantes, utilize os conceitos da aula para trata-los."
      ]
    },
    {
      "cell_type": "code",
      "execution_count": null,
      "metadata": {
        "id": "8kyhQS748SPf"
      },
      "outputs": [],
      "source": [
        "# resposta da questão 2.1\n",
        "# verificar se á dados faltantes\n",
        "dados_faltantes_total = penguim.isnull().any()\n",
        "print( dados_faltantes_total)\n"
      ]
    },
    {
      "cell_type": "code",
      "execution_count": 5,
      "metadata": {
        "id": "BrauLsUKPM6P"
      },
      "outputs": [],
      "source": [
        "# Para lidar com dados faltantes uma das opções e descarta as linha onde\n",
        "# há dados faltantes.\n",
        "penguim_df_limp = penguim.dropna()"
      ]
    },
    {
      "cell_type": "code",
      "execution_count": null,
      "metadata": {
        "id": "jRfmZNC7PM6P"
      },
      "outputs": [],
      "source": [
        "#penguim_df_limp.head(n=10)\n",
        "\n",
        "dt_teste = penguim_df_limp.isnull().any()\n",
        "print(dt_teste)"
      ]
    },
    {
      "cell_type": "markdown",
      "metadata": {
        "id": "9YtwYCuk8SPU"
      },
      "source": [
        "### **2.2. Variáveis numéricas**"
      ]
    },
    {
      "cell_type": "markdown",
      "metadata": {
        "id": "7tIjNOs8q6aZ"
      },
      "source": [
        "Identifique as variáveis numéricas e crie uma nova coluna **padronizando** seus valores. A nova coluna deve ter o mesmo nome da coluna original acrescidade de \"*_std*\"."
      ]
    },
    {
      "cell_type": "markdown",
      "metadata": {
        "id": "QchO_rKR8tyx"
      },
      "source": [
        "> **Nota**: Você não deve tratar a variável resposta."
      ]
    },
    {
      "cell_type": "code",
      "execution_count": null,
      "metadata": {
        "id": "IwTTh4VKkdKN"
      },
      "outputs": [],
      "source": [
        "# resposta da questão 2.2\n",
        "\n",
        "# coletando o desvio padrão das variaveis numericas\n",
        "#penguim_df_limp.head(n=1)\n",
        "\n",
        "md_length = penguim_df_limp['bill_length_mm'].mean()\n",
        "md_depth = penguim_df_limp['bill_depth_mm'].mean()\n",
        "md_flipper = penguim_df_limp['flipper_length_mm'].mean()\n",
        "\n",
        "\n",
        "dp_length = penguim_df_limp['bill_length_mm'].std()\n",
        "dp_depth = penguim_df_limp['bill_depth_mm'].std()\n",
        "dp_flipper = penguim_df_limp['flipper_length_mm'].std()\n",
        "\n",
        "\n",
        "\n",
        "# Retornando as novas colunas padronizadas\n",
        "\n",
        "# aplicando a  media e desvio padrõa\n",
        "\n",
        "penguim_df_limp['bill_length_mm_std'] = penguim_df_limp['bill_length_mm'].apply(lambda mm : (mm - md_length) / dp_length)\n",
        "penguim_df_limp['bill_depth_mm_std'] = penguim_df_limp['bill_depth_mm'].apply(lambda mm : (mm - md_depth) / dp_depth)\n",
        "penguim_df_limp['flipper_length_mm_std'] = penguim_df_limp['flipper_length_mm'].apply(lambda mm : (mm - md_flipper) / dp_flipper)\n"
      ]
    },
    {
      "cell_type": "markdown",
      "metadata": {
        "id": "TTh7w8rgkznY"
      },
      "source": [
        "### **2.3. Variáveis categóricas**"
      ]
    },
    {
      "cell_type": "markdown",
      "metadata": {
        "id": "clBerimQs2PY"
      },
      "source": [
        "Identifique as variáveis categóricas nominais e ordinais, crie uma nova coluna aplicando a técnica correta de conversão a seus valores. A nova coluna deve ter o mesmo nome da coluna original acrescidade de \"*_nom*\" ou \"*_ord*\"."
      ]
    },
    {
      "cell_type": "markdown",
      "metadata": {
        "id": "BqpAVY109BWA"
      },
      "source": [
        "> **Nota**: Você não deve tratar a variável resposta."
      ]
    },
    {
      "cell_type": "code",
      "source": [
        "penguim_df_limp.head(n=1)"
      ],
      "metadata": {
        "id": "7peYiqdDSQSD"
      },
      "execution_count": null,
      "outputs": []
    },
    {
      "cell_type": "code",
      "execution_count": null,
      "metadata": {
        "id": "fohdVuLzkdKP"
      },
      "outputs": [],
      "source": [
        "# resposta da questão 2.3\n",
        "\n",
        "# respota mais aceitavel para a coluna \"island\"\n",
        "# nesse atividade não apresenta categoria ordinal\n",
        "\n",
        "islanda_teste = pd.get_dummies(penguim_df_limp['island'])\n",
        "islanda_teste.columns = [ str(col) + '_nrm'  for col in islanda_teste.columns]\n",
        "#print(islanda_teste)\n",
        "\n",
        "\n",
        "\n",
        "penguim_df_limp = pd.concat([penguim_df_limp,islanda_teste], axis=1)\n",
        "\n",
        "# Repetir o processo com a coluna \"sex\"\n",
        "\n",
        "sex_m = pd.get_dummies(penguim_df_limp['sex'])\n",
        "sex_m.columns = [ str(col) + '_nrm'  for col in sex_m.columns]\n",
        "#print(sex_m)\n",
        "\n",
        "\n",
        "\n",
        "penguim_df_limp = pd.concat([penguim_df_limp,sex_m], axis=1)\n",
        "\n",
        "\n",
        "\n",
        "# Repetindo o mesmo processo para a especie\n",
        "\n",
        "especie_tst = pd.get_dummies(penguim_df_limp['species'])\n",
        "especie_tst.columns = [str(col) + '_nrm' for col in especie_tst.columns]\n",
        "\n",
        "penguim_df_limp = pd.concat([penguim_df_limp,especie_tst], axis=1)\n",
        "\n"
      ]
    },
    {
      "cell_type": "code",
      "execution_count": null,
      "metadata": {
        "id": "0ApOSd5vPM6R"
      },
      "outputs": [],
      "source": [
        "penguim_df_limp.tail(n=1)"
      ]
    },
    {
      "cell_type": "markdown",
      "metadata": {
        "id": "AvkcQD9E9DGE"
      },
      "source": [
        "### **2.4. Limpeza**"
      ]
    },
    {
      "cell_type": "markdown",
      "metadata": {
        "id": "D03kCy8-9DGE"
      },
      "source": [
        "Descarte as colunas originais e mantenha apenas a variável resposta e as variáveis preditivas com o sufixo *_std*\", *_nom*\" e \"*_ord*\"."
      ]
    },
    {
      "cell_type": "code",
      "execution_count": 12,
      "metadata": {
        "id": "TuEOO6009DGE"
      },
      "outputs": [],
      "source": [
        "# resposta da questão 2.4\n",
        "\n",
        "penguim_df_limp = penguim_df_limp.drop(columns=['island','species','bill_length_mm','bill_depth_mm','flipper_length_mm','sex'],axis=1)"
      ]
    },
    {
      "cell_type": "markdown",
      "metadata": {
        "id": "p42G0OvRMFVq"
      },
      "source": [
        "### **2.5. Treino/Teste**"
      ]
    },
    {
      "cell_type": "markdown",
      "metadata": {
        "id": "WHyuv-4cMFVr"
      },
      "source": [
        "Separe a base de dados em treino e teste utilizando uma proporção de 2/3 para treino e 1/3 para testes."
      ]
    },
    {
      "cell_type": "code",
      "execution_count": 13,
      "metadata": {
        "id": "eDgjOPs4PM6S"
      },
      "outputs": [],
      "source": [
        "# resposta da questão 2.5\n",
        "\n",
        "# criando um novo df para treinamento !\n",
        "pg_df = penguim_df_limp  #.drop(columns='species')"
      ]
    },
    {
      "cell_type": "code",
      "execution_count": 62,
      "metadata": {
        "colab": {
          "base_uri": "https://localhost:8080/",
          "height": 81
        },
        "id": "ZPW8HCcNPM6S",
        "outputId": "98cfb1c1-c4b4-4d10-a585-1c2f7bb2e802"
      },
      "outputs": [
        {
          "output_type": "execute_result",
          "data": {
            "text/plain": [
              "   body_mass_g  bill_length_mm_std  bill_depth_mm_std  flipper_length_mm_std  \\\n",
              "0       3750.0           -0.894695           0.779559              -1.424608   \n",
              "\n",
              "   Biscoe_nrm  Dream_nrm  Torgersen_nrm  Female_nrm  Male_nrm  Adelie_nrm  \\\n",
              "0           0          0              1           0         1           1   \n",
              "\n",
              "   Chinstrap_nrm  Gentoo_nrm  \n",
              "0              0           0  "
            ],
            "text/html": [
              "\n",
              "  <div id=\"df-ee7ec0b3-cc63-4696-b947-4550ac586c1c\" class=\"colab-df-container\">\n",
              "    <div>\n",
              "<style scoped>\n",
              "    .dataframe tbody tr th:only-of-type {\n",
              "        vertical-align: middle;\n",
              "    }\n",
              "\n",
              "    .dataframe tbody tr th {\n",
              "        vertical-align: top;\n",
              "    }\n",
              "\n",
              "    .dataframe thead th {\n",
              "        text-align: right;\n",
              "    }\n",
              "</style>\n",
              "<table border=\"1\" class=\"dataframe\">\n",
              "  <thead>\n",
              "    <tr style=\"text-align: right;\">\n",
              "      <th></th>\n",
              "      <th>body_mass_g</th>\n",
              "      <th>bill_length_mm_std</th>\n",
              "      <th>bill_depth_mm_std</th>\n",
              "      <th>flipper_length_mm_std</th>\n",
              "      <th>Biscoe_nrm</th>\n",
              "      <th>Dream_nrm</th>\n",
              "      <th>Torgersen_nrm</th>\n",
              "      <th>Female_nrm</th>\n",
              "      <th>Male_nrm</th>\n",
              "      <th>Adelie_nrm</th>\n",
              "      <th>Chinstrap_nrm</th>\n",
              "      <th>Gentoo_nrm</th>\n",
              "    </tr>\n",
              "  </thead>\n",
              "  <tbody>\n",
              "    <tr>\n",
              "      <th>0</th>\n",
              "      <td>3750.0</td>\n",
              "      <td>-0.894695</td>\n",
              "      <td>0.779559</td>\n",
              "      <td>-1.424608</td>\n",
              "      <td>0</td>\n",
              "      <td>0</td>\n",
              "      <td>1</td>\n",
              "      <td>0</td>\n",
              "      <td>1</td>\n",
              "      <td>1</td>\n",
              "      <td>0</td>\n",
              "      <td>0</td>\n",
              "    </tr>\n",
              "  </tbody>\n",
              "</table>\n",
              "</div>\n",
              "    <div class=\"colab-df-buttons\">\n",
              "\n",
              "  <div class=\"colab-df-container\">\n",
              "    <button class=\"colab-df-convert\" onclick=\"convertToInteractive('df-ee7ec0b3-cc63-4696-b947-4550ac586c1c')\"\n",
              "            title=\"Convert this dataframe to an interactive table.\"\n",
              "            style=\"display:none;\">\n",
              "\n",
              "  <svg xmlns=\"http://www.w3.org/2000/svg\" height=\"24px\" viewBox=\"0 -960 960 960\">\n",
              "    <path d=\"M120-120v-720h720v720H120Zm60-500h600v-160H180v160Zm220 220h160v-160H400v160Zm0 220h160v-160H400v160ZM180-400h160v-160H180v160Zm440 0h160v-160H620v160ZM180-180h160v-160H180v160Zm440 0h160v-160H620v160Z\"/>\n",
              "  </svg>\n",
              "    </button>\n",
              "\n",
              "  <style>\n",
              "    .colab-df-container {\n",
              "      display:flex;\n",
              "      gap: 12px;\n",
              "    }\n",
              "\n",
              "    .colab-df-convert {\n",
              "      background-color: #E8F0FE;\n",
              "      border: none;\n",
              "      border-radius: 50%;\n",
              "      cursor: pointer;\n",
              "      display: none;\n",
              "      fill: #1967D2;\n",
              "      height: 32px;\n",
              "      padding: 0 0 0 0;\n",
              "      width: 32px;\n",
              "    }\n",
              "\n",
              "    .colab-df-convert:hover {\n",
              "      background-color: #E2EBFA;\n",
              "      box-shadow: 0px 1px 2px rgba(60, 64, 67, 0.3), 0px 1px 3px 1px rgba(60, 64, 67, 0.15);\n",
              "      fill: #174EA6;\n",
              "    }\n",
              "\n",
              "    .colab-df-buttons div {\n",
              "      margin-bottom: 4px;\n",
              "    }\n",
              "\n",
              "    [theme=dark] .colab-df-convert {\n",
              "      background-color: #3B4455;\n",
              "      fill: #D2E3FC;\n",
              "    }\n",
              "\n",
              "    [theme=dark] .colab-df-convert:hover {\n",
              "      background-color: #434B5C;\n",
              "      box-shadow: 0px 1px 3px 1px rgba(0, 0, 0, 0.15);\n",
              "      filter: drop-shadow(0px 1px 2px rgba(0, 0, 0, 0.3));\n",
              "      fill: #FFFFFF;\n",
              "    }\n",
              "  </style>\n",
              "\n",
              "    <script>\n",
              "      const buttonEl =\n",
              "        document.querySelector('#df-ee7ec0b3-cc63-4696-b947-4550ac586c1c button.colab-df-convert');\n",
              "      buttonEl.style.display =\n",
              "        google.colab.kernel.accessAllowed ? 'block' : 'none';\n",
              "\n",
              "      async function convertToInteractive(key) {\n",
              "        const element = document.querySelector('#df-ee7ec0b3-cc63-4696-b947-4550ac586c1c');\n",
              "        const dataTable =\n",
              "          await google.colab.kernel.invokeFunction('convertToInteractive',\n",
              "                                                    [key], {});\n",
              "        if (!dataTable) return;\n",
              "\n",
              "        const docLinkHtml = 'Like what you see? Visit the ' +\n",
              "          '<a target=\"_blank\" href=https://colab.research.google.com/notebooks/data_table.ipynb>data table notebook</a>'\n",
              "          + ' to learn more about interactive tables.';\n",
              "        element.innerHTML = '';\n",
              "        dataTable['output_type'] = 'display_data';\n",
              "        await google.colab.output.renderOutput(dataTable, element);\n",
              "        const docLink = document.createElement('div');\n",
              "        docLink.innerHTML = docLinkHtml;\n",
              "        element.appendChild(docLink);\n",
              "      }\n",
              "    </script>\n",
              "  </div>\n",
              "\n",
              "    </div>\n",
              "  </div>\n"
            ]
          },
          "metadata": {},
          "execution_count": 62
        }
      ],
      "source": [
        "pg_df.head(n=1)"
      ]
    },
    {
      "cell_type": "code",
      "execution_count": 63,
      "metadata": {
        "id": "Aeqg0TrWPM6S"
      },
      "outputs": [],
      "source": [
        "# parte com problemas coluna especie\n",
        "\n",
        "predictors_train, predictors_test, target_train, target_test = train_test_split(\n",
        "    pg_df.drop(['body_mass_g'], axis=1),\n",
        "    pg_df['body_mass_g'],\n",
        "    test_size=0.20,\n",
        "    random_state=123\n",
        ")"
      ]
    },
    {
      "cell_type": "markdown",
      "metadata": {
        "id": "yBRWrgn1L8dR"
      },
      "source": [
        "## 3\\. Modelagem"
      ]
    },
    {
      "cell_type": "markdown",
      "metadata": {
        "id": "mJMHdFTQL2LS"
      },
      "source": [
        "### **3.1. Treino**"
      ]
    },
    {
      "cell_type": "markdown",
      "metadata": {
        "id": "3la9bf31L2LT"
      },
      "source": [
        "Treine um modelo de **regressão linear** com os **dados de treino** (2/3)."
      ]
    },
    {
      "cell_type": "code",
      "execution_count": 29,
      "metadata": {
        "id": "gXVuVyJzL2LU"
      },
      "outputs": [],
      "source": [
        "# resposta da questão 3.1\n",
        "model = model.fit(predictors_train,target_train)\n",
        "#target_train.tail(n=1)"
      ]
    },
    {
      "cell_type": "code",
      "source": [
        "model_V2 = model.fit(predictors_train,target_train)"
      ],
      "metadata": {
        "id": "OrjqEkRzqsMR"
      },
      "execution_count": 64,
      "outputs": []
    },
    {
      "cell_type": "code",
      "source": [
        "a  = model.coef_\n",
        "print(a)"
      ],
      "metadata": {
        "colab": {
          "base_uri": "https://localhost:8080/"
        },
        "id": "PZ2GdH8fV6oe",
        "outputId": "bbabae73-df4b-4b32-a005-0c237b4afca1"
      },
      "execution_count": 76,
      "outputs": [
        {
          "output_type": "stream",
          "name": "stdout",
          "text": [
            "[ 122.71428534  151.67875009  232.32903934   17.54668263   41.01081444\n",
            "  -58.55749707 -174.52228837  174.52228837 -218.67060933 -541.07086802\n",
            "  759.74147735]\n"
          ]
        }
      ]
    },
    {
      "cell_type": "code",
      "source": [
        "b = model.intercept_\n",
        "print(b)"
      ],
      "metadata": {
        "colab": {
          "base_uri": "https://localhost:8080/"
        },
        "id": "zg_HJWfpXHMV",
        "outputId": "55142681-b7ec-4ddc-be85-ed5fc2c003a6"
      },
      "execution_count": 77,
      "outputs": [
        {
          "output_type": "stream",
          "name": "stdout",
          "text": [
            "4118.35758157121\n"
          ]
        }
      ]
    },
    {
      "cell_type": "markdown",
      "metadata": {
        "id": "KysDfb74Mav_"
      },
      "source": [
        "### **3.2. Avaliação**"
      ]
    },
    {
      "cell_type": "markdown",
      "metadata": {
        "id": "AGPKGSpFMawA"
      },
      "source": [
        "Calcule o **RMSE** para o modelo de **regressão linear** treinado com os **dados de teste** (1/3)."
      ]
    },
    {
      "cell_type": "markdown",
      "metadata": {
        "id": "p2HS4aPiR_fM"
      },
      "source": [
        "> **Nota:** Como referência, eu consegui um RMSE de approx. 296g, 7% da média do peso, uma performance razoável (seu RMSE pode não ser igual)."
      ]
    },
    {
      "cell_type": "code",
      "source": [
        "# resposta da questão 3.2\n",
        "\n",
        "target_predicted = model.predict(predictors_test)"
      ],
      "metadata": {
        "id": "SbwFmFMWmI8X"
      },
      "execution_count": 71,
      "outputs": []
    },
    {
      "cell_type": "code",
      "source": [
        "target_test[0:5]"
      ],
      "metadata": {
        "colab": {
          "base_uri": "https://localhost:8080/"
        },
        "id": "ORSNkhT6mG-4",
        "outputId": "ca56ee21-282a-4bc9-ead5-d437ec559cbb"
      },
      "execution_count": 68,
      "outputs": [
        {
          "output_type": "execute_result",
          "data": {
            "text/plain": [
              "111    4600.0\n",
              "158    3250.0\n",
              "288    4700.0\n",
              "308    4875.0\n",
              "185    4100.0\n",
              "Name: body_mass_g, dtype: float64"
            ]
          },
          "metadata": {},
          "execution_count": 68
        }
      ]
    },
    {
      "cell_type": "code",
      "source": [
        "target_predicted[0:5]"
      ],
      "metadata": {
        "colab": {
          "base_uri": "https://localhost:8080/"
        },
        "id": "FFDPdR3MnlbJ",
        "outputId": "7b7921e3-8a67-45da-e3d9-33324b300dc5"
      },
      "execution_count": 73,
      "outputs": [
        {
          "output_type": "execute_result",
          "data": {
            "text/plain": [
              "array([4204.08703208, 3190.08386152, 4797.19572907, 4738.93884754,\n",
              "       4109.70321325])"
            ]
          },
          "metadata": {},
          "execution_count": 73
        }
      ]
    },
    {
      "cell_type": "code",
      "source": [
        "# resposta da questão 3.2\n",
        "rmse = np.sqrt(mean_squared_error(target_test,target_predicted))\n",
        "\n",
        "print(rmse)"
      ],
      "metadata": {
        "colab": {
          "base_uri": "https://localhost:8080/"
        },
        "id": "K79MDdYTWCWr",
        "outputId": "f4d31732-449a-45ac-d0fe-75ad41ef1b78"
      },
      "execution_count": 74,
      "outputs": [
        {
          "output_type": "stream",
          "name": "stdout",
          "text": [
            "306.25740713291646\n"
          ]
        }
      ]
    },
    {
      "cell_type": "markdown",
      "metadata": {
        "id": "f2G0LAZ1Mfrk"
      },
      "source": [
        "## 4\\. Predição  "
      ]
    },
    {
      "cell_type": "markdown",
      "metadata": {
        "id": "71EeKkThMnbD"
      },
      "source": [
        "### **4.1. Novo penguim**"
      ]
    },
    {
      "cell_type": "markdown",
      "metadata": {
        "id": "JZfFc-OyMfrm"
      },
      "source": [
        "Qual o peso de um penguim com as seguintes características:\n"
      ]
    },
    {
      "cell_type": "markdown",
      "metadata": {
        "id": "P0Q-QJ-CM099"
      },
      "source": [
        "| species\t| island | bill_length_mm | bill_depth_mm | flipper_length_mm | sex |\n",
        "| --- | --- | --- | --- | --- | --- |\n",
        "| Adelie | Biscoe | 38.2 | 18.1 | 185.0 | Male |"
      ]
    },
    {
      "cell_type": "markdown",
      "metadata": {
        "id": "IbUFEJGGNBpD"
      },
      "source": [
        "> **Atenção:** Lembre-se de pre-processar os atributos assim como nos exercício 2.2 e 2.3"
      ]
    },
    {
      "cell_type": "markdown",
      "metadata": {
        "id": "BUiRiNDgWS6B"
      },
      "source": [
        "> **Nota:** Como referência eu obtive um peso predito de 3786.16g (a sua predição pode não ser igual)."
      ]
    },
    {
      "cell_type": "code",
      "source": [
        "# Criando array com o exemplo. padronizando os  valores numericos\n",
        "# exemplo acima estruturado [38.2,18.1,185.0,1,0,0,0,1,1,0,0]\n",
        "\n",
        "# EX =  ['body_mass','bill_length_mm_std','bill_depth_mm_std','flipper_length_mm_std','Biscoe_nrm','Dream_nrm','Torgersen_nrm','Female_nrm','Male_nrm','Adelie_nrm','Chinstrap_nrm','Gentoo_nrm']\n",
        "vbill_length_std = (38.2 - md_length) / dp_length\n",
        "vbill_deoth_std = (18.1 - md_depth) / dp_depth\n",
        "vflippe_len_std = (185.0 - md_flipper)/ dp_flipper\n",
        "\n",
        "\n",
        "ex = [vbill_length_std,vbill_deoth_std,vflippe_len_std,\n",
        "      1, #biscoe\n",
        "      0, #Dream\n",
        "      0, #Torgesen\n",
        "      0, #Femea\n",
        "      1, #Macho\n",
        "      1, #Adelia\n",
        "      0, #Chinstrap\n",
        "      0  #Gentoo\n",
        "      ]\n",
        "\n",
        "ex_array = np.array(ex)"
      ],
      "metadata": {
        "id": "cakT7MrTXWRw"
      },
      "execution_count": 58,
      "outputs": []
    },
    {
      "cell_type": "code",
      "source": [
        "#target_predicted[0:5]\n",
        "\n",
        "print(ex_array)"
      ],
      "metadata": {
        "id": "IU93YFqtY_qz",
        "colab": {
          "base_uri": "https://localhost:8080/"
        },
        "outputId": "0a2f28ff-a322-4278-a493-cb6ed3f43530"
      },
      "execution_count": 59,
      "outputs": [
        {
          "output_type": "stream",
          "name": "stdout",
          "text": [
            "[-1.05926936  0.47487218 -1.13921478  1.          0.          0.\n",
            "  0.          1.          1.          0.          0.        ]\n"
          ]
        }
      ]
    },
    {
      "cell_type": "code",
      "execution_count": 75,
      "metadata": {
        "id": "t0dPBLw9Mfrm",
        "colab": {
          "base_uri": "https://localhost:8080/"
        },
        "outputId": "6af2b919-783e-42ab-d804-44dc7c902a70"
      },
      "outputs": [
        {
          "output_type": "stream",
          "name": "stdout",
          "text": [
            "[3769.12380439]\n"
          ]
        },
        {
          "output_type": "stream",
          "name": "stderr",
          "text": [
            "/usr/local/lib/python3.10/dist-packages/sklearn/base.py:439: UserWarning: X does not have valid feature names, but LinearRegression was fitted with feature names\n",
            "  warnings.warn(\n"
          ]
        }
      ],
      "source": [
        "# resposta da questão 4.1\n",
        "\n",
        "peso_pg = model.predict(ex_array.reshape(1,-1))\n",
        "\n",
        "\n",
        "print(peso_pg)"
      ]
    },
    {
      "cell_type": "markdown",
      "metadata": {
        "id": "waxn4B2UDHyl"
      },
      "source": [
        "---"
      ]
    }
  ],
  "metadata": {
    "colab": {
      "provenance": [],
      "collapsed_sections": [
        "dYTwDjt1Jnn0",
        "HrTLgE0tki6P",
        "9YtwYCuk8SPU",
        "TTh7w8rgkznY",
        "AvkcQD9E9DGE"
      ]
    },
    "kernelspec": {
      "display_name": "Python 3",
      "name": "python3"
    },
    "language_info": {
      "codemirror_mode": {
        "name": "ipython",
        "version": 3
      },
      "file_extension": ".py",
      "mimetype": "text/x-python",
      "name": "python",
      "nbconvert_exporter": "python",
      "pygments_lexer": "ipython3",
      "version": "3.11.2"
    }
  },
  "nbformat": 4,
  "nbformat_minor": 0
}