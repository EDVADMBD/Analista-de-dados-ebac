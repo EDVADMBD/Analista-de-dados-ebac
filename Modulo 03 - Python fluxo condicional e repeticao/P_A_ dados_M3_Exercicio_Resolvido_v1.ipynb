{
  "cells": [
    {
      "cell_type": "markdown",
      "metadata": {
        "id": "TbbASjDTaW0-"
      },
      "source": [
        "# 1\\. Estrutura condicional for / in\n",
        "\n",
        "Na lista `propaganda_online` abaixo, estão presente os dados de usuários que acessaram um determinado site e se o mesmo clicou em uma propaganda."
      ]
    },
    {
      "cell_type": "markdown",
      "metadata": {
        "id": "ifRkaghlcZ2P"
      },
      "source": [
        "1.1. Imprime os seguintes valores da lista:\n",
        "`tempo_gasto_site` e `idade`\n",
        "\n",
        "Dica: Utilize os conceitos de chave e valor de elementos de uma lista para selecionar os valores de uma chave (lista[chave]), conforme exemplo abaixo, na qual imprime somente os dados da chave `cidade`:"
      ]
    },
    {
      "cell_type": "code",
      "execution_count": 1,
      "metadata": {
        "id": "VfMvGXKTaqT4"
      },
      "outputs": [],
      "source": [
        "propaganda_online = [\n",
        "  {'tempo_gasto_site': 68.95, 'idade': 35, 'renda_area': 61833.90, 'tempo_gasto_internet': 256.09, 'cidade': 'Wrightburgh', 'pais': 'Tunisia', 'clicou_no_ad': 1},\n",
        "  {'tempo_gasto_site': 80.23, 'idade': 31, 'renda_area': 68441.85, 'tempo_gasto_internet': 193.77, 'cidade': 'West Jodi', 'pais': 'Nauru', 'clicou_no_ad': 0},\n",
        "  {'tempo_gasto_site': 69.47, 'idade': 26, 'renda_area': 59785.94, 'tempo_gasto_internet': 236.50, 'cidade': 'Davidton', 'pais': 'San Marino', 'clicou_no_ad': 1},\n",
        "  {'tempo_gasto_site': 68.37, 'idade': 35, 'renda_area': 73889.99, 'tempo_gasto_internet': 225.58, 'cidade': 'South Manuel', 'pais': 'Iceland', 'clicou_no_ad': 0},\n",
        "  {'tempo_gasto_site': 88.91, 'idade': 33, 'renda_area': 53852.85, 'tempo_gasto_internet': 208.36, 'cidade': 'Brandonstad', 'pais': 'Myanmar', 'clicou_no_ad': 0},\n",
        "  {'tempo_gasto_site': None, 'idade': 48, 'renda_area': 24593.33, 'tempo_gasto_internet': 131.76, 'cidade': 'Port Jefferybury', 'pais': 'Australia', 'clicou_no_ad': 1},\n",
        "  {'tempo_gasto_site': 74.53, 'idade': 30, 'renda_area': 68862.00, 'tempo_gasto_internet': 221.51, 'cidade': 'West Colin', 'pais': 'Grenada', 'clicou_no_ad': 0},\n",
        "  {'tempo_gasto_site': 69.88, 'idade': 20, 'renda_area': 55642.32, 'tempo_gasto_internet': 183.82, 'cidade': 'Ramirezton', 'pais': 'Ghana', 'clicou_no_ad': 0}\n",
        "]"
      ]
    },
    {
      "cell_type": "code",
      "execution_count": null,
      "metadata": {
        "colab": {
          "base_uri": "https://localhost:8080/"
        },
        "id": "3f9s6SlyatIe",
        "outputId": "a38efa71-7628-4094-bced-fcf52bffed21"
      },
      "outputs": [],
      "source": [
        "# treinemanto não considerar no exercicio. \n",
        "\n",
        "\n",
        "#for dado_de_usuario in propaganda_online:\n",
        "#    print(dado_de_usuario['cidade'])\n",
        "\n",
        "\n",
        "#exemplo de codigo. \n",
        "\n",
        "for dados_de_Propaganda in propaganda_online:\n",
        "  print(f\"aaaa....  {dados_de_Propaganda['tempo_gasto_site']} \")\n",
        "\n"
      ]
    },
    {
      "cell_type": "code",
      "execution_count": 3,
      "metadata": {
        "colab": {
          "base_uri": "https://localhost:8080/"
        },
        "id": "9LtckPCkcO0Q",
        "outputId": "a92afda8-7e9c-43af-e242-ad455412d141"
      },
      "outputs": [
        {
          "name": "stdout",
          "output_type": "stream",
          "text": [
            "O tempo gasto no site e '68.95', E a idade é '35' !.\n",
            "O tempo gasto no site e '80.23', E a idade é '31' !.\n",
            "O tempo gasto no site e '69.47', E a idade é '26' !.\n",
            "O tempo gasto no site e '68.37', E a idade é '35' !.\n",
            "O tempo gasto no site e '88.91', E a idade é '33' !.\n",
            "O tempo gasto no site e 'None', E a idade é '48' !.\n",
            "O tempo gasto no site e '74.53', E a idade é '30' !.\n",
            "O tempo gasto no site e '69.88', E a idade é '20' !.\n"
          ]
        }
      ],
      "source": [
        "for dados_de_Propaganda in propaganda_online:\n",
        "    print(f\"O tempo gasto no site e '{dados_de_Propaganda['tempo_gasto_site']}', E a idade é '{dados_de_Propaganda['idade']}' !.\")"
      ]
    },
    {
      "cell_type": "markdown",
      "metadata": {
        "id": "_XqFCV2lauQ2"
      },
      "source": [
        "## 2\\. Estrutura condicional if / else\n",
        "\n",
        "2.1. Utilize a estrutura if/else para imprimir a cidade dos usuários que gastaram mais de 100 horas de tempo na internet\n",
        "\n",
        "Dica: Após a iteração dos elementos da lista (Através da estrutura condicional FOR),  utilize a estrutura if/else para criar a condição dos valores da chave `tempo_gasto_internet`"
      ]
    },
    {
      "cell_type": "code",
      "execution_count": 4,
      "metadata": {
        "id": "E4ad2G-fa6mM"
      },
      "outputs": [
        {
          "name": "stdout",
          "output_type": "stream",
          "text": [
            "Wrightburgh\n",
            "West Jodi\n",
            "Davidton\n",
            "South Manuel\n",
            "Brandonstad\n",
            "Port Jefferybury\n",
            "West Colin\n",
            "Ramirezton\n"
          ]
        }
      ],
      "source": [
        "\n",
        "for dado_de_usuario in propaganda_online:\n",
        "  try:\n",
        "    if dado_de_usuario['tempo_gasto_internet']  >= 100 :\n",
        "        print(dado_de_usuario['cidade'])\n",
        "\n",
        "    else:\n",
        "        print('não deu certo')\n",
        "\n",
        "  except TypeError:\n",
        "        print(f'{dado_de_usuario[\"cidade\"]} - O valor None não poder calculado porem a cidade é \"{dado_de_usuario[\"cidade\"]}\" ...')"
      ]
    },
    {
      "cell_type": "markdown",
      "metadata": {
        "id": "VsSiHKv9a8TV"
      },
      "source": [
        "## 3\\. Estrutura condicional try / except\n",
        "\n",
        "3.1. Utilize a estrutura try/except para imprimir as cidades dos usuários que passaram mais de 70 segundos no site. \n",
        "\n",
        "Dica: Realize o tratamento de exceções dentro da execução da iteração dos elementos da lista"
      ]
    },
    {
      "cell_type": "code",
      "execution_count": null,
      "metadata": {
        "id": "d7qfOOjYbGgq"
      },
      "outputs": [],
      "source": [
        "# for dado_de_usuario in propaganda_online:\n",
        "#  try:\n",
        "#    if dado_de_usuario['tempo_gasto_site']  >= 100 :\n",
        "#        print(dado_de_usuario['cidade'])\n",
        "#\n",
        "#    else:\n",
        "#        print('não deu certo')\n",
        "#\n",
        "#  except TypeError:\n",
        "#        print(f'{dado_de_usuario[\"cidade\"]} - O valor None não poder calculado porem a cidade é \"{dado_de_usuario[\"cidade\"]}\" ...')\n",
        "\n",
        "\n",
        "\n",
        "\n",
        "\n",
        "for dado_de_usuario in propaganda_online:\n",
        "    try:\n",
        "        if dado_de_usuario['tempo_gasto_site']  >= 70 :\n",
        "          print(dado_de_usuario['cidade'])\n",
        "    except:\n",
        "        ...  \n",
        "\n",
        "\n",
        "\n",
        "\n"
      ]
    },
    {
      "cell_type": "markdown",
      "metadata": {
        "id": "KkAClpvibLi6"
      },
      "source": [
        "# Exercício bônus\n",
        "\n",
        "1.1. Crie uma lista chamada `paises` com o pais dos usuários com mais de 30 anos. \n",
        "\n",
        "Dica: Para armazenar os países dos usuários na lista `paises` utilize o método append()."
      ]
    },
    {
      "cell_type": "code",
      "execution_count": 13,
      "metadata": {
        "colab": {
          "base_uri": "https://localhost:8080/"
        },
        "id": "C0qu5SyKbYWA",
        "outputId": "b13ef1ff-02c3-4eb8-c5fe-6e91c5896fd6"
      },
      "outputs": [
        {
          "name": "stdout",
          "output_type": "stream",
          "text": [
            "['Tunisia', 'Nauru', 'Iceland', 'Myanmar', 'Australia', 'Grenada']\n"
          ]
        }
      ],
      "source": [
        "paises = []\n",
        "for dado_de_usuario in propaganda_online:\n",
        "  if dado_de_usuario['idade']  >= 30:\n",
        "    paises.append(dado_de_usuario['pais'])\n",
        "   \n",
        "  else:\n",
        "    ...\n",
        "\n",
        "print(paises)"
      ]
    },
    {
      "cell_type": "markdown",
      "metadata": {
        "id": "43tkiegHbbo9"
      },
      "source": [
        "1.2. Crie uma lista chamada `leads` com a renda dos usuários que clicaram na propaganda. \n",
        "\n",
        "Dica: Para armazenar a renda dos usuários na lista `leads` utilize o método append()."
      ]
    },
    {
      "cell_type": "code",
      "execution_count": 12,
      "metadata": {
        "colab": {
          "base_uri": "https://localhost:8080/"
        },
        "id": "dJWyq8Vjbcvu",
        "outputId": "1910590e-51fe-44de-9680-b4cee1819124"
      },
      "outputs": [
        {
          "name": "stdout",
          "output_type": "stream",
          "text": [
            "[61833.9, 59785.94, 24593.33]\n"
          ]
        }
      ],
      "source": [
        "leads = []\n",
        "\n",
        "for dado_de_usuario in propaganda_online:\n",
        "  if dado_de_usuario['clicou_no_ad'] == 1:\n",
        "    leads.append(dado_de_usuario['renda_area'])\n",
        "\n",
        "  else:\n",
        "    ...\n",
        "   \n",
        "\n",
        "print(leads)"
      ]
    }
  ],
  "metadata": {
    "colab": {
      "provenance": []
    },
    "kernelspec": {
      "display_name": "Python 3",
      "name": "python3"
    },
    "language_info": {
      "codemirror_mode": {
        "name": "ipython",
        "version": 3
      },
      "file_extension": ".py",
      "mimetype": "text/x-python",
      "name": "python",
      "nbconvert_exporter": "python",
      "pygments_lexer": "ipython3",
      "version": "3.10.4"
    }
  },
  "nbformat": 4,
  "nbformat_minor": 0
}
