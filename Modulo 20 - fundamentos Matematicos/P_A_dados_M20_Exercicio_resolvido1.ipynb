{
  "nbformat": 4,
  "nbformat_minor": 0,
  "metadata": {
    "colab": {
      "provenance": []
    },
    "kernelspec": {
      "name": "python3",
      "display_name": "Python 3"
    }
  },
  "cells": [
    {
      "cell_type": "markdown",
      "metadata": {
        "id": "KJqp9AANOCtf"
      },
      "source": [
        "<img src=\"https://raw.githubusercontent.com/andre-marcos-perez/ebac-course-utils/main/media/logo/newebac_logo_black_half.png\" alt=\"ebac-logo\">\n",
        "\n",
        "---\n",
        "\n",
        "# **Módulo** | Análise de Dados: Fundamentos de Matemática\n",
        "Caderno de **Exercícios**<br>\n",
        "Professor [André Perez](https://www.linkedin.com/in/andremarcosperez/)\n",
        "\n",
        "---"
      ]
    },
    {
      "cell_type": "markdown",
      "metadata": {
        "id": "d9jDtUbDOE1-"
      },
      "source": [
        "# **Tópicos**\n",
        "\n",
        "<ol type=\"1\">\n",
        "  <li>Vetorização;</li>\n",
        "  <li>Arrays Numpy;</li>\n",
        "  <li>Operações.</li>\n",
        "</ol>"
      ]
    },
    {
      "cell_type": "markdown",
      "metadata": {
        "id": "SmoHgt-lwkpD"
      },
      "source": [
        "---"
      ]
    },
    {
      "cell_type": "markdown",
      "metadata": {
        "id": "GABI6OW8OfQ2"
      },
      "source": [
        "# **Exercícios**"
      ]
    },
    {
      "cell_type": "markdown",
      "metadata": {
        "id": "kzRDceCvkFj2"
      },
      "source": [
        "## 1\\. Tráfego de São Paulo"
      ]
    },
    {
      "cell_type": "markdown",
      "metadata": {
        "id": "WCQi-s0Hpd5V"
      },
      "source": [
        "Neste exercício, vamos analisar dados de mobilidade urbana da cidade de São Paulo. A base de dados está neste [link](https://raw.githubusercontent.com/andre-marcos-perez/ebac-course-utils/develop/dataset/traffic.csv) e é uma copia do dado original, presente neste [link](https://archive.ics.uci.edu/ml/datasets/Behavior+of+the+urban+traffic+of+the+city+of+Sao+Paulo+in+Brazil). A base de dados contem a quantidade de acidentes ocorridos na cidade entre 14/12/09 e 18/12/09, das 07:00h ás 20:00h, agregados em intervalos de 30 minutos."
      ]
    },
    {
      "cell_type": "code",
      "metadata": {
        "id": "lblH8kIXzPZZ"
      },
      "source": [
        "!wget -q \"https://raw.githubusercontent.com/andre-marcos-perez/ebac-course-utils/develop/dataset/traffic.csv\" -O traffic.csv"
      ],
      "execution_count": 1,
      "outputs": []
    },
    {
      "cell_type": "code",
      "metadata": {
        "id": "cuuqGTo_ffKI"
      },
      "source": [
        "import pandas as pd"
      ],
      "execution_count": 2,
      "outputs": []
    },
    {
      "cell_type": "code",
      "metadata": {
        "id": "VR3UdrrQgJ4K"
      },
      "source": [
        "df = pd.read_csv('traffic.csv', sep=';')"
      ],
      "execution_count": 3,
      "outputs": []
    },
    {
      "cell_type": "code",
      "source": [
        "df.to_csv()"
      ],
      "metadata": {
        "colab": {
          "base_uri": "https://localhost:8080/",
          "height": 123
        },
        "id": "azsMc0S2_kz6",
        "outputId": "a30433b3-5628-4267-da29-9478850a4209"
      },
      "execution_count": 4,
      "outputs": [
        {
          "output_type": "execute_result",
          "data": {
            "text/plain": [
              "',hour,bus_stoped,broken_truck,vehicle_excess,accident_victim,running_over,fire_vehicles,occurrence_freight,incident__dangerous_freight,lack_electricity,fire,flooding,manifestations,defect_trolleybuses,tree_road,semaphore_off,intermittent_emaphore,slowness_traffic_%\\n0,1,0,0,0,0,0,0,0,0,0,0,0,0,0,0,0,0,\"4,1\"\\n1,2,0,0,0,0,0,0,0,0,0,0,0,0,0,0,0,0,\"6,6\"\\n2,3,0,0,0,0,0,0,0,0,0,0,0,0,0,0,0,0,\"8,7\"\\n3,4,0,0,0,0,0,0,0,0,0,0,0,0,0,0,0,0,\"9,2\"\\n4,5,0,0,0,0,0,0,0,0,0,0,0,0,0,0,0,0,\"11,1\"\\n5,6,0,0,0,0,0,0,0,0,0,0,0,0,0,0,0,0,\"10,9\"\\n6,7,0,0,0,0,0,0,0,0,0,0,0,0,0,0,0,0,\"8,3\"\\n7,8,0,0,0,0,0,0,0,0,0,0,0,0,0,0,0,0,\"8,2\"\\n8,9,0,0,0,0,0,0,0,0,0,0,0,0,0,0,0,0,\"7,6\"\\n9,10,0,0,0,0,0,0,0,0,0,0,0,0,0,0,0,0,\"6,4\"\\n10,11,0,0,0,0,0,0,0,0,0,0,0,0,0,0,0,0,\"5,2\"\\n11,12,0,1,0,0,0,0,0,0,0,0,0,0,0,0,0,0,\"4,7\"\\n12,13,0,0,0,0,0,0,0,0,0,0,0,0,0,0,0,0,\"4,8\"\\n13,14,2,2,0,1,0,0,0,0,0,0,0,0,0,0,0,0,\"4,9\"\\n14,15,0,2,0,0,0,0,0,0,0,0,0,0,0,0,0,0,\"5,1\"\\n15,16,0,0,0,0,0,0,0,0,0,0,0,0,0,0,0,0,\"5,3\"\\n16,17,0,0,0,0,0,0,0,0,0,0,0,0,0,0,0,0,\"6,9\"\\n17,18,0,0,0,0,0,0,0,0,0,0,0,0,0,0,0,0,\"5,1\"\\n18,19,0,0,0,0,0,0,0,0,0,0,0,0,0,0,0,0,\"6,7\"\\n19,20,0,0,0,0,0,0,0,0,0,0,0,0,0,0,0,0,\"8,1\"\\n20,21,0,1,0,0,0,0,0,0,0,0,0,0,0,0,0,0,\"9,5\"\\n21,22,0,0,0,0,0,0,0,0,0,0,0,0,0,0,0,0,\"9,4\"\\n22,23,0,0,0,0,0,0,0,0,0,0,0,0,0,0,0,0,\"9,9\"\\n23,24,0,0,0,0,0,0,0,0,0,0,0,0,0,0,0,0,\"11,2\"\\n24,25,0,1,0,0,0,0,0,0,0,0,0,0,0,1,0,0,\"11,8\"\\n25,26,0,0,0,2,0,0,0,0,0,0,0,0,0,0,0,0,\"11,4\"\\n26,27,1,1,0,0,1,0,0,0,0,0,0,0,0,0,0,0,\"7,4\"\\n27,1,1,0,0,0,0,0,0,0,0,0,0,0,1,1,0,0,\"4,9\"\\n28,2,0,0,0,0,0,0,0,0,0,0,0,0,0,0,0,0,\"6,3\"\\n29,3,0,0,0,0,0,0,0,0,0,0,0,0,0,0,0,0,8\\n30,4,0,0,0,0,0,0,0,0,0,0,0,0,0,0,0,0,\"9,5\"\\n31,5,0,1,0,1,0,0,0,0,0,0,0,0,0,0,0,0,\"10,3\"\\n32,6,4,0,0,0,0,0,0,0,0,0,0,0,0,0,0,0,\"9,5\"\\n33,7,0,1,0,0,0,0,0,0,0,0,0,0,0,0,1,0,\"7,9\"\\n34,8,1,0,0,0,0,0,0,0,0,0,0,0,0,0,0,0,\"7,7\"\\n35,9,0,0,0,2,0,0,0,0,0,0,0,0,1,0,0,0,\"8,3\"\\n36,10,0,0,0,0,0,0,0,0,0,0,0,0,0,0,0,0,\"8,5\"\\n37,11,1,1,0,0,0,0,0,0,0,0,0,0,0,0,0,0,\"8,5\"\\n38,12,0,0,0,0,0,0,0,0,0,0,0,0,0,0,0,0,\"7,4\"\\n39,13,0,1,0,1,0,0,0,0,0,0,0,0,0,0,0,0,\"8,7\"\\n40,14,0,2,0,0,1,0,0,0,0,0,0,0,0,0,0,0,\"7,8\"\\n41,15,1,0,0,0,0,0,0,0,1,0,0,0,0,0,0,0,\"8,1\"\\n42,16,1,1,0,0,0,0,0,0,0,0,0,0,0,0,0,0,\"8,3\"\\n43,17,0,1,0,3,0,0,0,0,0,0,0,0,0,0,0,0,\"8,3\"\\n44,18,1,5,0,0,0,0,0,0,0,0,0,0,1,0,0,0,\"8,4\"\\n45,19,0,4,0,2,0,0,0,0,0,0,0,0,0,0,0,0,\"9,3\"\\n46,20,0,1,0,2,0,0,0,0,0,0,0,0,0,0,0,0,11\\n47,21,0,0,0,0,0,0,0,0,0,0,0,0,0,0,0,0,\"12,1\"\\n48,22,1,0,0,0,0,0,0,0,0,0,0,0,0,0,0,0,\"13,1\"\\n49,23,1,0,0,0,0,0,0,0,0,0,0,0,0,0,0,0,\"13,7\"\\n50,24,0,3,0,1,1,0,0,0,0,0,0,0,0,0,0,0,\"15,3\"\\n51,25,1,1,0,1,0,1,0,0,0,0,0,0,0,0,0,0,\"16,8\"\\n52,26,1,4,0,1,0,0,0,0,0,0,0,0,0,0,0,0,\"15,6\"\\n53,27,0,0,0,0,0,0,0,0,0,0,0,0,0,0,0,0,11\\n54,1,0,0,1,0,0,0,0,0,0,0,0,0,0,0,0,0,\"3,4\"\\n55,2,0,1,0,0,0,0,0,0,0,0,0,0,0,0,0,0,\"3,8\"\\n56,3,0,1,0,1,0,0,0,0,0,0,0,0,0,0,0,0,\"5,3\"\\n57,4,1,1,0,0,1,0,0,0,0,0,0,0,0,0,0,1,\"5,9\"\\n58,5,1,1,0,0,0,0,0,0,0,0,0,1,0,1,0,0,7\\n59,6,0,4,0,1,0,0,0,0,0,0,0,0,0,0,0,0,\"7,4\"\\n60,7,0,2,0,0,0,0,0,0,0,0,0,0,0,0,1,0,\"6,2\"\\n61,8,0,1,0,0,0,0,0,0,1,0,0,0,0,0,0,0,\"6,5\"\\n62,9,0,2,0,2,0,0,0,0,0,0,0,0,0,0,0,0,\"6,7\"\\n63,10,0,1,0,0,0,0,0,0,0,1,0,0,0,0,0,0,\"7,7\"\\n64,11,0,1,0,0,0,0,0,0,0,0,0,0,0,0,0,0,\"8,7\"\\n65,12,0,0,0,1,0,0,0,0,0,0,0,0,0,0,0,0,\"8,2\"\\n66,13,0,1,0,2,0,0,0,0,0,0,0,0,0,0,0,0,8\\n67,14,0,2,0,3,0,0,0,0,0,0,0,0,1,0,0,0,\"6,2\"\\n68,15,0,1,0,1,0,0,0,0,0,0,0,0,0,0,0,0,\"6,8\"\\n69,16,0,0,0,0,0,0,0,0,0,0,0,0,0,0,0,0,8\\n70,17,0,1,0,1,0,0,0,0,0,0,0,0,0,0,0,0,\"9,2\"\\n71,18,2,4,0,1,0,0,0,0,0,0,0,0,1,0,0,0,\"10,1\"\\n72,19,1,1,0,1,1,0,0,0,0,0,0,0,0,0,0,0,\"12,2\"\\n73,20,0,2,0,1,1,0,0,0,1,0,1,0,0,0,0,0,\"13,9\"\\n74,21,0,1,0,0,0,0,0,0,1,0,0,0,0,0,2,0,15\\n75,22,0,0,0,0,0,0,0,0,0,0,0,0,0,0,1,0,\"17,1\"\\n76,23,1,0,0,0,0,0,0,0,0,0,1,0,0,0,0,0,\"19,6\"\\n77,24,0,1,0,0,0,0,0,0,2,0,3,0,0,0,1,0,\"20,2\"\\n78,25,1,3,0,2,0,0,0,0,4,0,1,0,0,0,4,0,\"22,6\"\\n79,26,1,0,0,0,0,0,0,0,3,0,0,0,0,0,0,0,\"23,4\"\\n80,27,0,0,0,0,0,0,0,0,0,0,0,0,0,0,0,0,\"19,3\"\\n81,1,0,0,0,0,0,0,0,0,0,0,0,1,3,0,0,0,4\\n82,2,0,0,0,0,0,0,0,0,0,0,0,0,1,0,0,0,5\\n83,3,0,0,0,0,0,0,0,0,0,0,0,0,0,0,0,1,\"5,7\"\\n84,4,0,0,0,0,0,0,0,0,0,0,0,0,0,0,0,0,\"5,6\"\\n85,5,0,0,0,0,0,0,0,0,0,0,0,0,0,0,0,0,\"8,5\"\\n86,6,0,0,0,0,0,0,0,0,0,0,0,0,0,0,0,0,\"7,6\"\\n87,7,0,0,0,0,1,0,0,0,0,0,0,1,0,0,0,0,\"7,6\"\\n88,8,0,0,0,1,1,0,0,0,0,0,0,0,0,1,0,0,\"6,6\"\\n89,9,1,1,0,0,0,0,0,0,0,0,0,0,0,0,0,0,\"7,4\"\\n90,10,2,2,0,0,2,0,0,0,0,0,0,0,1,0,0,0,\"7,7\"\\n91,11,0,1,0,1,0,0,0,0,0,0,0,0,0,0,0,0,\"7,7\"\\n92,12,0,1,0,0,0,0,0,0,0,0,0,0,0,0,0,0,\"7,9\"\\n93,13,2,2,0,1,0,0,0,1,0,0,0,1,0,0,0,0,\"10,1\"\\n94,14,0,3,0,0,0,0,0,0,0,0,0,0,0,0,0,0,\"10,8\"\\n95,15,1,2,0,0,0,0,1,0,0,0,0,1,0,0,1,0,\"11,4\"\\n96,16,0,3,0,1,0,0,0,0,0,0,0,0,0,0,0,0,\"12,5\"\\n97,17,0,1,0,1,0,0,0,0,1,0,0,0,0,0,0,0,\"12,1\"\\n98,18,0,1,0,0,0,0,0,0,0,0,0,0,1,0,0,0,\"10,5\"\\n99,19,0,1,0,0,0,0,0,0,0,0,0,0,0,1,0,0,\"9,9\"\\n100,20,1,1,0,0,0,0,0,0,0,0,0,0,1,0,0,0,\"11,1\"\\n101,21,1,1,0,0,0,0,0,0,0,0,0,0,0,0,0,0,\"12,1\"\\n102,22,2,1,0,1,1,0,0,0,0,0,0,0,0,0,0,0,\"13,7\"\\n103,23,1,1,0,0,0,0,0,0,0,0,0,0,0,0,0,0,\"15,6\"\\n104,24,0,0,0,0,0,0,0,0,0,0,0,0,0,0,0,0,\"18,3\"\\n105,25,0,1,0,0,0,0,0,0,0,0,0,0,0,0,0,0,\"19,9\"\\n106,26,0,0,0,0,0,0,0,0,0,0,3,1,0,0,0,0,\"21,5\"\\n107,27,0,3,0,1,0,0,0,0,1,0,7,0,2,0,1,0,\"22,1\"\\n108,1,0,0,0,1,0,0,0,0,0,0,0,0,8,0,1,0,\"3,4\"\\n109,2,0,0,0,0,0,0,0,0,0,0,0,0,1,0,0,0,5\\n110,3,0,1,0,0,0,0,0,0,0,0,0,0,0,0,0,0,\"5,5\"\\n111,4,1,1,0,1,1,0,0,0,0,0,0,0,1,0,0,0,\"6,4\"\\n112,5,0,2,0,0,0,0,0,0,0,0,0,0,2,1,0,0,\"8,2\"\\n113,6,2,2,1,1,0,0,0,0,0,0,0,0,1,0,0,0,9\\n114,7,0,3,0,0,0,0,0,0,0,0,0,0,0,0,0,0,\"10,1\"\\n115,8,0,2,0,1,1,0,0,0,0,0,0,0,0,0,0,0,\"10,3\"\\n116,9,0,2,0,0,1,0,0,0,0,0,0,0,0,0,0,0,\"10,9\"\\n117,10,0,1,0,0,0,0,0,0,0,0,0,0,0,0,0,0,\"12,3\"\\n118,11,0,2,0,0,0,0,0,0,0,0,0,0,0,0,0,0,\"11,9\"\\n119,12,2,0,1,0,0,0,0,0,0,0,0,0,0,0,0,0,\"10,3\"\\n120,13,0,1,0,0,0,0,0,0,0,0,0,0,1,0,0,0,11\\n121,14,0,1,0,0,0,0,0,0,0,0,0,0,1,0,0,0,\"9,7\"\\n122,15,1,2,0,1,0,0,0,0,0,0,0,0,1,0,1,0,\"10,3\"\\n123,16,0,0,0,1,0,0,0,0,1,0,0,0,0,0,0,0,\"10,9\"\\n124,17,0,1,0,1,0,0,0,0,0,0,0,0,0,0,0,0,\"8,9\"\\n125,18,2,0,0,1,1,0,0,0,0,0,0,0,0,0,0,0,\"9,4\"\\n126,19,0,0,0,1,0,0,0,0,0,0,0,0,0,0,1,0,\"11,3\"\\n127,20,0,0,1,2,0,0,0,0,0,0,0,0,0,0,0,0,13\\n128,21,0,0,0,0,0,0,0,0,0,0,0,0,0,0,0,0,\"14,6\"\\n129,22,0,1,0,1,0,0,0,0,0,0,0,0,0,0,1,0,\"17,4\"\\n130,23,1,0,0,0,1,0,0,0,0,0,0,0,1,0,0,0,\"17,8\"\\n131,24,0,0,0,2,0,0,0,0,0,0,0,0,0,0,0,0,\"18,1\"\\n132,25,1,0,0,2,0,0,0,0,0,0,0,0,0,0,0,0,\"17,7\"\\n133,26,0,4,0,0,0,0,0,0,0,0,0,1,0,0,1,0,\"17,4\"\\n134,27,0,0,0,0,0,0,0,0,0,0,0,0,0,0,0,0,\"12,1\"\\n'"
            ],
            "application/vnd.google.colaboratory.intrinsic+json": {
              "type": "string"
            }
          },
          "metadata": {},
          "execution_count": 4
        }
      ]
    },
    {
      "cell_type": "code",
      "metadata": {
        "id": "znk9Z9TLgTGP"
      },
      "source": [
        "df.head()"
      ],
      "execution_count": null,
      "outputs": []
    },
    {
      "cell_type": "markdown",
      "metadata": {
        "id": "eMG4JHaugQbV"
      },
      "source": [
        "- **Exemplo**:"
      ]
    },
    {
      "cell_type": "markdown",
      "metadata": {
        "id": "WGcei39Pwc9u"
      },
      "source": [
        "O código abaixo extrai a 13ª linha do arquivo que representa a 14ª meia hora do dia 14/12/09, contadas a partir das 07:00h, ou seja, todos os incidentes ocorridos na cidade no dia em questão entre as 13:30h e 14:00h. Vemos, por exemplo, que dois ônibus e dois caminhões ficaram paradados nas ruas da cidade, atrapalhando o tráfego."
      ]
    },
    {
      "cell_type": "code",
      "metadata": {
        "id": "rVUKA_RkiFeg",
        "colab": {
          "base_uri": "https://localhost:8080/",
          "height": 101
        },
        "outputId": "4428bc59-1f69-4966-a6eb-31286ad9c48c"
      },
      "source": [
        "df.iloc[[13]]"
      ],
      "execution_count": null,
      "outputs": [
        {
          "output_type": "execute_result",
          "data": {
            "text/plain": [
              "    hour  bus_stoped  broken_truck  vehicle_excess  accident_victim  \\\n",
              "13    14           2             2               0                1   \n",
              "\n",
              "    running_over  fire_vehicles  occurrence_freight  \\\n",
              "13             0              0                   0   \n",
              "\n",
              "    incident__dangerous_freight  lack_electricity  fire  flooding  \\\n",
              "13                            0                 0     0         0   \n",
              "\n",
              "    manifestations  defect_trolleybuses  tree_road  semaphore_off  \\\n",
              "13               0                    0          0              0   \n",
              "\n",
              "    intermittent_emaphore slowness_traffic_%  \n",
              "13                      0                4,9  "
            ],
            "text/html": [
              "\n",
              "  <div id=\"df-c2607278-d572-4b9f-97cb-fbe5273653e8\" class=\"colab-df-container\">\n",
              "    <div>\n",
              "<style scoped>\n",
              "    .dataframe tbody tr th:only-of-type {\n",
              "        vertical-align: middle;\n",
              "    }\n",
              "\n",
              "    .dataframe tbody tr th {\n",
              "        vertical-align: top;\n",
              "    }\n",
              "\n",
              "    .dataframe thead th {\n",
              "        text-align: right;\n",
              "    }\n",
              "</style>\n",
              "<table border=\"1\" class=\"dataframe\">\n",
              "  <thead>\n",
              "    <tr style=\"text-align: right;\">\n",
              "      <th></th>\n",
              "      <th>hour</th>\n",
              "      <th>bus_stoped</th>\n",
              "      <th>broken_truck</th>\n",
              "      <th>vehicle_excess</th>\n",
              "      <th>accident_victim</th>\n",
              "      <th>running_over</th>\n",
              "      <th>fire_vehicles</th>\n",
              "      <th>occurrence_freight</th>\n",
              "      <th>incident__dangerous_freight</th>\n",
              "      <th>lack_electricity</th>\n",
              "      <th>fire</th>\n",
              "      <th>flooding</th>\n",
              "      <th>manifestations</th>\n",
              "      <th>defect_trolleybuses</th>\n",
              "      <th>tree_road</th>\n",
              "      <th>semaphore_off</th>\n",
              "      <th>intermittent_emaphore</th>\n",
              "      <th>slowness_traffic_%</th>\n",
              "    </tr>\n",
              "  </thead>\n",
              "  <tbody>\n",
              "    <tr>\n",
              "      <th>13</th>\n",
              "      <td>14</td>\n",
              "      <td>2</td>\n",
              "      <td>2</td>\n",
              "      <td>0</td>\n",
              "      <td>1</td>\n",
              "      <td>0</td>\n",
              "      <td>0</td>\n",
              "      <td>0</td>\n",
              "      <td>0</td>\n",
              "      <td>0</td>\n",
              "      <td>0</td>\n",
              "      <td>0</td>\n",
              "      <td>0</td>\n",
              "      <td>0</td>\n",
              "      <td>0</td>\n",
              "      <td>0</td>\n",
              "      <td>0</td>\n",
              "      <td>4,9</td>\n",
              "    </tr>\n",
              "  </tbody>\n",
              "</table>\n",
              "</div>\n",
              "    <div class=\"colab-df-buttons\">\n",
              "\n",
              "  <div class=\"colab-df-container\">\n",
              "    <button class=\"colab-df-convert\" onclick=\"convertToInteractive('df-c2607278-d572-4b9f-97cb-fbe5273653e8')\"\n",
              "            title=\"Convert this dataframe to an interactive table.\"\n",
              "            style=\"display:none;\">\n",
              "\n",
              "  <svg xmlns=\"http://www.w3.org/2000/svg\" height=\"24px\" viewBox=\"0 -960 960 960\">\n",
              "    <path d=\"M120-120v-720h720v720H120Zm60-500h600v-160H180v160Zm220 220h160v-160H400v160Zm0 220h160v-160H400v160ZM180-400h160v-160H180v160Zm440 0h160v-160H620v160ZM180-180h160v-160H180v160Zm440 0h160v-160H620v160Z\"/>\n",
              "  </svg>\n",
              "    </button>\n",
              "\n",
              "  <style>\n",
              "    .colab-df-container {\n",
              "      display:flex;\n",
              "      gap: 12px;\n",
              "    }\n",
              "\n",
              "    .colab-df-convert {\n",
              "      background-color: #E8F0FE;\n",
              "      border: none;\n",
              "      border-radius: 50%;\n",
              "      cursor: pointer;\n",
              "      display: none;\n",
              "      fill: #1967D2;\n",
              "      height: 32px;\n",
              "      padding: 0 0 0 0;\n",
              "      width: 32px;\n",
              "    }\n",
              "\n",
              "    .colab-df-convert:hover {\n",
              "      background-color: #E2EBFA;\n",
              "      box-shadow: 0px 1px 2px rgba(60, 64, 67, 0.3), 0px 1px 3px 1px rgba(60, 64, 67, 0.15);\n",
              "      fill: #174EA6;\n",
              "    }\n",
              "\n",
              "    .colab-df-buttons div {\n",
              "      margin-bottom: 4px;\n",
              "    }\n",
              "\n",
              "    [theme=dark] .colab-df-convert {\n",
              "      background-color: #3B4455;\n",
              "      fill: #D2E3FC;\n",
              "    }\n",
              "\n",
              "    [theme=dark] .colab-df-convert:hover {\n",
              "      background-color: #434B5C;\n",
              "      box-shadow: 0px 1px 3px 1px rgba(0, 0, 0, 0.15);\n",
              "      filter: drop-shadow(0px 1px 2px rgba(0, 0, 0, 0.3));\n",
              "      fill: #FFFFFF;\n",
              "    }\n",
              "  </style>\n",
              "\n",
              "    <script>\n",
              "      const buttonEl =\n",
              "        document.querySelector('#df-c2607278-d572-4b9f-97cb-fbe5273653e8 button.colab-df-convert');\n",
              "      buttonEl.style.display =\n",
              "        google.colab.kernel.accessAllowed ? 'block' : 'none';\n",
              "\n",
              "      async function convertToInteractive(key) {\n",
              "        const element = document.querySelector('#df-c2607278-d572-4b9f-97cb-fbe5273653e8');\n",
              "        const dataTable =\n",
              "          await google.colab.kernel.invokeFunction('convertToInteractive',\n",
              "                                                    [key], {});\n",
              "        if (!dataTable) return;\n",
              "\n",
              "        const docLinkHtml = 'Like what you see? Visit the ' +\n",
              "          '<a target=\"_blank\" href=https://colab.research.google.com/notebooks/data_table.ipynb>data table notebook</a>'\n",
              "          + ' to learn more about interactive tables.';\n",
              "        element.innerHTML = '';\n",
              "        dataTable['output_type'] = 'display_data';\n",
              "        await google.colab.output.renderOutput(dataTable, element);\n",
              "        const docLink = document.createElement('div');\n",
              "        docLink.innerHTML = docLinkHtml;\n",
              "        element.appendChild(docLink);\n",
              "      }\n",
              "    </script>\n",
              "  </div>\n",
              "\n",
              "    </div>\n",
              "  </div>\n"
            ]
          },
          "metadata": {},
          "execution_count": 5
        }
      ]
    },
    {
      "cell_type": "markdown",
      "metadata": {
        "id": "HrTLgE0tki6P"
      },
      "source": [
        "### **1.1. Nativo**"
      ]
    },
    {
      "cell_type": "markdown",
      "metadata": {
        "id": "7tIjNOs8q6aZ"
      },
      "source": [
        "Neste primeira atividade, você deve ler o código abaixo implementado em Python nativo e responder a seguinte pergunta:"
      ]
    },
    {
      "cell_type": "markdown",
      "metadata": {
        "id": "LH-VxJ__syZd"
      },
      "source": [
        "> O que o código abaixo computa?"
      ]
    },
    {
      "cell_type": "markdown",
      "metadata": {
        "id": "KEUTG1OIs0VN"
      },
      "source": [
        "**Resposta**: O Codigo abaixo calcula é exibe do número de incidentes por dia,\n",
        "em um intervalo de tempo."
      ]
    },
    {
      "cell_type": "code",
      "metadata": {
        "id": "IwTTh4VKkdKN",
        "colab": {
          "base_uri": "https://localhost:8080/"
        },
        "outputId": "7551192e-b078-40eb-d507-38b161fb8680"
      },
      "source": [
        "# -- read\n",
        "\n",
        "data = None\n",
        "\n",
        "with open(file='traffic.csv', mode='r', encoding='utf8') as fp:\n",
        "\n",
        "  fp.readline()\n",
        "  data = fp.read()\n",
        "\n",
        "# -- analytics\n",
        "\n",
        "day = 14\n",
        "incidents = 0\n",
        "incident_by_day = dict()\n",
        "\n",
        "for timebox in data.split(sep='\\n'):\n",
        "\n",
        "  timebox_data = timebox.split(sep=';')\n",
        "\n",
        "  # --\n",
        "  # -- inicio da computação escalar\n",
        "  # --\n",
        "\n",
        "  for incident in timebox_data[1: len(timebox_data)-1]:\n",
        "    incidents = incidents + int(incident)\n",
        "\n",
        "  # --\n",
        "  # -- fim da computação escalar\n",
        "  # --\n",
        "\n",
        "  try:\n",
        "\n",
        "    half_hour = int(timebox_data[0])\n",
        "\n",
        "    if half_hour == 27:\n",
        "      incident_by_day[day] = incidents\n",
        "      day = day + 1\n",
        "      incidents = 0\n",
        "\n",
        "  except ValueError:\n",
        "    continue\n",
        "\n",
        "# -- results\n",
        "\n",
        "for day in incident_by_day:\n",
        "\n",
        "  print(f'{day}: {incident_by_day[day]}')"
      ],
      "execution_count": 38,
      "outputs": [
        {
          "output_type": "stream",
          "name": "stdout",
          "text": [
            "14: 16\n",
            "15: 63\n",
            "16: 94\n",
            "17: 82\n",
            "18: 85\n"
          ]
        }
      ]
    },
    {
      "cell_type": "markdown",
      "metadata": {
        "id": "TTh7w8rgkznY"
      },
      "source": [
        "### **1.2. NumPy**"
      ]
    },
    {
      "cell_type": "markdown",
      "metadata": {
        "id": "clBerimQs2PY"
      },
      "source": [
        "Substitua o trecho do código do algoritmo que utiliza da **computação escalar** por um que utiliza da **computação vetorial**. Use o pacote NumPy."
      ]
    },
    {
      "cell_type": "code",
      "source": [
        "\n",
        "import numpy as np\n"
      ],
      "metadata": {
        "id": "CIZvUpd53naW"
      },
      "execution_count": null,
      "outputs": []
    },
    {
      "cell_type": "code",
      "metadata": {
        "id": "fohdVuLzkdKP",
        "colab": {
          "base_uri": "https://localhost:8080/"
        },
        "outputId": "31bda3dc-0691-44d9-e841-a214e389eb27"
      },
      "source": [
        "# -- read\n",
        "\n",
        "data = None\n",
        "\n",
        "with open(file='traffic.csv', mode='r', encoding='utf8') as fp:\n",
        "\n",
        "  fp.readline()\n",
        "  data = fp.read()\n",
        "\n",
        "# -- analytics\n",
        "\n",
        "day = 14\n",
        "incidents = 0\n",
        "incident_by_day = dict()\n",
        "\n",
        "for timebox in data.split(sep='\\n'):\n",
        "\n",
        "  timebox_data = timebox.split(sep=';')\n",
        "\n",
        "  # --\n",
        "  # -- inicio da computação vetorial\n",
        "  # --\n",
        "\n",
        "\n",
        "  incident = np.array(timebox_data[1:-1],dtype=int)\n",
        "  incidents += np.sum(incident)\n",
        "\n",
        "\n",
        "  #print(incidents)\n",
        "  #print(incident_by_day)\n",
        "  #total_incidents =  np.sum(incident_array)\n",
        "\n",
        "\n",
        "  # --\n",
        "  # -- fim da computação vetorial\n",
        "  # --\n",
        "\n",
        "  try:\n",
        "\n",
        "    half_hour = int(timebox_data[0])\n",
        "\n",
        "    if half_hour == 27:\n",
        "      incident_by_day[day] = incidents\n",
        "      day = day + 1\n",
        "      incidents = 0\n",
        "\n",
        "  except ValueError:\n",
        "    continue\n",
        "\n",
        "# -- results\n",
        "\n",
        "for day in incident_by_day:\n",
        "\n",
        "  print(f'Dia {day}: {incident_by_day[day]} ocorrência')"
      ],
      "execution_count": 51,
      "outputs": [
        {
          "output_type": "stream",
          "name": "stdout",
          "text": [
            "Dia 14: 16 Ocorrencia\n",
            "Dia 15: 63 Ocorrencia\n",
            "Dia 16: 94 Ocorrencia\n",
            "Dia 17: 82 Ocorrencia\n",
            "Dia 18: 85 Ocorrencia\n"
          ]
        }
      ]
    },
    {
      "cell_type": "markdown",
      "metadata": {
        "id": "waxn4B2UDHyl"
      },
      "source": [
        "---"
      ]
    }
  ]
}